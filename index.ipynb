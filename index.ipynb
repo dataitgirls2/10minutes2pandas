{
 "cells": [
  {
   "cell_type": "markdown",
   "metadata": {
    "colab_type": "text",
    "id": "_SA4MsmkCMEL"
   },
   "source": [
    "# Pandas 10분 완성"
   ]
  },
  {
   "cell_type": "markdown",
   "metadata": {},
   "source": [
    "*역자 주 : 본 자료는 10 Minutes to Pandas(하단 원문 링크 참조)의 한글 번역 자료로, 번역은 데잇걸즈2 프로그램 교육생 모두가 함께 진행하였습니다. 데잇걸즈2는 과학기술정보통신부와 한국정보화진흥원이 주관하는 SW여성인재 빅데이터 분석 교육과정으로, 상세한 소개는 [홈페이지](http://dataitgirls2.pagedemo.co/)를 참조 부탁 드립니다.* <br>\n",
    "*본 자료의 저작권은 Creative Common License 기준으로 CC BY-NC-ND(저작자표시 - 비영리 - 변경금지)인 점을 참조하여 주세요.* <br><br>\n",
    "*This documentation is a Korean translation material of '10 Minutes to Pandas'. Every members of DATAITGIRLS2 program participated in the translation. If you want to know about DATAITGIRLS2 program, please visit [DATAITGIRLS2 program's homepage](http://dataitgirls2.pagedemo.co/).*<br>\n",
    "*The copyright conditions of this documentation are CC BY-NC-ND on Creative Common License basis.* <br><br>"
   ]
  },
  {
   "cell_type": "markdown",
   "metadata": {
    "colab_type": "text",
    "id": "q3iuQdonkHB5"
   },
   "source": [
    "*역자 주(참조 자료) : [10 Minuts to Pandas 원문](https://pandas.pydata.org/pandas-docs/stable/10min.html), [판다스 개발자의 PyCon Korea 2016 발표 : Keynote](https://www.youtube.com/watch?v=O5uFF1H0R0M), [Pandas 10분 완성 원문의 인터넷 강의 영상](https://vimeo.com/59324550), [Pandas Cheat Sheet](http://pandas.pydata.org/Pandas_Cheat_Sheet.pdf)* <br><br><br>\n"
   ]
  },
  {
   "cell_type": "markdown",
   "metadata": {
    "colab_type": "text",
    "id": "6vTEdOiaLNf5"
   },
   "source": [
    "이 소개서는 주로 신규 사용자를 대상으로 한 판다스에 대한 간략한 소개입니다. 더 복잡한 방법은 [Cookbook](https://pandas.pydata.org/pandas-docs/stable/cookbook.html#cookbook) 에서 볼 수 있습니다.\n",
    "\n",
    "\n",
    "일반적으로 다음과 같이 불러옵니다."
   ]
  },
  {
   "cell_type": "code",
   "execution_count": 3,
   "metadata": {
    "colab": {
     "autoexec": {
      "startup": false,
      "wait_interval": 0
     }
    },
    "colab_type": "code",
    "id": "u8AvydKWLNf6"
   },
   "outputs": [],
   "source": [
    "import pandas as pd"
   ]
  },
  {
   "cell_type": "code",
   "execution_count": 4,
   "metadata": {
    "colab": {
     "autoexec": {
      "startup": false,
      "wait_interval": 0
     }
    },
    "colab_type": "code",
    "id": "gt_2tMD2LNf9"
   },
   "outputs": [],
   "source": [
    "import numpy as np"
   ]
  },
  {
   "cell_type": "code",
   "execution_count": 5,
   "metadata": {
    "colab": {
     "autoexec": {
      "startup": false,
      "wait_interval": 0
     }
    },
    "colab_type": "code",
    "id": "y6Eq4MTnLNf_"
   },
   "outputs": [],
   "source": [
    "import matplotlib.pyplot as plt"
   ]
  },
  {
   "cell_type": "markdown",
   "metadata": {
    "colab_type": "text",
    "id": "X9rrAHzu2Vab"
   },
   "source": [
    "## Object Creation (객체 생성)"
   ]
  },
  {
   "cell_type": "markdown",
   "metadata": {
    "colab_type": "text",
    "id": "5hgd3fkZ3DKl"
   },
   "source": [
    "[데이터 구조 소개 섹션](https://pandas.pydata.org/pandas-docs/stable/dsintro.html#dsintro)을 참조하세요.\n",
    "\n",
    "pandas는 값을 가지고 있는 리스트를 통해 [시리즈](https://pandas.pydata.org/pandas-docs/stable/generated/pandas.Series.html#pandas.Series)를 만들고, 정수로 만들어진 인덱스를 기본값으로 불러올 것입니다."
   ]
  },
  {
   "cell_type": "code",
   "execution_count": 6,
   "metadata": {
    "colab": {
     "autoexec": {
      "startup": false,
      "wait_interval": 0
     }
    },
    "colab_type": "code",
    "id": "qg9Rcvn83IIA"
   },
   "outputs": [],
   "source": [
    "s = pd.Series([1,3,5,np.nan,6,8])"
   ]
  },
  {
   "cell_type": "code",
   "execution_count": 7,
   "metadata": {
    "colab": {
     "autoexec": {
      "startup": false,
      "wait_interval": 0
     },
     "base_uri": "https://localhost:8080/",
     "height": 136
    },
    "colab_type": "code",
    "executionInfo": {
     "elapsed": 632,
     "status": "ok",
     "timestamp": 1532334535606,
     "user": {
      "displayName": "권가빈",
      "photoUrl": "https://lh3.googleusercontent.com/a/default-user=s128",
      "userId": "109193529486601049145"
     },
     "user_tz": -540
    },
    "id": "ulVQdi2w3J98",
    "outputId": "73a5183c-ea76-40ab-970c-4757b2590506"
   },
   "outputs": [
    {
     "data": {
      "text/plain": [
       "0    1.0\n",
       "1    3.0\n",
       "2    5.0\n",
       "3    NaN\n",
       "4    6.0\n",
       "5    8.0\n",
       "dtype: float64"
      ]
     },
     "execution_count": 7,
     "metadata": {},
     "output_type": "execute_result"
    }
   ],
   "source": [
    "s"
   ]
  },
  {
   "cell_type": "markdown",
   "metadata": {
    "colab_type": "text",
    "id": "lea8Y7Rq3tWL"
   },
   "source": [
    "datetime 인덱스와 레이블이 있는 열을 가지고 있는 NumPy 배열을 전달하여 데이터프레임을 만듭니다."
   ]
  },
  {
   "cell_type": "code",
   "execution_count": 8,
   "metadata": {
    "colab": {
     "autoexec": {
      "startup": false,
      "wait_interval": 0
     }
    },
    "colab_type": "code",
    "id": "Cj4sCmrH3R71"
   },
   "outputs": [],
   "source": [
    "dates = pd.date_range('20130101', periods=6)"
   ]
  },
  {
   "cell_type": "code",
   "execution_count": 9,
   "metadata": {
    "colab": {
     "autoexec": {
      "startup": false,
      "wait_interval": 0
     },
     "base_uri": "https://localhost:8080/",
     "height": 68
    },
    "colab_type": "code",
    "executionInfo": {
     "elapsed": 912,
     "status": "ok",
     "timestamp": 1532334579875,
     "user": {
      "displayName": "권가빈",
      "photoUrl": "https://lh3.googleusercontent.com/a/default-user=s128",
      "userId": "109193529486601049145"
     },
     "user_tz": -540
    },
    "id": "yM54opp63Sfg",
    "outputId": "4dafa7f0-14f2-485d-db68-971f60d8e0c6"
   },
   "outputs": [
    {
     "data": {
      "text/plain": [
       "DatetimeIndex(['2013-01-01', '2013-01-02', '2013-01-03', '2013-01-04',\n",
       "               '2013-01-05', '2013-01-06'],\n",
       "              dtype='datetime64[ns]', freq='D')"
      ]
     },
     "execution_count": 9,
     "metadata": {},
     "output_type": "execute_result"
    }
   ],
   "source": [
    "dates"
   ]
  },
  {
   "cell_type": "code",
   "execution_count": 10,
   "metadata": {
    "colab": {
     "autoexec": {
      "startup": false,
      "wait_interval": 0
     }
    },
    "colab_type": "code",
    "id": "YQCGP5R43XVT"
   },
   "outputs": [],
   "source": [
    "df = pd.DataFrame(np.random.randn(6,4), index=dates, columns=list('ABCD'))"
   ]
  },
  {
   "cell_type": "code",
   "execution_count": 11,
   "metadata": {
    "colab": {
     "autoexec": {
      "startup": false,
      "wait_interval": 0
     },
     "base_uri": "https://localhost:8080/",
     "height": 235
    },
    "colab_type": "code",
    "executionInfo": {
     "elapsed": 2288,
     "status": "ok",
     "timestamp": 1532334586906,
     "user": {
      "displayName": "권가빈",
      "photoUrl": "https://lh3.googleusercontent.com/a/default-user=s128",
      "userId": "109193529486601049145"
     },
     "user_tz": -540
    },
    "id": "fkU_8Hwg3ZTg",
    "outputId": "52d1fc15-f3fd-42d2-9d29-c0e7fe9e2a58"
   },
   "outputs": [
    {
     "data": {
      "text/html": [
       "<div>\n",
       "<style scoped>\n",
       "    .dataframe tbody tr th:only-of-type {\n",
       "        vertical-align: middle;\n",
       "    }\n",
       "\n",
       "    .dataframe tbody tr th {\n",
       "        vertical-align: top;\n",
       "    }\n",
       "\n",
       "    .dataframe thead th {\n",
       "        text-align: right;\n",
       "    }\n",
       "</style>\n",
       "<table border=\"1\" class=\"dataframe\">\n",
       "  <thead>\n",
       "    <tr style=\"text-align: right;\">\n",
       "      <th></th>\n",
       "      <th>A</th>\n",
       "      <th>B</th>\n",
       "      <th>C</th>\n",
       "      <th>D</th>\n",
       "    </tr>\n",
       "  </thead>\n",
       "  <tbody>\n",
       "    <tr>\n",
       "      <th>2013-01-01</th>\n",
       "      <td>1.203664</td>\n",
       "      <td>0.035199</td>\n",
       "      <td>-0.516512</td>\n",
       "      <td>-1.651954</td>\n",
       "    </tr>\n",
       "    <tr>\n",
       "      <th>2013-01-02</th>\n",
       "      <td>-0.935893</td>\n",
       "      <td>0.854944</td>\n",
       "      <td>-0.814971</td>\n",
       "      <td>-0.333447</td>\n",
       "    </tr>\n",
       "    <tr>\n",
       "      <th>2013-01-03</th>\n",
       "      <td>-2.364223</td>\n",
       "      <td>-2.187468</td>\n",
       "      <td>1.018928</td>\n",
       "      <td>1.252907</td>\n",
       "    </tr>\n",
       "    <tr>\n",
       "      <th>2013-01-04</th>\n",
       "      <td>-2.214020</td>\n",
       "      <td>0.361885</td>\n",
       "      <td>-0.390074</td>\n",
       "      <td>-0.497004</td>\n",
       "    </tr>\n",
       "    <tr>\n",
       "      <th>2013-01-05</th>\n",
       "      <td>1.387345</td>\n",
       "      <td>-0.443100</td>\n",
       "      <td>-0.540677</td>\n",
       "      <td>-0.370186</td>\n",
       "    </tr>\n",
       "    <tr>\n",
       "      <th>2013-01-06</th>\n",
       "      <td>0.222998</td>\n",
       "      <td>-1.308863</td>\n",
       "      <td>0.433432</td>\n",
       "      <td>0.409407</td>\n",
       "    </tr>\n",
       "  </tbody>\n",
       "</table>\n",
       "</div>"
      ],
      "text/plain": [
       "                   A         B         C         D\n",
       "2013-01-01  1.203664  0.035199 -0.516512 -1.651954\n",
       "2013-01-02 -0.935893  0.854944 -0.814971 -0.333447\n",
       "2013-01-03 -2.364223 -2.187468  1.018928  1.252907\n",
       "2013-01-04 -2.214020  0.361885 -0.390074 -0.497004\n",
       "2013-01-05  1.387345 -0.443100 -0.540677 -0.370186\n",
       "2013-01-06  0.222998 -1.308863  0.433432  0.409407"
      ]
     },
     "execution_count": 11,
     "metadata": {},
     "output_type": "execute_result"
    }
   ],
   "source": [
    "df"
   ]
  },
  {
   "cell_type": "markdown",
   "metadata": {
    "colab_type": "text",
    "id": "rYnipdkELNgC"
   },
   "source": [
    "시리즈와 같은 것으로 변환될 수 있는 객체들의 dict로 구성된 데이터프레임을 만듭니다."
   ]
  },
  {
   "cell_type": "code",
   "execution_count": 12,
   "metadata": {
    "colab": {
     "autoexec": {
      "startup": false,
      "wait_interval": 0
     }
    },
    "colab_type": "code",
    "id": "cKpPtOIVLNgC"
   },
   "outputs": [],
   "source": [
    "df2 = pd.DataFrame({'A' : 1.,\n",
    "                    'B' : pd.Timestamp('20130102'),\n",
    "                    'C' : pd.Series(1,index=list(range(4)),dtype='float32'),\n",
    "                    'D' : np.array([3] * 4,dtype='int32'),\n",
    "                    'E' : pd.Categorical([\"test\",\"train\",\"test\",\"train\"]),\n",
    "                    'F' : 'foo' })"
   ]
  },
  {
   "cell_type": "code",
   "execution_count": 13,
   "metadata": {
    "colab": {
     "autoexec": {
      "startup": false,
      "wait_interval": 0
     },
     "base_uri": "https://localhost:8080/",
     "height": 173
    },
    "colab_type": "code",
    "executionInfo": {
     "elapsed": 813,
     "status": "ok",
     "timestamp": 1532334596953,
     "user": {
      "displayName": "권가빈",
      "photoUrl": "https://lh3.googleusercontent.com/a/default-user=s128",
      "userId": "109193529486601049145"
     },
     "user_tz": -540
    },
    "id": "QDm61ULjLNgE",
    "outputId": "9cfd54fd-5da4-454f-e67f-6ce60ea4b41a"
   },
   "outputs": [
    {
     "data": {
      "text/html": [
       "<div>\n",
       "<style scoped>\n",
       "    .dataframe tbody tr th:only-of-type {\n",
       "        vertical-align: middle;\n",
       "    }\n",
       "\n",
       "    .dataframe tbody tr th {\n",
       "        vertical-align: top;\n",
       "    }\n",
       "\n",
       "    .dataframe thead th {\n",
       "        text-align: right;\n",
       "    }\n",
       "</style>\n",
       "<table border=\"1\" class=\"dataframe\">\n",
       "  <thead>\n",
       "    <tr style=\"text-align: right;\">\n",
       "      <th></th>\n",
       "      <th>A</th>\n",
       "      <th>B</th>\n",
       "      <th>C</th>\n",
       "      <th>D</th>\n",
       "      <th>E</th>\n",
       "      <th>F</th>\n",
       "    </tr>\n",
       "  </thead>\n",
       "  <tbody>\n",
       "    <tr>\n",
       "      <th>0</th>\n",
       "      <td>1.0</td>\n",
       "      <td>2013-01-02</td>\n",
       "      <td>1.0</td>\n",
       "      <td>3</td>\n",
       "      <td>test</td>\n",
       "      <td>foo</td>\n",
       "    </tr>\n",
       "    <tr>\n",
       "      <th>1</th>\n",
       "      <td>1.0</td>\n",
       "      <td>2013-01-02</td>\n",
       "      <td>1.0</td>\n",
       "      <td>3</td>\n",
       "      <td>train</td>\n",
       "      <td>foo</td>\n",
       "    </tr>\n",
       "    <tr>\n",
       "      <th>2</th>\n",
       "      <td>1.0</td>\n",
       "      <td>2013-01-02</td>\n",
       "      <td>1.0</td>\n",
       "      <td>3</td>\n",
       "      <td>test</td>\n",
       "      <td>foo</td>\n",
       "    </tr>\n",
       "    <tr>\n",
       "      <th>3</th>\n",
       "      <td>1.0</td>\n",
       "      <td>2013-01-02</td>\n",
       "      <td>1.0</td>\n",
       "      <td>3</td>\n",
       "      <td>train</td>\n",
       "      <td>foo</td>\n",
       "    </tr>\n",
       "  </tbody>\n",
       "</table>\n",
       "</div>"
      ],
      "text/plain": [
       "     A          B    C  D      E    F\n",
       "0  1.0 2013-01-02  1.0  3   test  foo\n",
       "1  1.0 2013-01-02  1.0  3  train  foo\n",
       "2  1.0 2013-01-02  1.0  3   test  foo\n",
       "3  1.0 2013-01-02  1.0  3  train  foo"
      ]
     },
     "execution_count": 13,
     "metadata": {},
     "output_type": "execute_result"
    }
   ],
   "source": [
    "df2"
   ]
  },
  {
   "cell_type": "markdown",
   "metadata": {
    "colab_type": "text",
    "id": "Hlagj-SMLNgI"
   },
   "source": [
    "데이터프레임 결과물의 열은 다양한 데이터 타입(dtypes)으로 구성됩니다."
   ]
  },
  {
   "cell_type": "code",
   "execution_count": 14,
   "metadata": {
    "colab": {
     "autoexec": {
      "startup": false,
      "wait_interval": 0
     },
     "base_uri": "https://localhost:8080/",
     "height": 136
    },
    "colab_type": "code",
    "executionInfo": {
     "elapsed": 632,
     "status": "ok",
     "timestamp": 1532334600935,
     "user": {
      "displayName": "권가빈",
      "photoUrl": "https://lh3.googleusercontent.com/a/default-user=s128",
      "userId": "109193529486601049145"
     },
     "user_tz": -540
    },
    "id": "eFzVncepLNgJ",
    "outputId": "e1349be2-e61b-4479-990f-092f7a3ea9db"
   },
   "outputs": [
    {
     "data": {
      "text/plain": [
       "A           float64\n",
       "B    datetime64[ns]\n",
       "C           float32\n",
       "D             int32\n",
       "E          category\n",
       "F            object\n",
       "dtype: object"
      ]
     },
     "execution_count": 14,
     "metadata": {},
     "output_type": "execute_result"
    }
   ],
   "source": [
    "df2.dtypes"
   ]
  },
  {
   "cell_type": "markdown",
   "metadata": {
    "colab_type": "text",
    "id": "oOt1V164LNgN"
   },
   "source": [
    "IPython을 이용하고 계시다면, (공용 속성을 포함한) 열 이름에 대한 Tap 자동완성 기능이 자동으로 활성화됩니다. <br>\n",
    "다음은 완성될 속성에 대한 부분집합(subset)입니다. \n",
    "\n",
    "*역자 주 : 아래 제시된 코드의 경우, IPython이 아닌 환경(Google Colaboratory, Jupyter 등)에서는 사용이 불가능한 코드인 점에 주의하세요.*"
   ]
  },
  {
   "cell_type": "code",
   "execution_count": 15,
   "metadata": {
    "colab": {
     "autoexec": {
      "startup": false,
      "wait_interval": 0
     }
    },
    "colab_type": "code",
    "id": "Me53oH4ZkZHt"
   },
   "outputs": [],
   "source": [
    "# df2.<TAB>"
   ]
  },
  {
   "cell_type": "markdown",
   "metadata": {
    "colab_type": "text",
    "id": "Itt3P3rQ5DV-"
   },
   "source": [
    "*역자 주 : IPython에서 실행하면 다음과 같은 결과값이 나옵니다.*\n",
    "\n",
    "```\n",
    "df2.A                  df2.bool\n",
    "df2.abs                df2.boxplot\n",
    "df2.add                df2.C\n",
    "df2.add_prefix         df2.clip\n",
    "df2.add_suffix         df2.clip_lower\n",
    "df2.align              df2.clip_upper\n",
    "df2.all                df2.columns\n",
    "df2.any                df2.combine\n",
    "df2.append             df2.combine_first\n",
    "df2.apply              df2.compound\n",
    "df2.applymap           df2.consolidate\n",
    "df2.D\n",
    "```"
   ]
  },
  {
   "cell_type": "markdown",
   "metadata": {
    "colab_type": "text",
    "id": "YHLdSINuLNgS"
   },
   "source": [
    "보시다시피, A, B, C 그리고 D 열이 Tab 자동완성 기능으로 실행됩니다. 물론 E도 있습니다. 나머지 속성들은 간결하게 잘라버렸습니다. "
   ]
  },
  {
   "cell_type": "markdown",
   "metadata": {
    "colab_type": "text",
    "id": "lkJcyM0ILNgT"
   },
   "source": [
    "## Viewing Data(데이터 확인하기)"
   ]
  },
  {
   "cell_type": "markdown",
   "metadata": {
    "colab_type": "text",
    "id": "2108prOVLNgY"
   },
   "source": [
    "[Basic Section](https://pandas.pydata.org/pandas-docs/stable/basics.html#basics)을 참조하세요.\n",
    "\n",
    "데이터프레임의 가장 윗 줄과 마지막 줄을 확인하고 싶을 때에 사용하는 방법은 다음과 같습니다. <br>\n",
    "\n",
    "*역자 주 <br>\n",
    "괄호()안에는 숫자가 들어갈 수도 있고 안 들어갈 수도 있습니다. <br>\n",
    "숫자가 들어간다면, 윗/마지막 줄의 특정 줄을 불러올 수 있습니다. <br>\n",
    "숫자가 들어가지 않다면, 기본값인 5로 처리됩니다.*\n",
    "\n",
    "*예시 <br>\n",
    "df.tail(3) - 끝에서 마지막 3줄을 불러옴 <br>\n",
    "df.tail() - 끝에서 마지막 5줄 불러옴*"
   ]
  },
  {
   "cell_type": "code",
   "execution_count": 16,
   "metadata": {
    "colab": {
     "autoexec": {
      "startup": false,
      "wait_interval": 0
     },
     "base_uri": "https://localhost:8080/",
     "height": 204
    },
    "colab_type": "code",
    "executionInfo": {
     "elapsed": 2881,
     "status": "ok",
     "timestamp": 1532272790793,
     "user": {
      "displayName": "EUNJI LEE",
      "photoUrl": "//lh5.googleusercontent.com/-Af1nbBVMBUM/AAAAAAAAAAI/AAAAAAAAAG8/Q6xuMVAUbHk/s50-c-k-no/photo.jpg",
      "userId": "113493488780737428858"
     },
     "user_tz": -540
    },
    "id": "bW82qnwBLNga",
    "outputId": "fc91d05a-3894-48c7-fcb7-b2a7e6298580"
   },
   "outputs": [
    {
     "data": {
      "text/html": [
       "<div>\n",
       "<style scoped>\n",
       "    .dataframe tbody tr th:only-of-type {\n",
       "        vertical-align: middle;\n",
       "    }\n",
       "\n",
       "    .dataframe tbody tr th {\n",
       "        vertical-align: top;\n",
       "    }\n",
       "\n",
       "    .dataframe thead th {\n",
       "        text-align: right;\n",
       "    }\n",
       "</style>\n",
       "<table border=\"1\" class=\"dataframe\">\n",
       "  <thead>\n",
       "    <tr style=\"text-align: right;\">\n",
       "      <th></th>\n",
       "      <th>A</th>\n",
       "      <th>B</th>\n",
       "      <th>C</th>\n",
       "      <th>D</th>\n",
       "    </tr>\n",
       "  </thead>\n",
       "  <tbody>\n",
       "    <tr>\n",
       "      <th>2013-01-01</th>\n",
       "      <td>1.203664</td>\n",
       "      <td>0.035199</td>\n",
       "      <td>-0.516512</td>\n",
       "      <td>-1.651954</td>\n",
       "    </tr>\n",
       "    <tr>\n",
       "      <th>2013-01-02</th>\n",
       "      <td>-0.935893</td>\n",
       "      <td>0.854944</td>\n",
       "      <td>-0.814971</td>\n",
       "      <td>-0.333447</td>\n",
       "    </tr>\n",
       "    <tr>\n",
       "      <th>2013-01-03</th>\n",
       "      <td>-2.364223</td>\n",
       "      <td>-2.187468</td>\n",
       "      <td>1.018928</td>\n",
       "      <td>1.252907</td>\n",
       "    </tr>\n",
       "    <tr>\n",
       "      <th>2013-01-04</th>\n",
       "      <td>-2.214020</td>\n",
       "      <td>0.361885</td>\n",
       "      <td>-0.390074</td>\n",
       "      <td>-0.497004</td>\n",
       "    </tr>\n",
       "    <tr>\n",
       "      <th>2013-01-05</th>\n",
       "      <td>1.387345</td>\n",
       "      <td>-0.443100</td>\n",
       "      <td>-0.540677</td>\n",
       "      <td>-0.370186</td>\n",
       "    </tr>\n",
       "  </tbody>\n",
       "</table>\n",
       "</div>"
      ],
      "text/plain": [
       "                   A         B         C         D\n",
       "2013-01-01  1.203664  0.035199 -0.516512 -1.651954\n",
       "2013-01-02 -0.935893  0.854944 -0.814971 -0.333447\n",
       "2013-01-03 -2.364223 -2.187468  1.018928  1.252907\n",
       "2013-01-04 -2.214020  0.361885 -0.390074 -0.497004\n",
       "2013-01-05  1.387345 -0.443100 -0.540677 -0.370186"
      ]
     },
     "execution_count": 16,
     "metadata": {},
     "output_type": "execute_result"
    }
   ],
   "source": [
    "df.head()"
   ]
  },
  {
   "cell_type": "code",
   "execution_count": 17,
   "metadata": {
    "colab": {
     "autoexec": {
      "startup": false,
      "wait_interval": 0
     },
     "base_uri": "https://localhost:8080/",
     "height": 142
    },
    "colab_type": "code",
    "executionInfo": {
     "elapsed": 1156,
     "status": "ok",
     "timestamp": 1532272793257,
     "user": {
      "displayName": "EUNJI LEE",
      "photoUrl": "//lh5.googleusercontent.com/-Af1nbBVMBUM/AAAAAAAAAAI/AAAAAAAAAG8/Q6xuMVAUbHk/s50-c-k-no/photo.jpg",
      "userId": "113493488780737428858"
     },
     "user_tz": -540
    },
    "id": "mDFQ0TnFLNgg",
    "outputId": "2f9c9eac-68dd-4d1a-b92b-19bf97bc6212"
   },
   "outputs": [
    {
     "data": {
      "text/html": [
       "<div>\n",
       "<style scoped>\n",
       "    .dataframe tbody tr th:only-of-type {\n",
       "        vertical-align: middle;\n",
       "    }\n",
       "\n",
       "    .dataframe tbody tr th {\n",
       "        vertical-align: top;\n",
       "    }\n",
       "\n",
       "    .dataframe thead th {\n",
       "        text-align: right;\n",
       "    }\n",
       "</style>\n",
       "<table border=\"1\" class=\"dataframe\">\n",
       "  <thead>\n",
       "    <tr style=\"text-align: right;\">\n",
       "      <th></th>\n",
       "      <th>A</th>\n",
       "      <th>B</th>\n",
       "      <th>C</th>\n",
       "      <th>D</th>\n",
       "    </tr>\n",
       "  </thead>\n",
       "  <tbody>\n",
       "    <tr>\n",
       "      <th>2013-01-04</th>\n",
       "      <td>-2.214020</td>\n",
       "      <td>0.361885</td>\n",
       "      <td>-0.390074</td>\n",
       "      <td>-0.497004</td>\n",
       "    </tr>\n",
       "    <tr>\n",
       "      <th>2013-01-05</th>\n",
       "      <td>1.387345</td>\n",
       "      <td>-0.443100</td>\n",
       "      <td>-0.540677</td>\n",
       "      <td>-0.370186</td>\n",
       "    </tr>\n",
       "    <tr>\n",
       "      <th>2013-01-06</th>\n",
       "      <td>0.222998</td>\n",
       "      <td>-1.308863</td>\n",
       "      <td>0.433432</td>\n",
       "      <td>0.409407</td>\n",
       "    </tr>\n",
       "  </tbody>\n",
       "</table>\n",
       "</div>"
      ],
      "text/plain": [
       "                   A         B         C         D\n",
       "2013-01-04 -2.214020  0.361885 -0.390074 -0.497004\n",
       "2013-01-05  1.387345 -0.443100 -0.540677 -0.370186\n",
       "2013-01-06  0.222998 -1.308863  0.433432  0.409407"
      ]
     },
     "execution_count": 17,
     "metadata": {},
     "output_type": "execute_result"
    }
   ],
   "source": [
    "df.tail(3)"
   ]
  },
  {
   "cell_type": "markdown",
   "metadata": {
    "colab_type": "text",
    "id": "GAZJV4orLNgj"
   },
   "source": [
    "인덱스(Index), 열(Column) 그리고 NumPy 데이터에 대한 세부 정보를 봅니다."
   ]
  },
  {
   "cell_type": "code",
   "execution_count": 18,
   "metadata": {
    "colab": {
     "autoexec": {
      "startup": false,
      "wait_interval": 0
     },
     "base_uri": "https://localhost:8080/",
     "height": 71
    },
    "colab_type": "code",
    "executionInfo": {
     "elapsed": 3418,
     "status": "ok",
     "timestamp": 1532272797643,
     "user": {
      "displayName": "EUNJI LEE",
      "photoUrl": "//lh5.googleusercontent.com/-Af1nbBVMBUM/AAAAAAAAAAI/AAAAAAAAAG8/Q6xuMVAUbHk/s50-c-k-no/photo.jpg",
      "userId": "113493488780737428858"
     },
     "user_tz": -540
    },
    "id": "QjyY5q21LNgj",
    "outputId": "fbd38331-6daf-4598-f892-654cb3d3c90a"
   },
   "outputs": [
    {
     "data": {
      "text/plain": [
       "DatetimeIndex(['2013-01-01', '2013-01-02', '2013-01-03', '2013-01-04',\n",
       "               '2013-01-05', '2013-01-06'],\n",
       "              dtype='datetime64[ns]', freq='D')"
      ]
     },
     "execution_count": 18,
     "metadata": {},
     "output_type": "execute_result"
    }
   ],
   "source": [
    "df.index"
   ]
  },
  {
   "cell_type": "code",
   "execution_count": 19,
   "metadata": {
    "colab": {
     "autoexec": {
      "startup": false,
      "wait_interval": 0
     },
     "base_uri": "https://localhost:8080/",
     "height": 35
    },
    "colab_type": "code",
    "executionInfo": {
     "elapsed": 2275,
     "status": "ok",
     "timestamp": 1532272802771,
     "user": {
      "displayName": "EUNJI LEE",
      "photoUrl": "//lh5.googleusercontent.com/-Af1nbBVMBUM/AAAAAAAAAAI/AAAAAAAAAG8/Q6xuMVAUbHk/s50-c-k-no/photo.jpg",
      "userId": "113493488780737428858"
     },
     "user_tz": -540
    },
    "id": "uMLtdmlTLNgm",
    "outputId": "9677a10f-0e06-488f-917e-474cbc26d20a"
   },
   "outputs": [
    {
     "data": {
      "text/plain": [
       "Index(['A', 'B', 'C', 'D'], dtype='object')"
      ]
     },
     "execution_count": 19,
     "metadata": {},
     "output_type": "execute_result"
    }
   ],
   "source": [
    "df.columns"
   ]
  },
  {
   "cell_type": "code",
   "execution_count": 20,
   "metadata": {
    "colab": {
     "autoexec": {
      "startup": false,
      "wait_interval": 0
     },
     "base_uri": "https://localhost:8080/",
     "height": 125
    },
    "colab_type": "code",
    "executionInfo": {
     "elapsed": 1771,
     "status": "ok",
     "timestamp": 1532272806357,
     "user": {
      "displayName": "EUNJI LEE",
      "photoUrl": "//lh5.googleusercontent.com/-Af1nbBVMBUM/AAAAAAAAAAI/AAAAAAAAAG8/Q6xuMVAUbHk/s50-c-k-no/photo.jpg",
      "userId": "113493488780737428858"
     },
     "user_tz": -540
    },
    "id": "nyBJBmQ6LNgq",
    "outputId": "2fb20e09-f435-4663-d5b7-8f0cc4615fec"
   },
   "outputs": [
    {
     "data": {
      "text/plain": [
       "array([[ 1.20366414,  0.03519932, -0.51651206, -1.65195383],\n",
       "       [-0.93589333,  0.85494382, -0.81497074, -0.33344655],\n",
       "       [-2.36422326, -2.18746816,  1.01892836,  1.25290739],\n",
       "       [-2.21401998,  0.36188549, -0.390074  , -0.49700376],\n",
       "       [ 1.38734459, -0.44310022, -0.54067692, -0.37018639],\n",
       "       [ 0.22299798, -1.30886252,  0.43343249,  0.40940659]])"
      ]
     },
     "execution_count": 20,
     "metadata": {},
     "output_type": "execute_result"
    }
   ],
   "source": [
    "df.values"
   ]
  },
  {
   "cell_type": "markdown",
   "metadata": {
    "colab_type": "text",
    "id": "_ZTvIW8iLNgt"
   },
   "source": [
    "[describe()](https://pandas.pydata.org/pandas-docs/stable/generated/pandas.DataFrame.describe.html#pandas.DataFrame.describe)는 데이터의 대략적인 통계적 정보 요약을 보여줍니다."
   ]
  },
  {
   "cell_type": "code",
   "execution_count": 21,
   "metadata": {
    "colab": {
     "autoexec": {
      "startup": false,
      "wait_interval": 0
     },
     "base_uri": "https://localhost:8080/",
     "height": 297
    },
    "colab_type": "code",
    "executionInfo": {
     "elapsed": 1852,
     "status": "ok",
     "timestamp": 1532272809584,
     "user": {
      "displayName": "EUNJI LEE",
      "photoUrl": "//lh5.googleusercontent.com/-Af1nbBVMBUM/AAAAAAAAAAI/AAAAAAAAAG8/Q6xuMVAUbHk/s50-c-k-no/photo.jpg",
      "userId": "113493488780737428858"
     },
     "user_tz": -540
    },
    "id": "xZngU-19LNgt",
    "outputId": "37419a0f-11c9-47ee-af31-bce154215fdc"
   },
   "outputs": [
    {
     "data": {
      "text/html": [
       "<div>\n",
       "<style scoped>\n",
       "    .dataframe tbody tr th:only-of-type {\n",
       "        vertical-align: middle;\n",
       "    }\n",
       "\n",
       "    .dataframe tbody tr th {\n",
       "        vertical-align: top;\n",
       "    }\n",
       "\n",
       "    .dataframe thead th {\n",
       "        text-align: right;\n",
       "    }\n",
       "</style>\n",
       "<table border=\"1\" class=\"dataframe\">\n",
       "  <thead>\n",
       "    <tr style=\"text-align: right;\">\n",
       "      <th></th>\n",
       "      <th>A</th>\n",
       "      <th>B</th>\n",
       "      <th>C</th>\n",
       "      <th>D</th>\n",
       "    </tr>\n",
       "  </thead>\n",
       "  <tbody>\n",
       "    <tr>\n",
       "      <th>count</th>\n",
       "      <td>6.000000</td>\n",
       "      <td>6.000000</td>\n",
       "      <td>6.000000</td>\n",
       "      <td>6.000000</td>\n",
       "    </tr>\n",
       "    <tr>\n",
       "      <th>mean</th>\n",
       "      <td>-0.450022</td>\n",
       "      <td>-0.447900</td>\n",
       "      <td>-0.134979</td>\n",
       "      <td>-0.198379</td>\n",
       "    </tr>\n",
       "    <tr>\n",
       "      <th>std</th>\n",
       "      <td>1.647755</td>\n",
       "      <td>1.127290</td>\n",
       "      <td>0.706005</td>\n",
       "      <td>0.972158</td>\n",
       "    </tr>\n",
       "    <tr>\n",
       "      <th>min</th>\n",
       "      <td>-2.364223</td>\n",
       "      <td>-2.187468</td>\n",
       "      <td>-0.814971</td>\n",
       "      <td>-1.651954</td>\n",
       "    </tr>\n",
       "    <tr>\n",
       "      <th>25%</th>\n",
       "      <td>-1.894488</td>\n",
       "      <td>-1.092422</td>\n",
       "      <td>-0.534636</td>\n",
       "      <td>-0.465299</td>\n",
       "    </tr>\n",
       "    <tr>\n",
       "      <th>50%</th>\n",
       "      <td>-0.356448</td>\n",
       "      <td>-0.203950</td>\n",
       "      <td>-0.453293</td>\n",
       "      <td>-0.351816</td>\n",
       "    </tr>\n",
       "    <tr>\n",
       "      <th>75%</th>\n",
       "      <td>0.958498</td>\n",
       "      <td>0.280214</td>\n",
       "      <td>0.227556</td>\n",
       "      <td>0.223693</td>\n",
       "    </tr>\n",
       "    <tr>\n",
       "      <th>max</th>\n",
       "      <td>1.387345</td>\n",
       "      <td>0.854944</td>\n",
       "      <td>1.018928</td>\n",
       "      <td>1.252907</td>\n",
       "    </tr>\n",
       "  </tbody>\n",
       "</table>\n",
       "</div>"
      ],
      "text/plain": [
       "              A         B         C         D\n",
       "count  6.000000  6.000000  6.000000  6.000000\n",
       "mean  -0.450022 -0.447900 -0.134979 -0.198379\n",
       "std    1.647755  1.127290  0.706005  0.972158\n",
       "min   -2.364223 -2.187468 -0.814971 -1.651954\n",
       "25%   -1.894488 -1.092422 -0.534636 -0.465299\n",
       "50%   -0.356448 -0.203950 -0.453293 -0.351816\n",
       "75%    0.958498  0.280214  0.227556  0.223693\n",
       "max    1.387345  0.854944  1.018928  1.252907"
      ]
     },
     "execution_count": 21,
     "metadata": {},
     "output_type": "execute_result"
    }
   ],
   "source": [
    "df.describe()"
   ]
  },
  {
   "cell_type": "markdown",
   "metadata": {
    "colab_type": "text",
    "id": "nJd6ga6NA6E1"
   },
   "source": [
    "데이터를 전치합니다."
   ]
  },
  {
   "cell_type": "code",
   "execution_count": 22,
   "metadata": {
    "colab": {
     "autoexec": {
      "startup": false,
      "wait_interval": 0
     },
     "base_uri": "https://localhost:8080/",
     "height": 173
    },
    "colab_type": "code",
    "executionInfo": {
     "elapsed": 3233,
     "status": "ok",
     "timestamp": 1532272814699,
     "user": {
      "displayName": "EUNJI LEE",
      "photoUrl": "//lh5.googleusercontent.com/-Af1nbBVMBUM/AAAAAAAAAAI/AAAAAAAAAG8/Q6xuMVAUbHk/s50-c-k-no/photo.jpg",
      "userId": "113493488780737428858"
     },
     "user_tz": -540
    },
    "id": "_YcshrJjAsM4",
    "outputId": "e66a6676-f539-4315-a8b8-91b0b67156fd"
   },
   "outputs": [
    {
     "data": {
      "text/html": [
       "<div>\n",
       "<style scoped>\n",
       "    .dataframe tbody tr th:only-of-type {\n",
       "        vertical-align: middle;\n",
       "    }\n",
       "\n",
       "    .dataframe tbody tr th {\n",
       "        vertical-align: top;\n",
       "    }\n",
       "\n",
       "    .dataframe thead th {\n",
       "        text-align: right;\n",
       "    }\n",
       "</style>\n",
       "<table border=\"1\" class=\"dataframe\">\n",
       "  <thead>\n",
       "    <tr style=\"text-align: right;\">\n",
       "      <th></th>\n",
       "      <th>2013-01-01 00:00:00</th>\n",
       "      <th>2013-01-02 00:00:00</th>\n",
       "      <th>2013-01-03 00:00:00</th>\n",
       "      <th>2013-01-04 00:00:00</th>\n",
       "      <th>2013-01-05 00:00:00</th>\n",
       "      <th>2013-01-06 00:00:00</th>\n",
       "    </tr>\n",
       "  </thead>\n",
       "  <tbody>\n",
       "    <tr>\n",
       "      <th>A</th>\n",
       "      <td>1.203664</td>\n",
       "      <td>-0.935893</td>\n",
       "      <td>-2.364223</td>\n",
       "      <td>-2.214020</td>\n",
       "      <td>1.387345</td>\n",
       "      <td>0.222998</td>\n",
       "    </tr>\n",
       "    <tr>\n",
       "      <th>B</th>\n",
       "      <td>0.035199</td>\n",
       "      <td>0.854944</td>\n",
       "      <td>-2.187468</td>\n",
       "      <td>0.361885</td>\n",
       "      <td>-0.443100</td>\n",
       "      <td>-1.308863</td>\n",
       "    </tr>\n",
       "    <tr>\n",
       "      <th>C</th>\n",
       "      <td>-0.516512</td>\n",
       "      <td>-0.814971</td>\n",
       "      <td>1.018928</td>\n",
       "      <td>-0.390074</td>\n",
       "      <td>-0.540677</td>\n",
       "      <td>0.433432</td>\n",
       "    </tr>\n",
       "    <tr>\n",
       "      <th>D</th>\n",
       "      <td>-1.651954</td>\n",
       "      <td>-0.333447</td>\n",
       "      <td>1.252907</td>\n",
       "      <td>-0.497004</td>\n",
       "      <td>-0.370186</td>\n",
       "      <td>0.409407</td>\n",
       "    </tr>\n",
       "  </tbody>\n",
       "</table>\n",
       "</div>"
      ],
      "text/plain": [
       "   2013-01-01  2013-01-02  2013-01-03  2013-01-04  2013-01-05  2013-01-06\n",
       "A    1.203664   -0.935893   -2.364223   -2.214020    1.387345    0.222998\n",
       "B    0.035199    0.854944   -2.187468    0.361885   -0.443100   -1.308863\n",
       "C   -0.516512   -0.814971    1.018928   -0.390074   -0.540677    0.433432\n",
       "D   -1.651954   -0.333447    1.252907   -0.497004   -0.370186    0.409407"
      ]
     },
     "execution_count": 22,
     "metadata": {},
     "output_type": "execute_result"
    }
   ],
   "source": [
    "df.T"
   ]
  },
  {
   "cell_type": "markdown",
   "metadata": {
    "colab_type": "text",
    "id": "qgDNXgvsA_MB"
   },
   "source": [
    "축 별로 정렬합니다."
   ]
  },
  {
   "cell_type": "code",
   "execution_count": 23,
   "metadata": {
    "colab": {
     "autoexec": {
      "startup": false,
      "wait_interval": 0
     },
     "base_uri": "https://localhost:8080/",
     "height": 235
    },
    "colab_type": "code",
    "executionInfo": {
     "elapsed": 3230,
     "status": "ok",
     "timestamp": 1532272819450,
     "user": {
      "displayName": "EUNJI LEE",
      "photoUrl": "//lh5.googleusercontent.com/-Af1nbBVMBUM/AAAAAAAAAAI/AAAAAAAAAG8/Q6xuMVAUbHk/s50-c-k-no/photo.jpg",
      "userId": "113493488780737428858"
     },
     "user_tz": -540
    },
    "id": "Sd5qldouAuWG",
    "outputId": "b025209b-9f46-4325-a33f-59f3cdd6d46e"
   },
   "outputs": [
    {
     "data": {
      "text/html": [
       "<div>\n",
       "<style scoped>\n",
       "    .dataframe tbody tr th:only-of-type {\n",
       "        vertical-align: middle;\n",
       "    }\n",
       "\n",
       "    .dataframe tbody tr th {\n",
       "        vertical-align: top;\n",
       "    }\n",
       "\n",
       "    .dataframe thead th {\n",
       "        text-align: right;\n",
       "    }\n",
       "</style>\n",
       "<table border=\"1\" class=\"dataframe\">\n",
       "  <thead>\n",
       "    <tr style=\"text-align: right;\">\n",
       "      <th></th>\n",
       "      <th>D</th>\n",
       "      <th>C</th>\n",
       "      <th>B</th>\n",
       "      <th>A</th>\n",
       "    </tr>\n",
       "  </thead>\n",
       "  <tbody>\n",
       "    <tr>\n",
       "      <th>2013-01-01</th>\n",
       "      <td>-1.651954</td>\n",
       "      <td>-0.516512</td>\n",
       "      <td>0.035199</td>\n",
       "      <td>1.203664</td>\n",
       "    </tr>\n",
       "    <tr>\n",
       "      <th>2013-01-02</th>\n",
       "      <td>-0.333447</td>\n",
       "      <td>-0.814971</td>\n",
       "      <td>0.854944</td>\n",
       "      <td>-0.935893</td>\n",
       "    </tr>\n",
       "    <tr>\n",
       "      <th>2013-01-03</th>\n",
       "      <td>1.252907</td>\n",
       "      <td>1.018928</td>\n",
       "      <td>-2.187468</td>\n",
       "      <td>-2.364223</td>\n",
       "    </tr>\n",
       "    <tr>\n",
       "      <th>2013-01-04</th>\n",
       "      <td>-0.497004</td>\n",
       "      <td>-0.390074</td>\n",
       "      <td>0.361885</td>\n",
       "      <td>-2.214020</td>\n",
       "    </tr>\n",
       "    <tr>\n",
       "      <th>2013-01-05</th>\n",
       "      <td>-0.370186</td>\n",
       "      <td>-0.540677</td>\n",
       "      <td>-0.443100</td>\n",
       "      <td>1.387345</td>\n",
       "    </tr>\n",
       "    <tr>\n",
       "      <th>2013-01-06</th>\n",
       "      <td>0.409407</td>\n",
       "      <td>0.433432</td>\n",
       "      <td>-1.308863</td>\n",
       "      <td>0.222998</td>\n",
       "    </tr>\n",
       "  </tbody>\n",
       "</table>\n",
       "</div>"
      ],
      "text/plain": [
       "                   D         C         B         A\n",
       "2013-01-01 -1.651954 -0.516512  0.035199  1.203664\n",
       "2013-01-02 -0.333447 -0.814971  0.854944 -0.935893\n",
       "2013-01-03  1.252907  1.018928 -2.187468 -2.364223\n",
       "2013-01-04 -0.497004 -0.390074  0.361885 -2.214020\n",
       "2013-01-05 -0.370186 -0.540677 -0.443100  1.387345\n",
       "2013-01-06  0.409407  0.433432 -1.308863  0.222998"
      ]
     },
     "execution_count": 23,
     "metadata": {},
     "output_type": "execute_result"
    }
   ],
   "source": [
    "df.sort_index(axis=1, ascending=False)"
   ]
  },
  {
   "cell_type": "markdown",
   "metadata": {
    "colab_type": "text",
    "id": "F88TTYh9BGZ5"
   },
   "source": [
    "값 별로 정렬합니다."
   ]
  },
  {
   "cell_type": "code",
   "execution_count": 24,
   "metadata": {
    "colab": {
     "autoexec": {
      "startup": false,
      "wait_interval": 0
     },
     "base_uri": "https://localhost:8080/",
     "height": 235
    },
    "colab_type": "code",
    "executionInfo": {
     "elapsed": 1881,
     "status": "ok",
     "timestamp": 1532272822983,
     "user": {
      "displayName": "EUNJI LEE",
      "photoUrl": "//lh5.googleusercontent.com/-Af1nbBVMBUM/AAAAAAAAAAI/AAAAAAAAAG8/Q6xuMVAUbHk/s50-c-k-no/photo.jpg",
      "userId": "113493488780737428858"
     },
     "user_tz": -540
    },
    "id": "9f7MLCxpAv67",
    "outputId": "38f801a5-ae89-416e-b4f9-39657b6ab99f"
   },
   "outputs": [
    {
     "data": {
      "text/html": [
       "<div>\n",
       "<style scoped>\n",
       "    .dataframe tbody tr th:only-of-type {\n",
       "        vertical-align: middle;\n",
       "    }\n",
       "\n",
       "    .dataframe tbody tr th {\n",
       "        vertical-align: top;\n",
       "    }\n",
       "\n",
       "    .dataframe thead th {\n",
       "        text-align: right;\n",
       "    }\n",
       "</style>\n",
       "<table border=\"1\" class=\"dataframe\">\n",
       "  <thead>\n",
       "    <tr style=\"text-align: right;\">\n",
       "      <th></th>\n",
       "      <th>A</th>\n",
       "      <th>B</th>\n",
       "      <th>C</th>\n",
       "      <th>D</th>\n",
       "    </tr>\n",
       "  </thead>\n",
       "  <tbody>\n",
       "    <tr>\n",
       "      <th>2013-01-03</th>\n",
       "      <td>-2.364223</td>\n",
       "      <td>-2.187468</td>\n",
       "      <td>1.018928</td>\n",
       "      <td>1.252907</td>\n",
       "    </tr>\n",
       "    <tr>\n",
       "      <th>2013-01-06</th>\n",
       "      <td>0.222998</td>\n",
       "      <td>-1.308863</td>\n",
       "      <td>0.433432</td>\n",
       "      <td>0.409407</td>\n",
       "    </tr>\n",
       "    <tr>\n",
       "      <th>2013-01-05</th>\n",
       "      <td>1.387345</td>\n",
       "      <td>-0.443100</td>\n",
       "      <td>-0.540677</td>\n",
       "      <td>-0.370186</td>\n",
       "    </tr>\n",
       "    <tr>\n",
       "      <th>2013-01-01</th>\n",
       "      <td>1.203664</td>\n",
       "      <td>0.035199</td>\n",
       "      <td>-0.516512</td>\n",
       "      <td>-1.651954</td>\n",
       "    </tr>\n",
       "    <tr>\n",
       "      <th>2013-01-04</th>\n",
       "      <td>-2.214020</td>\n",
       "      <td>0.361885</td>\n",
       "      <td>-0.390074</td>\n",
       "      <td>-0.497004</td>\n",
       "    </tr>\n",
       "    <tr>\n",
       "      <th>2013-01-02</th>\n",
       "      <td>-0.935893</td>\n",
       "      <td>0.854944</td>\n",
       "      <td>-0.814971</td>\n",
       "      <td>-0.333447</td>\n",
       "    </tr>\n",
       "  </tbody>\n",
       "</table>\n",
       "</div>"
      ],
      "text/plain": [
       "                   A         B         C         D\n",
       "2013-01-03 -2.364223 -2.187468  1.018928  1.252907\n",
       "2013-01-06  0.222998 -1.308863  0.433432  0.409407\n",
       "2013-01-05  1.387345 -0.443100 -0.540677 -0.370186\n",
       "2013-01-01  1.203664  0.035199 -0.516512 -1.651954\n",
       "2013-01-04 -2.214020  0.361885 -0.390074 -0.497004\n",
       "2013-01-02 -0.935893  0.854944 -0.814971 -0.333447"
      ]
     },
     "execution_count": 24,
     "metadata": {},
     "output_type": "execute_result"
    }
   ],
   "source": [
    "df.sort_values(by='B')"
   ]
  },
  {
   "cell_type": "markdown",
   "metadata": {
    "colab_type": "text",
    "id": "3Gqmfx7oox22"
   },
   "source": [
    "## Selection (선택)"
   ]
  },
  {
   "cell_type": "markdown",
   "metadata": {
    "colab_type": "text",
    "id": "MJaeG531pyqQ"
   },
   "source": [
    "주석(Note) : 선택과 설정을 위한 Python / Numpy의 표준화된 표현들이 직관적이며, 코드 작성을 위한 양방향 작업에 유용하지만 우리는 Pandas에 최적화된 데이터 접근 방법인 .at, .iat, .loc 및 .iloc 을 추천합니다. "
   ]
  },
  {
   "cell_type": "markdown",
   "metadata": {
    "colab_type": "text",
    "id": "zwO_Qdc3kHES"
   },
   "source": [
    "[데이터 인덱싱 및 선택](https://pandas.pydata.org/pandas-docs/stable/indexing.html#indexing) 문서와 [다중 인덱싱 / 심화 인덱싱](https://pandas.pydata.org/pandas-docs/stable/advanced.html#advanced) 문서를 참조하세요."
   ]
  },
  {
   "cell_type": "markdown",
   "metadata": {
    "colab_type": "text",
    "id": "DeXaTXAdp6ne"
   },
   "source": [
    "### Getting (데이터 얻기)"
   ]
  },
  {
   "cell_type": "markdown",
   "metadata": {
    "colab_type": "text",
    "id": "VnTSMq2XkHEU"
   },
   "source": [
    "df.A 와 동일한 Series를 생성하는 단일 열을 선택합니다."
   ]
  },
  {
   "cell_type": "code",
   "execution_count": 25,
   "metadata": {
    "colab": {
     "autoexec": {
      "startup": false,
      "wait_interval": 0
     },
     "base_uri": "https://localhost:8080/",
     "height": 143
    },
    "colab_type": "code",
    "executionInfo": {
     "elapsed": 1483,
     "status": "ok",
     "timestamp": 1532272826535,
     "user": {
      "displayName": "EUNJI LEE",
      "photoUrl": "//lh5.googleusercontent.com/-Af1nbBVMBUM/AAAAAAAAAAI/AAAAAAAAAG8/Q6xuMVAUbHk/s50-c-k-no/photo.jpg",
      "userId": "113493488780737428858"
     },
     "user_tz": -540
    },
    "id": "2i6jOXNMox26",
    "outputId": "c4e9eb2f-829e-44ef-e62c-26d14d171224"
   },
   "outputs": [
    {
     "data": {
      "text/plain": [
       "2013-01-01    1.203664\n",
       "2013-01-02   -0.935893\n",
       "2013-01-03   -2.364223\n",
       "2013-01-04   -2.214020\n",
       "2013-01-05    1.387345\n",
       "2013-01-06    0.222998\n",
       "Freq: D, Name: A, dtype: float64"
      ]
     },
     "execution_count": 25,
     "metadata": {},
     "output_type": "execute_result"
    }
   ],
   "source": [
    "df['A']"
   ]
  },
  {
   "cell_type": "markdown",
   "metadata": {
    "colab_type": "text",
    "id": "HVumS0kMr2pH"
   },
   "source": [
    "행을 분할하는 []를 통해 선택합니다."
   ]
  },
  {
   "cell_type": "code",
   "execution_count": 26,
   "metadata": {
    "colab": {
     "autoexec": {
      "startup": false,
      "wait_interval": 0
     },
     "base_uri": "https://localhost:8080/",
     "height": 142
    },
    "colab_type": "code",
    "executionInfo": {
     "elapsed": 1289,
     "status": "ok",
     "timestamp": 1532272829612,
     "user": {
      "displayName": "EUNJI LEE",
      "photoUrl": "//lh5.googleusercontent.com/-Af1nbBVMBUM/AAAAAAAAAAI/AAAAAAAAAG8/Q6xuMVAUbHk/s50-c-k-no/photo.jpg",
      "userId": "113493488780737428858"
     },
     "user_tz": -540
    },
    "id": "CN4_iAoCr-hd",
    "outputId": "412869e6-bd72-45d4-87b3-836d8b3b331e"
   },
   "outputs": [
    {
     "data": {
      "text/html": [
       "<div>\n",
       "<style scoped>\n",
       "    .dataframe tbody tr th:only-of-type {\n",
       "        vertical-align: middle;\n",
       "    }\n",
       "\n",
       "    .dataframe tbody tr th {\n",
       "        vertical-align: top;\n",
       "    }\n",
       "\n",
       "    .dataframe thead th {\n",
       "        text-align: right;\n",
       "    }\n",
       "</style>\n",
       "<table border=\"1\" class=\"dataframe\">\n",
       "  <thead>\n",
       "    <tr style=\"text-align: right;\">\n",
       "      <th></th>\n",
       "      <th>A</th>\n",
       "      <th>B</th>\n",
       "      <th>C</th>\n",
       "      <th>D</th>\n",
       "    </tr>\n",
       "  </thead>\n",
       "  <tbody>\n",
       "    <tr>\n",
       "      <th>2013-01-01</th>\n",
       "      <td>1.203664</td>\n",
       "      <td>0.035199</td>\n",
       "      <td>-0.516512</td>\n",
       "      <td>-1.651954</td>\n",
       "    </tr>\n",
       "    <tr>\n",
       "      <th>2013-01-02</th>\n",
       "      <td>-0.935893</td>\n",
       "      <td>0.854944</td>\n",
       "      <td>-0.814971</td>\n",
       "      <td>-0.333447</td>\n",
       "    </tr>\n",
       "    <tr>\n",
       "      <th>2013-01-03</th>\n",
       "      <td>-2.364223</td>\n",
       "      <td>-2.187468</td>\n",
       "      <td>1.018928</td>\n",
       "      <td>1.252907</td>\n",
       "    </tr>\n",
       "  </tbody>\n",
       "</table>\n",
       "</div>"
      ],
      "text/plain": [
       "                   A         B         C         D\n",
       "2013-01-01  1.203664  0.035199 -0.516512 -1.651954\n",
       "2013-01-02 -0.935893  0.854944 -0.814971 -0.333447\n",
       "2013-01-03 -2.364223 -2.187468  1.018928  1.252907"
      ]
     },
     "execution_count": 26,
     "metadata": {},
     "output_type": "execute_result"
    }
   ],
   "source": [
    "df[0:3]"
   ]
  },
  {
   "cell_type": "code",
   "execution_count": 27,
   "metadata": {
    "colab": {
     "autoexec": {
      "startup": false,
      "wait_interval": 0
     },
     "base_uri": "https://localhost:8080/",
     "height": 142
    },
    "colab_type": "code",
    "executionInfo": {
     "elapsed": 1806,
     "status": "ok",
     "timestamp": 1532272833864,
     "user": {
      "displayName": "EUNJI LEE",
      "photoUrl": "//lh5.googleusercontent.com/-Af1nbBVMBUM/AAAAAAAAAAI/AAAAAAAAAG8/Q6xuMVAUbHk/s50-c-k-no/photo.jpg",
      "userId": "113493488780737428858"
     },
     "user_tz": -540
    },
    "id": "rfj3fFBSsQyB",
    "outputId": "279e4176-5c5f-4ea5-8181-74980f8d2464"
   },
   "outputs": [
    {
     "data": {
      "text/html": [
       "<div>\n",
       "<style scoped>\n",
       "    .dataframe tbody tr th:only-of-type {\n",
       "        vertical-align: middle;\n",
       "    }\n",
       "\n",
       "    .dataframe tbody tr th {\n",
       "        vertical-align: top;\n",
       "    }\n",
       "\n",
       "    .dataframe thead th {\n",
       "        text-align: right;\n",
       "    }\n",
       "</style>\n",
       "<table border=\"1\" class=\"dataframe\">\n",
       "  <thead>\n",
       "    <tr style=\"text-align: right;\">\n",
       "      <th></th>\n",
       "      <th>A</th>\n",
       "      <th>B</th>\n",
       "      <th>C</th>\n",
       "      <th>D</th>\n",
       "    </tr>\n",
       "  </thead>\n",
       "  <tbody>\n",
       "    <tr>\n",
       "      <th>2013-01-02</th>\n",
       "      <td>-0.935893</td>\n",
       "      <td>0.854944</td>\n",
       "      <td>-0.814971</td>\n",
       "      <td>-0.333447</td>\n",
       "    </tr>\n",
       "    <tr>\n",
       "      <th>2013-01-03</th>\n",
       "      <td>-2.364223</td>\n",
       "      <td>-2.187468</td>\n",
       "      <td>1.018928</td>\n",
       "      <td>1.252907</td>\n",
       "    </tr>\n",
       "    <tr>\n",
       "      <th>2013-01-04</th>\n",
       "      <td>-2.214020</td>\n",
       "      <td>0.361885</td>\n",
       "      <td>-0.390074</td>\n",
       "      <td>-0.497004</td>\n",
       "    </tr>\n",
       "  </tbody>\n",
       "</table>\n",
       "</div>"
      ],
      "text/plain": [
       "                   A         B         C         D\n",
       "2013-01-02 -0.935893  0.854944 -0.814971 -0.333447\n",
       "2013-01-03 -2.364223 -2.187468  1.018928  1.252907\n",
       "2013-01-04 -2.214020  0.361885 -0.390074 -0.497004"
      ]
     },
     "execution_count": 27,
     "metadata": {},
     "output_type": "execute_result"
    }
   ],
   "source": [
    "df['20130102':'20130104']"
   ]
  },
  {
   "cell_type": "markdown",
   "metadata": {
    "colab_type": "text",
    "id": "izNpv79bsGV7"
   },
   "source": [
    "### Selection by Label (Label 을 통한 선택)"
   ]
  },
  {
   "cell_type": "markdown",
   "metadata": {
    "colab_type": "text",
    "id": "MevvK6S4kHEq"
   },
   "source": [
    "[Label을 통한 선택](https://pandas.pydata.org/pandas-docs/stable/indexing.html#indexing-label)에서 더 많은 내용을 확인하세요.\n",
    "\n",
    "라벨을 사용하여 횡단면을 얻습니다."
   ]
  },
  {
   "cell_type": "code",
   "execution_count": 28,
   "metadata": {
    "colab": {
     "autoexec": {
      "startup": false,
      "wait_interval": 0
     },
     "base_uri": "https://localhost:8080/",
     "height": 107
    },
    "colab_type": "code",
    "executionInfo": {
     "elapsed": 4216,
     "status": "ok",
     "timestamp": 1532272839171,
     "user": {
      "displayName": "EUNJI LEE",
      "photoUrl": "//lh5.googleusercontent.com/-Af1nbBVMBUM/AAAAAAAAAAI/AAAAAAAAAG8/Q6xuMVAUbHk/s50-c-k-no/photo.jpg",
      "userId": "113493488780737428858"
     },
     "user_tz": -540
    },
    "id": "SiL6JlaRs7DM",
    "outputId": "d9f851e8-965f-4fbd-a0b5-034120784e04"
   },
   "outputs": [
    {
     "data": {
      "text/plain": [
       "A    1.203664\n",
       "B    0.035199\n",
       "C   -0.516512\n",
       "D   -1.651954\n",
       "Name: 2013-01-01 00:00:00, dtype: float64"
      ]
     },
     "execution_count": 28,
     "metadata": {},
     "output_type": "execute_result"
    }
   ],
   "source": [
    "df.loc[dates[0]]"
   ]
  },
  {
   "cell_type": "markdown",
   "metadata": {
    "colab_type": "text",
    "id": "wqEiM9ZKsVDW"
   },
   "source": [
    "라벨을 사용하여 여러 축(의 데이터)을 얻습니다."
   ]
  },
  {
   "cell_type": "code",
   "execution_count": 29,
   "metadata": {
    "colab": {
     "autoexec": {
      "startup": false,
      "wait_interval": 0
     },
     "base_uri": "https://localhost:8080/",
     "height": 235
    },
    "colab_type": "code",
    "executionInfo": {
     "elapsed": 1289,
     "status": "ok",
     "timestamp": 1532272843283,
     "user": {
      "displayName": "EUNJI LEE",
      "photoUrl": "//lh5.googleusercontent.com/-Af1nbBVMBUM/AAAAAAAAAAI/AAAAAAAAAG8/Q6xuMVAUbHk/s50-c-k-no/photo.jpg",
      "userId": "113493488780737428858"
     },
     "user_tz": -540
    },
    "id": "ujryWjpRtV9f",
    "outputId": "0c636d4d-b104-4032-c26f-7c3cd255e80c"
   },
   "outputs": [
    {
     "data": {
      "text/html": [
       "<div>\n",
       "<style scoped>\n",
       "    .dataframe tbody tr th:only-of-type {\n",
       "        vertical-align: middle;\n",
       "    }\n",
       "\n",
       "    .dataframe tbody tr th {\n",
       "        vertical-align: top;\n",
       "    }\n",
       "\n",
       "    .dataframe thead th {\n",
       "        text-align: right;\n",
       "    }\n",
       "</style>\n",
       "<table border=\"1\" class=\"dataframe\">\n",
       "  <thead>\n",
       "    <tr style=\"text-align: right;\">\n",
       "      <th></th>\n",
       "      <th>A</th>\n",
       "      <th>B</th>\n",
       "    </tr>\n",
       "  </thead>\n",
       "  <tbody>\n",
       "    <tr>\n",
       "      <th>2013-01-01</th>\n",
       "      <td>1.203664</td>\n",
       "      <td>0.035199</td>\n",
       "    </tr>\n",
       "    <tr>\n",
       "      <th>2013-01-02</th>\n",
       "      <td>-0.935893</td>\n",
       "      <td>0.854944</td>\n",
       "    </tr>\n",
       "    <tr>\n",
       "      <th>2013-01-03</th>\n",
       "      <td>-2.364223</td>\n",
       "      <td>-2.187468</td>\n",
       "    </tr>\n",
       "    <tr>\n",
       "      <th>2013-01-04</th>\n",
       "      <td>-2.214020</td>\n",
       "      <td>0.361885</td>\n",
       "    </tr>\n",
       "    <tr>\n",
       "      <th>2013-01-05</th>\n",
       "      <td>1.387345</td>\n",
       "      <td>-0.443100</td>\n",
       "    </tr>\n",
       "    <tr>\n",
       "      <th>2013-01-06</th>\n",
       "      <td>0.222998</td>\n",
       "      <td>-1.308863</td>\n",
       "    </tr>\n",
       "  </tbody>\n",
       "</table>\n",
       "</div>"
      ],
      "text/plain": [
       "                   A         B\n",
       "2013-01-01  1.203664  0.035199\n",
       "2013-01-02 -0.935893  0.854944\n",
       "2013-01-03 -2.364223 -2.187468\n",
       "2013-01-04 -2.214020  0.361885\n",
       "2013-01-05  1.387345 -0.443100\n",
       "2013-01-06  0.222998 -1.308863"
      ]
     },
     "execution_count": 29,
     "metadata": {},
     "output_type": "execute_result"
    }
   ],
   "source": [
    "df.loc[:,['A','B']]"
   ]
  },
  {
   "cell_type": "markdown",
   "metadata": {
    "colab_type": "text",
    "id": "SuyHx40itars"
   },
   "source": [
    "양쪽 종단점을 포함한 라벨 슬라이싱을 봅니다."
   ]
  },
  {
   "cell_type": "code",
   "execution_count": 30,
   "metadata": {
    "colab": {
     "autoexec": {
      "startup": false,
      "wait_interval": 0
     },
     "base_uri": "https://localhost:8080/",
     "height": 142
    },
    "colab_type": "code",
    "executionInfo": {
     "elapsed": 1801,
     "status": "ok",
     "timestamp": 1532272847610,
     "user": {
      "displayName": "EUNJI LEE",
      "photoUrl": "//lh5.googleusercontent.com/-Af1nbBVMBUM/AAAAAAAAAAI/AAAAAAAAAG8/Q6xuMVAUbHk/s50-c-k-no/photo.jpg",
      "userId": "113493488780737428858"
     },
     "user_tz": -540
    },
    "id": "Dxq_ixT7tgMB",
    "outputId": "d0e172c1-296e-4476-d2b7-4ad565d8373a"
   },
   "outputs": [
    {
     "data": {
      "text/html": [
       "<div>\n",
       "<style scoped>\n",
       "    .dataframe tbody tr th:only-of-type {\n",
       "        vertical-align: middle;\n",
       "    }\n",
       "\n",
       "    .dataframe tbody tr th {\n",
       "        vertical-align: top;\n",
       "    }\n",
       "\n",
       "    .dataframe thead th {\n",
       "        text-align: right;\n",
       "    }\n",
       "</style>\n",
       "<table border=\"1\" class=\"dataframe\">\n",
       "  <thead>\n",
       "    <tr style=\"text-align: right;\">\n",
       "      <th></th>\n",
       "      <th>A</th>\n",
       "      <th>B</th>\n",
       "    </tr>\n",
       "  </thead>\n",
       "  <tbody>\n",
       "    <tr>\n",
       "      <th>2013-01-02</th>\n",
       "      <td>-0.935893</td>\n",
       "      <td>0.854944</td>\n",
       "    </tr>\n",
       "    <tr>\n",
       "      <th>2013-01-03</th>\n",
       "      <td>-2.364223</td>\n",
       "      <td>-2.187468</td>\n",
       "    </tr>\n",
       "    <tr>\n",
       "      <th>2013-01-04</th>\n",
       "      <td>-2.214020</td>\n",
       "      <td>0.361885</td>\n",
       "    </tr>\n",
       "  </tbody>\n",
       "</table>\n",
       "</div>"
      ],
      "text/plain": [
       "                   A         B\n",
       "2013-01-02 -0.935893  0.854944\n",
       "2013-01-03 -2.364223 -2.187468\n",
       "2013-01-04 -2.214020  0.361885"
      ]
     },
     "execution_count": 30,
     "metadata": {},
     "output_type": "execute_result"
    }
   ],
   "source": [
    "df.loc['20130102':'20130104', ['A','B']]"
   ]
  },
  {
   "cell_type": "markdown",
   "metadata": {
    "colab_type": "text",
    "id": "NByKKdFXtsnP"
   },
   "source": [
    "반환되는 객체의 차원를 줄입니다."
   ]
  },
  {
   "cell_type": "code",
   "execution_count": 31,
   "metadata": {
    "colab": {
     "autoexec": {
      "startup": false,
      "wait_interval": 0
     },
     "base_uri": "https://localhost:8080/",
     "height": 71
    },
    "colab_type": "code",
    "executionInfo": {
     "elapsed": 1648,
     "status": "ok",
     "timestamp": 1532272851799,
     "user": {
      "displayName": "EUNJI LEE",
      "photoUrl": "//lh5.googleusercontent.com/-Af1nbBVMBUM/AAAAAAAAAAI/AAAAAAAAAG8/Q6xuMVAUbHk/s50-c-k-no/photo.jpg",
      "userId": "113493488780737428858"
     },
     "user_tz": -540
    },
    "id": "ih2FqQaStyEv",
    "outputId": "798e84d7-f93b-4a73-bafd-a816a7f947f4"
   },
   "outputs": [
    {
     "data": {
      "text/plain": [
       "A   -0.935893\n",
       "B    0.854944\n",
       "Name: 2013-01-02 00:00:00, dtype: float64"
      ]
     },
     "execution_count": 31,
     "metadata": {},
     "output_type": "execute_result"
    }
   ],
   "source": [
    "df.loc['20130102',['A','B']]"
   ]
  },
  {
   "cell_type": "markdown",
   "metadata": {
    "colab_type": "text",
    "id": "Mgdkhb3at1wM"
   },
   "source": [
    "스칼라 값을 얻습니다."
   ]
  },
  {
   "cell_type": "code",
   "execution_count": 32,
   "metadata": {
    "colab": {
     "autoexec": {
      "startup": false,
      "wait_interval": 0
     },
     "base_uri": "https://localhost:8080/",
     "height": 35
    },
    "colab_type": "code",
    "executionInfo": {
     "elapsed": 1287,
     "status": "ok",
     "timestamp": 1532272855728,
     "user": {
      "displayName": "EUNJI LEE",
      "photoUrl": "//lh5.googleusercontent.com/-Af1nbBVMBUM/AAAAAAAAAAI/AAAAAAAAAG8/Q6xuMVAUbHk/s50-c-k-no/photo.jpg",
      "userId": "113493488780737428858"
     },
     "user_tz": -540
    },
    "id": "umW1SZZQt5Q0",
    "outputId": "d30c0492-617e-4599-c583-1a5dba4167c9"
   },
   "outputs": [
    {
     "data": {
      "text/plain": [
       "1.2036641391265706"
      ]
     },
     "execution_count": 32,
     "metadata": {},
     "output_type": "execute_result"
    }
   ],
   "source": [
    "df.loc[dates[0],'A']"
   ]
  },
  {
   "cell_type": "markdown",
   "metadata": {
    "colab_type": "text",
    "id": "8DN1MLxHt9Xb"
   },
   "source": [
    "스칼라 값을 더 빠르게 구하는 방법입니다. (앞선 메소드와 동일합니다.)"
   ]
  },
  {
   "cell_type": "code",
   "execution_count": 33,
   "metadata": {
    "colab": {
     "autoexec": {
      "startup": false,
      "wait_interval": 0
     },
     "base_uri": "https://localhost:8080/",
     "height": 35
    },
    "colab_type": "code",
    "executionInfo": {
     "elapsed": 1466,
     "status": "ok",
     "timestamp": 1532272859805,
     "user": {
      "displayName": "EUNJI LEE",
      "photoUrl": "//lh5.googleusercontent.com/-Af1nbBVMBUM/AAAAAAAAAAI/AAAAAAAAAG8/Q6xuMVAUbHk/s50-c-k-no/photo.jpg",
      "userId": "113493488780737428858"
     },
     "user_tz": -540
    },
    "id": "FxxN4hauuDLB",
    "outputId": "052c8e6b-7c4c-4063-9ff2-8fef23971a29"
   },
   "outputs": [
    {
     "data": {
      "text/plain": [
       "1.2036641391265706"
      ]
     },
     "execution_count": 33,
     "metadata": {},
     "output_type": "execute_result"
    }
   ],
   "source": [
    "df.at[dates[0],'A']"
   ]
  },
  {
   "cell_type": "markdown",
   "metadata": {
    "colab_type": "text",
    "id": "v7BFmgcRLNif"
   },
   "source": [
    "### Selection by Position (위치로 선택하기)"
   ]
  },
  {
   "cell_type": "markdown",
   "metadata": {
    "colab_type": "text",
    "id": "HdUlCKcMLNig"
   },
   "source": [
    "자세한 내용은 [위치로 선택하기](https://pandas.pydata.org/pandas-docs/stable/indexing.html#indexing-integer)를 참고해주세요.\n",
    "\n",
    "넘겨받은 정수의 위치를 기준으로 선택합니다."
   ]
  },
  {
   "cell_type": "code",
   "execution_count": 32,
   "metadata": {
    "colab": {
     "autoexec": {
      "startup": false,
      "wait_interval": 0
     },
     "base_uri": "https://localhost:8080/",
     "height": 107
    },
    "colab_type": "code",
    "executionInfo": {
     "elapsed": 1947,
     "status": "ok",
     "timestamp": 1532272862360,
     "user": {
      "displayName": "EUNJI LEE",
      "photoUrl": "//lh5.googleusercontent.com/-Af1nbBVMBUM/AAAAAAAAAAI/AAAAAAAAAG8/Q6xuMVAUbHk/s50-c-k-no/photo.jpg",
      "userId": "113493488780737428858"
     },
     "user_tz": -540
    },
    "id": "CI_RX7HL2dbm",
    "outputId": "bcc39739-ff66-4cad-9b2a-064e4fc5dbd2"
   },
   "outputs": [
    {
     "data": {
      "text/plain": [
       "A    0.834505\n",
       "B    0.029459\n",
       "C    0.543112\n",
       "D   -1.471167\n",
       "Name: 2013-01-04 00:00:00, dtype: float64"
      ]
     },
     "execution_count": 32,
     "metadata": {},
     "output_type": "execute_result"
    }
   ],
   "source": [
    "df.iloc[3]"
   ]
  },
  {
   "cell_type": "markdown",
   "metadata": {
    "colab_type": "text",
    "id": "oARGkVI-23ZC"
   },
   "source": [
    "정수(로 표기된) 슬라이스들을 통해, numpy/python과 유사하게 작동합니다."
   ]
  },
  {
   "cell_type": "code",
   "execution_count": 33,
   "metadata": {
    "colab": {
     "autoexec": {
      "startup": false,
      "wait_interval": 0
     },
     "base_uri": "https://localhost:8080/",
     "height": 111
    },
    "colab_type": "code",
    "executionInfo": {
     "elapsed": 1919,
     "status": "ok",
     "timestamp": 1532272865404,
     "user": {
      "displayName": "EUNJI LEE",
      "photoUrl": "//lh5.googleusercontent.com/-Af1nbBVMBUM/AAAAAAAAAAI/AAAAAAAAAG8/Q6xuMVAUbHk/s50-c-k-no/photo.jpg",
      "userId": "113493488780737428858"
     },
     "user_tz": -540
    },
    "id": "ZVV94o9-24yW",
    "outputId": "1d9e7c48-4c49-45a8-c427-2f03e6ab6ed2"
   },
   "outputs": [
    {
     "data": {
      "text/html": [
       "<div>\n",
       "<style>\n",
       "    .dataframe thead tr:only-child th {\n",
       "        text-align: right;\n",
       "    }\n",
       "\n",
       "    .dataframe thead th {\n",
       "        text-align: left;\n",
       "    }\n",
       "\n",
       "    .dataframe tbody tr th {\n",
       "        vertical-align: top;\n",
       "    }\n",
       "</style>\n",
       "<table border=\"1\" class=\"dataframe\">\n",
       "  <thead>\n",
       "    <tr style=\"text-align: right;\">\n",
       "      <th></th>\n",
       "      <th>A</th>\n",
       "      <th>B</th>\n",
       "    </tr>\n",
       "  </thead>\n",
       "  <tbody>\n",
       "    <tr>\n",
       "      <th>2013-01-04</th>\n",
       "      <td>0.834505</td>\n",
       "      <td>0.029459</td>\n",
       "    </tr>\n",
       "    <tr>\n",
       "      <th>2013-01-05</th>\n",
       "      <td>0.646337</td>\n",
       "      <td>2.139297</td>\n",
       "    </tr>\n",
       "  </tbody>\n",
       "</table>\n",
       "</div>"
      ],
      "text/plain": [
       "                   A         B\n",
       "2013-01-04  0.834505  0.029459\n",
       "2013-01-05  0.646337  2.139297"
      ]
     },
     "execution_count": 33,
     "metadata": {},
     "output_type": "execute_result"
    }
   ],
   "source": [
    "df.iloc[3:5,0:2]"
   ]
  },
  {
   "cell_type": "markdown",
   "metadata": {
    "colab_type": "text",
    "id": "Y2gjiEGT27yA"
   },
   "source": [
    "정수(로 표기된) 위치값의 리스트들을 통해, numpy/python의 스타일과 유사해집니다."
   ]
  },
  {
   "cell_type": "code",
   "execution_count": 34,
   "metadata": {
    "colab": {
     "autoexec": {
      "startup": false,
      "wait_interval": 0
     },
     "base_uri": "https://localhost:8080/",
     "height": 142
    },
    "colab_type": "code",
    "executionInfo": {
     "elapsed": 1892,
     "status": "ok",
     "timestamp": 1532272869446,
     "user": {
      "displayName": "EUNJI LEE",
      "photoUrl": "//lh5.googleusercontent.com/-Af1nbBVMBUM/AAAAAAAAAAI/AAAAAAAAAG8/Q6xuMVAUbHk/s50-c-k-no/photo.jpg",
      "userId": "113493488780737428858"
     },
     "user_tz": -540
    },
    "id": "u3AnE1li2-sH",
    "outputId": "997d14c1-66b9-414c-f65e-de4bfff193a3"
   },
   "outputs": [
    {
     "data": {
      "text/html": [
       "<div>\n",
       "<style>\n",
       "    .dataframe thead tr:only-child th {\n",
       "        text-align: right;\n",
       "    }\n",
       "\n",
       "    .dataframe thead th {\n",
       "        text-align: left;\n",
       "    }\n",
       "\n",
       "    .dataframe tbody tr th {\n",
       "        vertical-align: top;\n",
       "    }\n",
       "</style>\n",
       "<table border=\"1\" class=\"dataframe\">\n",
       "  <thead>\n",
       "    <tr style=\"text-align: right;\">\n",
       "      <th></th>\n",
       "      <th>A</th>\n",
       "      <th>C</th>\n",
       "    </tr>\n",
       "  </thead>\n",
       "  <tbody>\n",
       "    <tr>\n",
       "      <th>2013-01-02</th>\n",
       "      <td>-1.403231</td>\n",
       "      <td>0.791482</td>\n",
       "    </tr>\n",
       "    <tr>\n",
       "      <th>2013-01-03</th>\n",
       "      <td>0.812184</td>\n",
       "      <td>-0.394338</td>\n",
       "    </tr>\n",
       "    <tr>\n",
       "      <th>2013-01-05</th>\n",
       "      <td>0.646337</td>\n",
       "      <td>-0.839317</td>\n",
       "    </tr>\n",
       "  </tbody>\n",
       "</table>\n",
       "</div>"
      ],
      "text/plain": [
       "                   A         C\n",
       "2013-01-02 -1.403231  0.791482\n",
       "2013-01-03  0.812184 -0.394338\n",
       "2013-01-05  0.646337 -0.839317"
      ]
     },
     "execution_count": 34,
     "metadata": {},
     "output_type": "execute_result"
    }
   ],
   "source": [
    "df.iloc[[1,2,4],[0,2]]"
   ]
  },
  {
   "cell_type": "markdown",
   "metadata": {
    "colab_type": "text",
    "id": "h5yyrWSQ3AmB"
   },
   "source": [
    "명시적으로 행을 나누고자 하는 경우입니다."
   ]
  },
  {
   "cell_type": "code",
   "execution_count": 35,
   "metadata": {
    "colab": {
     "autoexec": {
      "startup": false,
      "wait_interval": 0
     },
     "base_uri": "https://localhost:8080/",
     "height": 111
    },
    "colab_type": "code",
    "executionInfo": {
     "elapsed": 2279,
     "status": "ok",
     "timestamp": 1532272873850,
     "user": {
      "displayName": "EUNJI LEE",
      "photoUrl": "//lh5.googleusercontent.com/-Af1nbBVMBUM/AAAAAAAAAAI/AAAAAAAAAG8/Q6xuMVAUbHk/s50-c-k-no/photo.jpg",
      "userId": "113493488780737428858"
     },
     "user_tz": -540
    },
    "id": "aeiKSATs3CwL",
    "outputId": "84e6afbe-3857-4536-a2f0-ab8c3aff8d3e"
   },
   "outputs": [
    {
     "data": {
      "text/html": [
       "<div>\n",
       "<style>\n",
       "    .dataframe thead tr:only-child th {\n",
       "        text-align: right;\n",
       "    }\n",
       "\n",
       "    .dataframe thead th {\n",
       "        text-align: left;\n",
       "    }\n",
       "\n",
       "    .dataframe tbody tr th {\n",
       "        vertical-align: top;\n",
       "    }\n",
       "</style>\n",
       "<table border=\"1\" class=\"dataframe\">\n",
       "  <thead>\n",
       "    <tr style=\"text-align: right;\">\n",
       "      <th></th>\n",
       "      <th>A</th>\n",
       "      <th>B</th>\n",
       "      <th>C</th>\n",
       "      <th>D</th>\n",
       "    </tr>\n",
       "  </thead>\n",
       "  <tbody>\n",
       "    <tr>\n",
       "      <th>2013-01-02</th>\n",
       "      <td>-1.403231</td>\n",
       "      <td>-0.316784</td>\n",
       "      <td>0.791482</td>\n",
       "      <td>-0.699104</td>\n",
       "    </tr>\n",
       "    <tr>\n",
       "      <th>2013-01-03</th>\n",
       "      <td>0.812184</td>\n",
       "      <td>-0.117943</td>\n",
       "      <td>-0.394338</td>\n",
       "      <td>1.669255</td>\n",
       "    </tr>\n",
       "  </tbody>\n",
       "</table>\n",
       "</div>"
      ],
      "text/plain": [
       "                   A         B         C         D\n",
       "2013-01-02 -1.403231 -0.316784  0.791482 -0.699104\n",
       "2013-01-03  0.812184 -0.117943 -0.394338  1.669255"
      ]
     },
     "execution_count": 35,
     "metadata": {},
     "output_type": "execute_result"
    }
   ],
   "source": [
    "df.iloc[1:3,:]"
   ]
  },
  {
   "cell_type": "markdown",
   "metadata": {
    "colab_type": "text",
    "id": "DLvxy1xF3GhR"
   },
   "source": [
    "명시적으로 열을 나누고자 하는 경우입니다."
   ]
  },
  {
   "cell_type": "code",
   "execution_count": 36,
   "metadata": {
    "colab": {
     "autoexec": {
      "startup": false,
      "wait_interval": 0
     },
     "base_uri": "https://localhost:8080/",
     "height": 235
    },
    "colab_type": "code",
    "executionInfo": {
     "elapsed": 1611,
     "status": "ok",
     "timestamp": 1532272876617,
     "user": {
      "displayName": "EUNJI LEE",
      "photoUrl": "//lh5.googleusercontent.com/-Af1nbBVMBUM/AAAAAAAAAAI/AAAAAAAAAG8/Q6xuMVAUbHk/s50-c-k-no/photo.jpg",
      "userId": "113493488780737428858"
     },
     "user_tz": -540
    },
    "id": "wAS-Ezax3IZC",
    "outputId": "b6a54022-5605-45e6-e184-67c9aac464e2"
   },
   "outputs": [
    {
     "data": {
      "text/html": [
       "<div>\n",
       "<style>\n",
       "    .dataframe thead tr:only-child th {\n",
       "        text-align: right;\n",
       "    }\n",
       "\n",
       "    .dataframe thead th {\n",
       "        text-align: left;\n",
       "    }\n",
       "\n",
       "    .dataframe tbody tr th {\n",
       "        vertical-align: top;\n",
       "    }\n",
       "</style>\n",
       "<table border=\"1\" class=\"dataframe\">\n",
       "  <thead>\n",
       "    <tr style=\"text-align: right;\">\n",
       "      <th></th>\n",
       "      <th>B</th>\n",
       "      <th>C</th>\n",
       "    </tr>\n",
       "  </thead>\n",
       "  <tbody>\n",
       "    <tr>\n",
       "      <th>2013-01-01</th>\n",
       "      <td>-0.228990</td>\n",
       "      <td>-0.412877</td>\n",
       "    </tr>\n",
       "    <tr>\n",
       "      <th>2013-01-02</th>\n",
       "      <td>-0.316784</td>\n",
       "      <td>0.791482</td>\n",
       "    </tr>\n",
       "    <tr>\n",
       "      <th>2013-01-03</th>\n",
       "      <td>-0.117943</td>\n",
       "      <td>-0.394338</td>\n",
       "    </tr>\n",
       "    <tr>\n",
       "      <th>2013-01-04</th>\n",
       "      <td>0.029459</td>\n",
       "      <td>0.543112</td>\n",
       "    </tr>\n",
       "    <tr>\n",
       "      <th>2013-01-05</th>\n",
       "      <td>2.139297</td>\n",
       "      <td>-0.839317</td>\n",
       "    </tr>\n",
       "    <tr>\n",
       "      <th>2013-01-06</th>\n",
       "      <td>-0.026487</td>\n",
       "      <td>0.471119</td>\n",
       "    </tr>\n",
       "  </tbody>\n",
       "</table>\n",
       "</div>"
      ],
      "text/plain": [
       "                   B         C\n",
       "2013-01-01 -0.228990 -0.412877\n",
       "2013-01-02 -0.316784  0.791482\n",
       "2013-01-03 -0.117943 -0.394338\n",
       "2013-01-04  0.029459  0.543112\n",
       "2013-01-05  2.139297 -0.839317\n",
       "2013-01-06 -0.026487  0.471119"
      ]
     },
     "execution_count": 36,
     "metadata": {},
     "output_type": "execute_result"
    }
   ],
   "source": [
    "df.iloc[:,1:3]"
   ]
  },
  {
   "cell_type": "markdown",
   "metadata": {
    "colab_type": "text",
    "id": "QH-roZC_3Jvj"
   },
   "source": [
    "명시적으로 (특정한) 값을 얻고자 하는 경우입니다."
   ]
  },
  {
   "cell_type": "code",
   "execution_count": 37,
   "metadata": {
    "colab": {
     "autoexec": {
      "startup": false,
      "wait_interval": 0
     },
     "base_uri": "https://localhost:8080/",
     "height": 35
    },
    "colab_type": "code",
    "executionInfo": {
     "elapsed": 2619,
     "status": "ok",
     "timestamp": 1532272881895,
     "user": {
      "displayName": "EUNJI LEE",
      "photoUrl": "//lh5.googleusercontent.com/-Af1nbBVMBUM/AAAAAAAAAAI/AAAAAAAAAG8/Q6xuMVAUbHk/s50-c-k-no/photo.jpg",
      "userId": "113493488780737428858"
     },
     "user_tz": -540
    },
    "id": "YM9Q-Ami3LeF",
    "outputId": "8a28a260-5cc0-43a4-a615-a54ed0bba36d"
   },
   "outputs": [
    {
     "data": {
      "text/plain": [
       "-0.31678422882681939"
      ]
     },
     "execution_count": 37,
     "metadata": {},
     "output_type": "execute_result"
    }
   ],
   "source": [
    "df.iloc[1,1]"
   ]
  },
  {
   "cell_type": "markdown",
   "metadata": {
    "colab_type": "text",
    "id": "R_2xOsp13O13"
   },
   "source": [
    "스칼라 값을 빠르게 얻는 방법입니다. (위의 방식과 동일합니다.)"
   ]
  },
  {
   "cell_type": "code",
   "execution_count": 38,
   "metadata": {
    "colab": {
     "autoexec": {
      "startup": false,
      "wait_interval": 0
     },
     "base_uri": "https://localhost:8080/",
     "height": 35
    },
    "colab_type": "code",
    "executionInfo": {
     "elapsed": 1882,
     "status": "ok",
     "timestamp": 1532272885885,
     "user": {
      "displayName": "EUNJI LEE",
      "photoUrl": "//lh5.googleusercontent.com/-Af1nbBVMBUM/AAAAAAAAAAI/AAAAAAAAAG8/Q6xuMVAUbHk/s50-c-k-no/photo.jpg",
      "userId": "113493488780737428858"
     },
     "user_tz": -540
    },
    "id": "asy0eDSB3PO6",
    "outputId": "bab0e5de-fa0a-4454-f9af-c527abc50fcb"
   },
   "outputs": [
    {
     "data": {
      "text/plain": [
       "-0.31678422882681939"
      ]
     },
     "execution_count": 38,
     "metadata": {},
     "output_type": "execute_result"
    }
   ],
   "source": [
    "df.iat[1,1]"
   ]
  },
  {
   "cell_type": "markdown",
   "metadata": {
    "colab_type": "text",
    "id": "FTKvfT0oDv3x"
   },
   "source": [
    "### Boolean Indexing"
   ]
  },
  {
   "cell_type": "markdown",
   "metadata": {
    "colab_type": "text",
    "id": "J0pm13XREbg6"
   },
   "source": [
    "데이터를 선택하기 위해 단일 열의 값을 사용합니다."
   ]
  },
  {
   "cell_type": "code",
   "execution_count": 39,
   "metadata": {
    "colab": {
     "autoexec": {
      "startup": false,
      "wait_interval": 0
     },
     "base_uri": "https://localhost:8080/",
     "height": 173
    },
    "colab_type": "code",
    "executionInfo": {
     "elapsed": 4019,
     "status": "ok",
     "timestamp": 1532272890560,
     "user": {
      "displayName": "EUNJI LEE",
      "photoUrl": "//lh5.googleusercontent.com/-Af1nbBVMBUM/AAAAAAAAAAI/AAAAAAAAAG8/Q6xuMVAUbHk/s50-c-k-no/photo.jpg",
      "userId": "113493488780737428858"
     },
     "user_tz": -540
    },
    "id": "gFiUEOadDlBY",
    "outputId": "242aa54f-c441-44aa-98c6-32751e865ac0"
   },
   "outputs": [
    {
     "data": {
      "text/html": [
       "<div>\n",
       "<style>\n",
       "    .dataframe thead tr:only-child th {\n",
       "        text-align: right;\n",
       "    }\n",
       "\n",
       "    .dataframe thead th {\n",
       "        text-align: left;\n",
       "    }\n",
       "\n",
       "    .dataframe tbody tr th {\n",
       "        vertical-align: top;\n",
       "    }\n",
       "</style>\n",
       "<table border=\"1\" class=\"dataframe\">\n",
       "  <thead>\n",
       "    <tr style=\"text-align: right;\">\n",
       "      <th></th>\n",
       "      <th>A</th>\n",
       "      <th>B</th>\n",
       "      <th>C</th>\n",
       "      <th>D</th>\n",
       "    </tr>\n",
       "  </thead>\n",
       "  <tbody>\n",
       "    <tr>\n",
       "      <th>2013-01-03</th>\n",
       "      <td>0.812184</td>\n",
       "      <td>-0.117943</td>\n",
       "      <td>-0.394338</td>\n",
       "      <td>1.669255</td>\n",
       "    </tr>\n",
       "    <tr>\n",
       "      <th>2013-01-04</th>\n",
       "      <td>0.834505</td>\n",
       "      <td>0.029459</td>\n",
       "      <td>0.543112</td>\n",
       "      <td>-1.471167</td>\n",
       "    </tr>\n",
       "    <tr>\n",
       "      <th>2013-01-05</th>\n",
       "      <td>0.646337</td>\n",
       "      <td>2.139297</td>\n",
       "      <td>-0.839317</td>\n",
       "      <td>0.107340</td>\n",
       "    </tr>\n",
       "    <tr>\n",
       "      <th>2013-01-06</th>\n",
       "      <td>1.766095</td>\n",
       "      <td>-0.026487</td>\n",
       "      <td>0.471119</td>\n",
       "      <td>0.227956</td>\n",
       "    </tr>\n",
       "  </tbody>\n",
       "</table>\n",
       "</div>"
      ],
      "text/plain": [
       "                   A         B         C         D\n",
       "2013-01-03  0.812184 -0.117943 -0.394338  1.669255\n",
       "2013-01-04  0.834505  0.029459  0.543112 -1.471167\n",
       "2013-01-05  0.646337  2.139297 -0.839317  0.107340\n",
       "2013-01-06  1.766095 -0.026487  0.471119  0.227956"
      ]
     },
     "execution_count": 39,
     "metadata": {},
     "output_type": "execute_result"
    }
   ],
   "source": [
    "df[df.A > 0]"
   ]
  },
  {
   "cell_type": "markdown",
   "metadata": {
    "colab_type": "text",
    "id": "3sGsFS1sEqT6"
   },
   "source": [
    "Boolean 조건을 충족하는 데이터프레임에서 값을 선택합니다."
   ]
  },
  {
   "cell_type": "code",
   "execution_count": 40,
   "metadata": {
    "colab": {
     "autoexec": {
      "startup": false,
      "wait_interval": 0
     },
     "base_uri": "https://localhost:8080/",
     "height": 235
    },
    "colab_type": "code",
    "executionInfo": {
     "elapsed": 2079,
     "status": "ok",
     "timestamp": 1532272894669,
     "user": {
      "displayName": "EUNJI LEE",
      "photoUrl": "//lh5.googleusercontent.com/-Af1nbBVMBUM/AAAAAAAAAAI/AAAAAAAAAG8/Q6xuMVAUbHk/s50-c-k-no/photo.jpg",
      "userId": "113493488780737428858"
     },
     "user_tz": -540
    },
    "id": "tZhjIBa2Eqou",
    "outputId": "b65eeab5-a409-40f3-dbb0-0f941765e708"
   },
   "outputs": [
    {
     "data": {
      "text/html": [
       "<div>\n",
       "<style>\n",
       "    .dataframe thead tr:only-child th {\n",
       "        text-align: right;\n",
       "    }\n",
       "\n",
       "    .dataframe thead th {\n",
       "        text-align: left;\n",
       "    }\n",
       "\n",
       "    .dataframe tbody tr th {\n",
       "        vertical-align: top;\n",
       "    }\n",
       "</style>\n",
       "<table border=\"1\" class=\"dataframe\">\n",
       "  <thead>\n",
       "    <tr style=\"text-align: right;\">\n",
       "      <th></th>\n",
       "      <th>A</th>\n",
       "      <th>B</th>\n",
       "      <th>C</th>\n",
       "      <th>D</th>\n",
       "    </tr>\n",
       "  </thead>\n",
       "  <tbody>\n",
       "    <tr>\n",
       "      <th>2013-01-01</th>\n",
       "      <td>NaN</td>\n",
       "      <td>NaN</td>\n",
       "      <td>NaN</td>\n",
       "      <td>NaN</td>\n",
       "    </tr>\n",
       "    <tr>\n",
       "      <th>2013-01-02</th>\n",
       "      <td>NaN</td>\n",
       "      <td>NaN</td>\n",
       "      <td>0.791482</td>\n",
       "      <td>NaN</td>\n",
       "    </tr>\n",
       "    <tr>\n",
       "      <th>2013-01-03</th>\n",
       "      <td>0.812184</td>\n",
       "      <td>NaN</td>\n",
       "      <td>NaN</td>\n",
       "      <td>1.669255</td>\n",
       "    </tr>\n",
       "    <tr>\n",
       "      <th>2013-01-04</th>\n",
       "      <td>0.834505</td>\n",
       "      <td>0.029459</td>\n",
       "      <td>0.543112</td>\n",
       "      <td>NaN</td>\n",
       "    </tr>\n",
       "    <tr>\n",
       "      <th>2013-01-05</th>\n",
       "      <td>0.646337</td>\n",
       "      <td>2.139297</td>\n",
       "      <td>NaN</td>\n",
       "      <td>0.107340</td>\n",
       "    </tr>\n",
       "    <tr>\n",
       "      <th>2013-01-06</th>\n",
       "      <td>1.766095</td>\n",
       "      <td>NaN</td>\n",
       "      <td>0.471119</td>\n",
       "      <td>0.227956</td>\n",
       "    </tr>\n",
       "  </tbody>\n",
       "</table>\n",
       "</div>"
      ],
      "text/plain": [
       "                   A         B         C         D\n",
       "2013-01-01       NaN       NaN       NaN       NaN\n",
       "2013-01-02       NaN       NaN  0.791482       NaN\n",
       "2013-01-03  0.812184       NaN       NaN  1.669255\n",
       "2013-01-04  0.834505  0.029459  0.543112       NaN\n",
       "2013-01-05  0.646337  2.139297       NaN  0.107340\n",
       "2013-01-06  1.766095       NaN  0.471119  0.227956"
      ]
     },
     "execution_count": 40,
     "metadata": {},
     "output_type": "execute_result"
    }
   ],
   "source": [
    "df[df > 0]"
   ]
  },
  {
   "cell_type": "markdown",
   "metadata": {
    "colab_type": "text",
    "id": "vzBroT61Eu78"
   },
   "source": [
    "필터링을 위한 메소드 [isin()](https://pandas.pydata.org/pandas-docs/stable/generated/pandas.Series.isin.html#pandas.Series.isin)을 사용합니다."
   ]
  },
  {
   "cell_type": "code",
   "execution_count": 41,
   "metadata": {
    "colab": {
     "autoexec": {
      "startup": false,
      "wait_interval": 0
     }
    },
    "colab_type": "code",
    "collapsed": true,
    "id": "aMskyf_-E4MI"
   },
   "outputs": [],
   "source": [
    "df2 = df.copy()"
   ]
  },
  {
   "cell_type": "code",
   "execution_count": 42,
   "metadata": {
    "colab": {
     "autoexec": {
      "startup": false,
      "wait_interval": 0
     }
    },
    "colab_type": "code",
    "collapsed": true,
    "id": "513jhj4ZE4eW"
   },
   "outputs": [],
   "source": [
    "df2['E'] = ['one', 'one', 'two', 'three', 'four', 'three']"
   ]
  },
  {
   "cell_type": "code",
   "execution_count": 43,
   "metadata": {
    "colab": {
     "autoexec": {
      "startup": false,
      "wait_interval": 0
     },
     "base_uri": "https://localhost:8080/",
     "height": 235
    },
    "colab_type": "code",
    "executionInfo": {
     "elapsed": 1396,
     "status": "ok",
     "timestamp": 1532272903260,
     "user": {
      "displayName": "EUNJI LEE",
      "photoUrl": "//lh5.googleusercontent.com/-Af1nbBVMBUM/AAAAAAAAAAI/AAAAAAAAAG8/Q6xuMVAUbHk/s50-c-k-no/photo.jpg",
      "userId": "113493488780737428858"
     },
     "user_tz": -540
    },
    "id": "oJyqTZ08E4ml",
    "outputId": "883b96fc-bc44-48a4-b95b-9e461ec6380c"
   },
   "outputs": [
    {
     "data": {
      "text/html": [
       "<div>\n",
       "<style>\n",
       "    .dataframe thead tr:only-child th {\n",
       "        text-align: right;\n",
       "    }\n",
       "\n",
       "    .dataframe thead th {\n",
       "        text-align: left;\n",
       "    }\n",
       "\n",
       "    .dataframe tbody tr th {\n",
       "        vertical-align: top;\n",
       "    }\n",
       "</style>\n",
       "<table border=\"1\" class=\"dataframe\">\n",
       "  <thead>\n",
       "    <tr style=\"text-align: right;\">\n",
       "      <th></th>\n",
       "      <th>A</th>\n",
       "      <th>B</th>\n",
       "      <th>C</th>\n",
       "      <th>D</th>\n",
       "      <th>E</th>\n",
       "    </tr>\n",
       "  </thead>\n",
       "  <tbody>\n",
       "    <tr>\n",
       "      <th>2013-01-01</th>\n",
       "      <td>-1.285004</td>\n",
       "      <td>-0.228990</td>\n",
       "      <td>-0.412877</td>\n",
       "      <td>-0.801001</td>\n",
       "      <td>one</td>\n",
       "    </tr>\n",
       "    <tr>\n",
       "      <th>2013-01-02</th>\n",
       "      <td>-1.403231</td>\n",
       "      <td>-0.316784</td>\n",
       "      <td>0.791482</td>\n",
       "      <td>-0.699104</td>\n",
       "      <td>one</td>\n",
       "    </tr>\n",
       "    <tr>\n",
       "      <th>2013-01-03</th>\n",
       "      <td>0.812184</td>\n",
       "      <td>-0.117943</td>\n",
       "      <td>-0.394338</td>\n",
       "      <td>1.669255</td>\n",
       "      <td>two</td>\n",
       "    </tr>\n",
       "    <tr>\n",
       "      <th>2013-01-04</th>\n",
       "      <td>0.834505</td>\n",
       "      <td>0.029459</td>\n",
       "      <td>0.543112</td>\n",
       "      <td>-1.471167</td>\n",
       "      <td>three</td>\n",
       "    </tr>\n",
       "    <tr>\n",
       "      <th>2013-01-05</th>\n",
       "      <td>0.646337</td>\n",
       "      <td>2.139297</td>\n",
       "      <td>-0.839317</td>\n",
       "      <td>0.107340</td>\n",
       "      <td>four</td>\n",
       "    </tr>\n",
       "    <tr>\n",
       "      <th>2013-01-06</th>\n",
       "      <td>1.766095</td>\n",
       "      <td>-0.026487</td>\n",
       "      <td>0.471119</td>\n",
       "      <td>0.227956</td>\n",
       "      <td>three</td>\n",
       "    </tr>\n",
       "  </tbody>\n",
       "</table>\n",
       "</div>"
      ],
      "text/plain": [
       "                   A         B         C         D      E\n",
       "2013-01-01 -1.285004 -0.228990 -0.412877 -0.801001    one\n",
       "2013-01-02 -1.403231 -0.316784  0.791482 -0.699104    one\n",
       "2013-01-03  0.812184 -0.117943 -0.394338  1.669255    two\n",
       "2013-01-04  0.834505  0.029459  0.543112 -1.471167  three\n",
       "2013-01-05  0.646337  2.139297 -0.839317  0.107340   four\n",
       "2013-01-06  1.766095 -0.026487  0.471119  0.227956  three"
      ]
     },
     "execution_count": 43,
     "metadata": {},
     "output_type": "execute_result"
    }
   ],
   "source": [
    "df2"
   ]
  },
  {
   "cell_type": "code",
   "execution_count": 44,
   "metadata": {
    "colab": {
     "autoexec": {
      "startup": false,
      "wait_interval": 0
     },
     "base_uri": "https://localhost:8080/",
     "height": 111
    },
    "colab_type": "code",
    "executionInfo": {
     "elapsed": 2123,
     "status": "ok",
     "timestamp": 1532272907883,
     "user": {
      "displayName": "EUNJI LEE",
      "photoUrl": "//lh5.googleusercontent.com/-Af1nbBVMBUM/AAAAAAAAAAI/AAAAAAAAAG8/Q6xuMVAUbHk/s50-c-k-no/photo.jpg",
      "userId": "113493488780737428858"
     },
     "user_tz": -540
    },
    "id": "VgrLcC_5FCEC",
    "outputId": "65a5fef7-38d9-4f64-82ea-99da1347fdfd"
   },
   "outputs": [
    {
     "data": {
      "text/html": [
       "<div>\n",
       "<style>\n",
       "    .dataframe thead tr:only-child th {\n",
       "        text-align: right;\n",
       "    }\n",
       "\n",
       "    .dataframe thead th {\n",
       "        text-align: left;\n",
       "    }\n",
       "\n",
       "    .dataframe tbody tr th {\n",
       "        vertical-align: top;\n",
       "    }\n",
       "</style>\n",
       "<table border=\"1\" class=\"dataframe\">\n",
       "  <thead>\n",
       "    <tr style=\"text-align: right;\">\n",
       "      <th></th>\n",
       "      <th>A</th>\n",
       "      <th>B</th>\n",
       "      <th>C</th>\n",
       "      <th>D</th>\n",
       "      <th>E</th>\n",
       "    </tr>\n",
       "  </thead>\n",
       "  <tbody>\n",
       "    <tr>\n",
       "      <th>2013-01-03</th>\n",
       "      <td>0.812184</td>\n",
       "      <td>-0.117943</td>\n",
       "      <td>-0.394338</td>\n",
       "      <td>1.669255</td>\n",
       "      <td>two</td>\n",
       "    </tr>\n",
       "    <tr>\n",
       "      <th>2013-01-05</th>\n",
       "      <td>0.646337</td>\n",
       "      <td>2.139297</td>\n",
       "      <td>-0.839317</td>\n",
       "      <td>0.107340</td>\n",
       "      <td>four</td>\n",
       "    </tr>\n",
       "  </tbody>\n",
       "</table>\n",
       "</div>"
      ],
      "text/plain": [
       "                   A         B         C         D     E\n",
       "2013-01-03  0.812184 -0.117943 -0.394338  1.669255   two\n",
       "2013-01-05  0.646337  2.139297 -0.839317  0.107340  four"
      ]
     },
     "execution_count": 44,
     "metadata": {},
     "output_type": "execute_result"
    }
   ],
   "source": [
    "df2[df2['E'].isin(['two','four'])]"
   ]
  },
  {
   "cell_type": "markdown",
   "metadata": {
    "colab_type": "text",
    "id": "qTihaKMQLNjE"
   },
   "source": [
    "### Setting (설정)"
   ]
  },
  {
   "cell_type": "markdown",
   "metadata": {
    "colab_type": "text",
    "id": "R2K2Oay2kHHP"
   },
   "source": [
    "새 열을 설정하면 데이터가 인덱스 별로 자동 정렬됩니다.\n"
   ]
  },
  {
   "cell_type": "code",
   "execution_count": 45,
   "metadata": {
    "colab": {
     "autoexec": {
      "startup": false,
      "wait_interval": 0
     }
    },
    "colab_type": "code",
    "collapsed": true,
    "id": "fvQJ2s5SLNjE"
   },
   "outputs": [],
   "source": [
    "s1 = pd.Series([1,2,3,4,5,6], index=pd.date_range('20130102', periods=6))"
   ]
  },
  {
   "cell_type": "code",
   "execution_count": 46,
   "metadata": {
    "colab": {
     "autoexec": {
      "startup": false,
      "wait_interval": 0
     },
     "base_uri": "https://localhost:8080/",
     "height": 143
    },
    "colab_type": "code",
    "executionInfo": {
     "elapsed": 2131,
     "status": "ok",
     "timestamp": 1532272915465,
     "user": {
      "displayName": "EUNJI LEE",
      "photoUrl": "//lh5.googleusercontent.com/-Af1nbBVMBUM/AAAAAAAAAAI/AAAAAAAAAG8/Q6xuMVAUbHk/s50-c-k-no/photo.jpg",
      "userId": "113493488780737428858"
     },
     "user_tz": -540
    },
    "id": "PQDBCDXh7TKl",
    "outputId": "3d5ee896-aa13-4ec0-988f-bcdf646aca8b"
   },
   "outputs": [
    {
     "data": {
      "text/plain": [
       "2013-01-02    1\n",
       "2013-01-03    2\n",
       "2013-01-04    3\n",
       "2013-01-05    4\n",
       "2013-01-06    5\n",
       "2013-01-07    6\n",
       "Freq: D, dtype: int64"
      ]
     },
     "execution_count": 46,
     "metadata": {},
     "output_type": "execute_result"
    }
   ],
   "source": [
    "s1"
   ]
  },
  {
   "cell_type": "code",
   "execution_count": 47,
   "metadata": {
    "colab": {
     "autoexec": {
      "startup": false,
      "wait_interval": 0
     }
    },
    "colab_type": "code",
    "collapsed": true,
    "id": "Rby6vIlw7ZBZ"
   },
   "outputs": [],
   "source": [
    "df['F'] = s1"
   ]
  },
  {
   "cell_type": "markdown",
   "metadata": {
    "colab_type": "text",
    "id": "uzRnbME87d3c"
   },
   "source": [
    "라벨에 의해 값을 설정합니다."
   ]
  },
  {
   "cell_type": "code",
   "execution_count": 48,
   "metadata": {
    "colab": {
     "autoexec": {
      "startup": false,
      "wait_interval": 0
     }
    },
    "colab_type": "code",
    "collapsed": true,
    "id": "y7IBkcwrLNjG"
   },
   "outputs": [],
   "source": [
    "df.at[dates[0],'A'] = 0"
   ]
  },
  {
   "cell_type": "markdown",
   "metadata": {
    "colab_type": "text",
    "id": "sMtaX7Ac8cH_"
   },
   "source": [
    "위치에 의해 값을 설정합니다."
   ]
  },
  {
   "cell_type": "code",
   "execution_count": 49,
   "metadata": {
    "colab": {
     "autoexec": {
      "startup": false,
      "wait_interval": 0
     }
    },
    "colab_type": "code",
    "collapsed": true,
    "id": "-gJFmCz47iSS"
   },
   "outputs": [],
   "source": [
    "df.iat[0,1] = 0"
   ]
  },
  {
   "cell_type": "markdown",
   "metadata": {
    "colab_type": "text",
    "id": "ogxVud9A81yE"
   },
   "source": [
    "NumPy 배열을 사용한 할당에 의해 값을 설정합니다."
   ]
  },
  {
   "cell_type": "code",
   "execution_count": 50,
   "metadata": {
    "colab": {
     "autoexec": {
      "startup": false,
      "wait_interval": 0
     }
    },
    "colab_type": "code",
    "collapsed": true,
    "id": "oP7RrCLm8zAT"
   },
   "outputs": [],
   "source": [
    "df.loc[:,'D'] = np.array([5] * len(df))"
   ]
  },
  {
   "cell_type": "markdown",
   "metadata": {
    "colab_type": "text",
    "id": "tGHZXR-K9IBc"
   },
   "source": [
    "위 설정대로 작동한 결과입니다."
   ]
  },
  {
   "cell_type": "code",
   "execution_count": 51,
   "metadata": {
    "colab": {
     "autoexec": {
      "startup": false,
      "wait_interval": 0
     },
     "base_uri": "https://localhost:8080/",
     "height": 235
    },
    "colab_type": "code",
    "executionInfo": {
     "elapsed": 919,
     "status": "ok",
     "timestamp": 1532272952791,
     "user": {
      "displayName": "EUNJI LEE",
      "photoUrl": "//lh5.googleusercontent.com/-Af1nbBVMBUM/AAAAAAAAAAI/AAAAAAAAAG8/Q6xuMVAUbHk/s50-c-k-no/photo.jpg",
      "userId": "113493488780737428858"
     },
     "user_tz": -540
    },
    "id": "TH7YbAYFLNjM",
    "outputId": "f85a2c8c-410a-4593-9817-0abf403ea8fe"
   },
   "outputs": [
    {
     "data": {
      "text/html": [
       "<div>\n",
       "<style>\n",
       "    .dataframe thead tr:only-child th {\n",
       "        text-align: right;\n",
       "    }\n",
       "\n",
       "    .dataframe thead th {\n",
       "        text-align: left;\n",
       "    }\n",
       "\n",
       "    .dataframe tbody tr th {\n",
       "        vertical-align: top;\n",
       "    }\n",
       "</style>\n",
       "<table border=\"1\" class=\"dataframe\">\n",
       "  <thead>\n",
       "    <tr style=\"text-align: right;\">\n",
       "      <th></th>\n",
       "      <th>A</th>\n",
       "      <th>B</th>\n",
       "      <th>C</th>\n",
       "      <th>D</th>\n",
       "      <th>F</th>\n",
       "    </tr>\n",
       "  </thead>\n",
       "  <tbody>\n",
       "    <tr>\n",
       "      <th>2013-01-01</th>\n",
       "      <td>0.000000</td>\n",
       "      <td>0.000000</td>\n",
       "      <td>-0.412877</td>\n",
       "      <td>5</td>\n",
       "      <td>NaN</td>\n",
       "    </tr>\n",
       "    <tr>\n",
       "      <th>2013-01-02</th>\n",
       "      <td>-1.403231</td>\n",
       "      <td>-0.316784</td>\n",
       "      <td>0.791482</td>\n",
       "      <td>5</td>\n",
       "      <td>1.0</td>\n",
       "    </tr>\n",
       "    <tr>\n",
       "      <th>2013-01-03</th>\n",
       "      <td>0.812184</td>\n",
       "      <td>-0.117943</td>\n",
       "      <td>-0.394338</td>\n",
       "      <td>5</td>\n",
       "      <td>2.0</td>\n",
       "    </tr>\n",
       "    <tr>\n",
       "      <th>2013-01-04</th>\n",
       "      <td>0.834505</td>\n",
       "      <td>0.029459</td>\n",
       "      <td>0.543112</td>\n",
       "      <td>5</td>\n",
       "      <td>3.0</td>\n",
       "    </tr>\n",
       "    <tr>\n",
       "      <th>2013-01-05</th>\n",
       "      <td>0.646337</td>\n",
       "      <td>2.139297</td>\n",
       "      <td>-0.839317</td>\n",
       "      <td>5</td>\n",
       "      <td>4.0</td>\n",
       "    </tr>\n",
       "    <tr>\n",
       "      <th>2013-01-06</th>\n",
       "      <td>1.766095</td>\n",
       "      <td>-0.026487</td>\n",
       "      <td>0.471119</td>\n",
       "      <td>5</td>\n",
       "      <td>5.0</td>\n",
       "    </tr>\n",
       "  </tbody>\n",
       "</table>\n",
       "</div>"
      ],
      "text/plain": [
       "                   A         B         C  D    F\n",
       "2013-01-01  0.000000  0.000000 -0.412877  5  NaN\n",
       "2013-01-02 -1.403231 -0.316784  0.791482  5  1.0\n",
       "2013-01-03  0.812184 -0.117943 -0.394338  5  2.0\n",
       "2013-01-04  0.834505  0.029459  0.543112  5  3.0\n",
       "2013-01-05  0.646337  2.139297 -0.839317  5  4.0\n",
       "2013-01-06  1.766095 -0.026487  0.471119  5  5.0"
      ]
     },
     "execution_count": 51,
     "metadata": {},
     "output_type": "execute_result"
    }
   ],
   "source": [
    "df"
   ]
  },
  {
   "cell_type": "markdown",
   "metadata": {
    "colab_type": "text",
    "id": "ATHUfgEp-afg"
   },
   "source": [
    "where 연산을 설정합니다."
   ]
  },
  {
   "cell_type": "code",
   "execution_count": 52,
   "metadata": {
    "colab": {
     "autoexec": {
      "startup": false,
      "wait_interval": 0
     }
    },
    "colab_type": "code",
    "collapsed": true,
    "id": "CYGS8DZeLNjN"
   },
   "outputs": [],
   "source": [
    "df2 = df.copy()"
   ]
  },
  {
   "cell_type": "code",
   "execution_count": 53,
   "metadata": {
    "colab": {
     "autoexec": {
      "startup": false,
      "wait_interval": 0
     }
    },
    "colab_type": "code",
    "collapsed": true,
    "id": "ENx6j5B3-T4P"
   },
   "outputs": [],
   "source": [
    "df2[df2 > 0] = -df2"
   ]
  },
  {
   "cell_type": "code",
   "execution_count": 54,
   "metadata": {
    "colab": {
     "autoexec": {
      "startup": false,
      "wait_interval": 0
     },
     "base_uri": "https://localhost:8080/",
     "height": 235
    },
    "colab_type": "code",
    "executionInfo": {
     "elapsed": 1168,
     "status": "ok",
     "timestamp": 1532272963723,
     "user": {
      "displayName": "EUNJI LEE",
      "photoUrl": "//lh5.googleusercontent.com/-Af1nbBVMBUM/AAAAAAAAAAI/AAAAAAAAAG8/Q6xuMVAUbHk/s50-c-k-no/photo.jpg",
      "userId": "113493488780737428858"
     },
     "user_tz": -540
    },
    "id": "C-4V1gy8-YME",
    "outputId": "d69594d0-8fae-4717-e308-c4f6ce9c1061"
   },
   "outputs": [
    {
     "data": {
      "text/html": [
       "<div>\n",
       "<style>\n",
       "    .dataframe thead tr:only-child th {\n",
       "        text-align: right;\n",
       "    }\n",
       "\n",
       "    .dataframe thead th {\n",
       "        text-align: left;\n",
       "    }\n",
       "\n",
       "    .dataframe tbody tr th {\n",
       "        vertical-align: top;\n",
       "    }\n",
       "</style>\n",
       "<table border=\"1\" class=\"dataframe\">\n",
       "  <thead>\n",
       "    <tr style=\"text-align: right;\">\n",
       "      <th></th>\n",
       "      <th>A</th>\n",
       "      <th>B</th>\n",
       "      <th>C</th>\n",
       "      <th>D</th>\n",
       "      <th>F</th>\n",
       "    </tr>\n",
       "  </thead>\n",
       "  <tbody>\n",
       "    <tr>\n",
       "      <th>2013-01-01</th>\n",
       "      <td>0.000000</td>\n",
       "      <td>0.000000</td>\n",
       "      <td>-0.412877</td>\n",
       "      <td>-5</td>\n",
       "      <td>NaN</td>\n",
       "    </tr>\n",
       "    <tr>\n",
       "      <th>2013-01-02</th>\n",
       "      <td>-1.403231</td>\n",
       "      <td>-0.316784</td>\n",
       "      <td>-0.791482</td>\n",
       "      <td>-5</td>\n",
       "      <td>-1.0</td>\n",
       "    </tr>\n",
       "    <tr>\n",
       "      <th>2013-01-03</th>\n",
       "      <td>-0.812184</td>\n",
       "      <td>-0.117943</td>\n",
       "      <td>-0.394338</td>\n",
       "      <td>-5</td>\n",
       "      <td>-2.0</td>\n",
       "    </tr>\n",
       "    <tr>\n",
       "      <th>2013-01-04</th>\n",
       "      <td>-0.834505</td>\n",
       "      <td>-0.029459</td>\n",
       "      <td>-0.543112</td>\n",
       "      <td>-5</td>\n",
       "      <td>-3.0</td>\n",
       "    </tr>\n",
       "    <tr>\n",
       "      <th>2013-01-05</th>\n",
       "      <td>-0.646337</td>\n",
       "      <td>-2.139297</td>\n",
       "      <td>-0.839317</td>\n",
       "      <td>-5</td>\n",
       "      <td>-4.0</td>\n",
       "    </tr>\n",
       "    <tr>\n",
       "      <th>2013-01-06</th>\n",
       "      <td>-1.766095</td>\n",
       "      <td>-0.026487</td>\n",
       "      <td>-0.471119</td>\n",
       "      <td>-5</td>\n",
       "      <td>-5.0</td>\n",
       "    </tr>\n",
       "  </tbody>\n",
       "</table>\n",
       "</div>"
      ],
      "text/plain": [
       "                   A         B         C  D    F\n",
       "2013-01-01  0.000000  0.000000 -0.412877 -5  NaN\n",
       "2013-01-02 -1.403231 -0.316784 -0.791482 -5 -1.0\n",
       "2013-01-03 -0.812184 -0.117943 -0.394338 -5 -2.0\n",
       "2013-01-04 -0.834505 -0.029459 -0.543112 -5 -3.0\n",
       "2013-01-05 -0.646337 -2.139297 -0.839317 -5 -4.0\n",
       "2013-01-06 -1.766095 -0.026487 -0.471119 -5 -5.0"
      ]
     },
     "execution_count": 54,
     "metadata": {},
     "output_type": "execute_result"
    }
   ],
   "source": [
    "df2"
   ]
  },
  {
   "cell_type": "markdown",
   "metadata": {
    "colab_type": "text",
    "id": "f7mkUirR5hit"
   },
   "source": [
    "## Missing Data (결측치)"
   ]
  },
  {
   "cell_type": "markdown",
   "metadata": {
    "colab_type": "text",
    "id": "p1uohebm9Emf"
   },
   "source": [
    "pandas는 결측치를 표현하기 위해 주로 np.nan 값을 사용합니다. 이 방법은 기본 설정값이지만 계산에는 포함되지 않습니다. <br>\n",
    "[Missing Data section](https://pandas.pydata.org/pandas-docs/stable/missing_data.html#missing-data)를 참조하세요."
   ]
  },
  {
   "cell_type": "markdown",
   "metadata": {
    "colab_type": "text",
    "id": "xAVZmDGC96Nn"
   },
   "source": [
    "Reindexing으로 지정된 축 상의 인덱스를 변경/추가/삭제할 수 있습니다. Reindexing은 데이터의 복사본을 반환합니다."
   ]
  },
  {
   "cell_type": "code",
   "execution_count": 35,
   "metadata": {
    "colab": {
     "autoexec": {
      "startup": false,
      "wait_interval": 0
     }
    },
    "colab_type": "code",
    "id": "zCxw1r4M-Pmt"
   },
   "outputs": [],
   "source": [
    "df1 = df.reindex(index=dates[0:4], columns=list(df.columns) + ['E'])"
   ]
  },
  {
   "cell_type": "code",
   "execution_count": 36,
   "metadata": {
    "colab": {
     "autoexec": {
      "startup": false,
      "wait_interval": 0
     }
    },
    "colab_type": "code",
    "id": "Oi_hYCsu-hfJ"
   },
   "outputs": [],
   "source": [
    "df1.loc[dates[0]:dates[1],'E'] = 1"
   ]
  },
  {
   "cell_type": "code",
   "execution_count": 37,
   "metadata": {
    "colab": {
     "autoexec": {
      "startup": false,
      "wait_interval": 0
     },
     "base_uri": "https://localhost:8080/",
     "height": 173
    },
    "colab_type": "code",
    "executionInfo": {
     "elapsed": 2040,
     "status": "ok",
     "timestamp": 1532272976080,
     "user": {
      "displayName": "EUNJI LEE",
      "photoUrl": "//lh5.googleusercontent.com/-Af1nbBVMBUM/AAAAAAAAAAI/AAAAAAAAAG8/Q6xuMVAUbHk/s50-c-k-no/photo.jpg",
      "userId": "113493488780737428858"
     },
     "user_tz": -540
    },
    "id": "w6yiTzDK-jwg",
    "outputId": "cf69a1d1-e244-4347-971f-2560800121c8"
   },
   "outputs": [
    {
     "data": {
      "text/html": [
       "<div>\n",
       "<style scoped>\n",
       "    .dataframe tbody tr th:only-of-type {\n",
       "        vertical-align: middle;\n",
       "    }\n",
       "\n",
       "    .dataframe tbody tr th {\n",
       "        vertical-align: top;\n",
       "    }\n",
       "\n",
       "    .dataframe thead th {\n",
       "        text-align: right;\n",
       "    }\n",
       "</style>\n",
       "<table border=\"1\" class=\"dataframe\">\n",
       "  <thead>\n",
       "    <tr style=\"text-align: right;\">\n",
       "      <th></th>\n",
       "      <th>A</th>\n",
       "      <th>B</th>\n",
       "      <th>C</th>\n",
       "      <th>D</th>\n",
       "      <th>E</th>\n",
       "    </tr>\n",
       "  </thead>\n",
       "  <tbody>\n",
       "    <tr>\n",
       "      <th>2013-01-01</th>\n",
       "      <td>1.203664</td>\n",
       "      <td>0.035199</td>\n",
       "      <td>-0.516512</td>\n",
       "      <td>-1.651954</td>\n",
       "      <td>1.0</td>\n",
       "    </tr>\n",
       "    <tr>\n",
       "      <th>2013-01-02</th>\n",
       "      <td>-0.935893</td>\n",
       "      <td>0.854944</td>\n",
       "      <td>-0.814971</td>\n",
       "      <td>-0.333447</td>\n",
       "      <td>1.0</td>\n",
       "    </tr>\n",
       "    <tr>\n",
       "      <th>2013-01-03</th>\n",
       "      <td>-2.364223</td>\n",
       "      <td>-2.187468</td>\n",
       "      <td>1.018928</td>\n",
       "      <td>1.252907</td>\n",
       "      <td>NaN</td>\n",
       "    </tr>\n",
       "    <tr>\n",
       "      <th>2013-01-04</th>\n",
       "      <td>-2.214020</td>\n",
       "      <td>0.361885</td>\n",
       "      <td>-0.390074</td>\n",
       "      <td>-0.497004</td>\n",
       "      <td>NaN</td>\n",
       "    </tr>\n",
       "  </tbody>\n",
       "</table>\n",
       "</div>"
      ],
      "text/plain": [
       "                   A         B         C         D    E\n",
       "2013-01-01  1.203664  0.035199 -0.516512 -1.651954  1.0\n",
       "2013-01-02 -0.935893  0.854944 -0.814971 -0.333447  1.0\n",
       "2013-01-03 -2.364223 -2.187468  1.018928  1.252907  NaN\n",
       "2013-01-04 -2.214020  0.361885 -0.390074 -0.497004  NaN"
      ]
     },
     "execution_count": 37,
     "metadata": {},
     "output_type": "execute_result"
    }
   ],
   "source": [
    "df1"
   ]
  },
  {
   "cell_type": "markdown",
   "metadata": {
    "colab_type": "text",
    "id": "nzGUIHyfAW3Y"
   },
   "source": [
    "결측치를 가지고 있는 행들을 지웁니다."
   ]
  },
  {
   "cell_type": "code",
   "execution_count": 38,
   "metadata": {
    "colab": {
     "autoexec": {
      "startup": false,
      "wait_interval": 0
     }
    },
    "colab_type": "code",
    "id": "S-zlTo0pAeyf",
    "outputId": "b9c418ab-c474-4ebf-9352-be30e1ab7f68"
   },
   "outputs": [
    {
     "data": {
      "text/html": [
       "<div>\n",
       "<style scoped>\n",
       "    .dataframe tbody tr th:only-of-type {\n",
       "        vertical-align: middle;\n",
       "    }\n",
       "\n",
       "    .dataframe tbody tr th {\n",
       "        vertical-align: top;\n",
       "    }\n",
       "\n",
       "    .dataframe thead th {\n",
       "        text-align: right;\n",
       "    }\n",
       "</style>\n",
       "<table border=\"1\" class=\"dataframe\">\n",
       "  <thead>\n",
       "    <tr style=\"text-align: right;\">\n",
       "      <th></th>\n",
       "      <th>A</th>\n",
       "      <th>B</th>\n",
       "      <th>C</th>\n",
       "      <th>D</th>\n",
       "      <th>E</th>\n",
       "    </tr>\n",
       "  </thead>\n",
       "  <tbody>\n",
       "    <tr>\n",
       "      <th>2013-01-01</th>\n",
       "      <td>1.203664</td>\n",
       "      <td>0.035199</td>\n",
       "      <td>-0.516512</td>\n",
       "      <td>-1.651954</td>\n",
       "      <td>1.0</td>\n",
       "    </tr>\n",
       "    <tr>\n",
       "      <th>2013-01-02</th>\n",
       "      <td>-0.935893</td>\n",
       "      <td>0.854944</td>\n",
       "      <td>-0.814971</td>\n",
       "      <td>-0.333447</td>\n",
       "      <td>1.0</td>\n",
       "    </tr>\n",
       "  </tbody>\n",
       "</table>\n",
       "</div>"
      ],
      "text/plain": [
       "                   A         B         C         D    E\n",
       "2013-01-01  1.203664  0.035199 -0.516512 -1.651954  1.0\n",
       "2013-01-02 -0.935893  0.854944 -0.814971 -0.333447  1.0"
      ]
     },
     "execution_count": 38,
     "metadata": {},
     "output_type": "execute_result"
    }
   ],
   "source": [
    "df1.dropna(how='any')"
   ]
  },
  {
   "cell_type": "markdown",
   "metadata": {
    "colab_type": "text",
    "id": "vrgy7BjkAfCF"
   },
   "source": [
    "결측치를 채워 넣습니다."
   ]
  },
  {
   "cell_type": "code",
   "execution_count": 59,
   "metadata": {
    "colab": {
     "autoexec": {
      "startup": false,
      "wait_interval": 0
     }
    },
    "colab_type": "code",
    "id": "h4nTFHr6AfUt",
    "outputId": "c0061a66-b48a-4133-e3f6-ea73defc4593"
   },
   "outputs": [
    {
     "data": {
      "text/html": [
       "<div>\n",
       "<style>\n",
       "    .dataframe thead tr:only-child th {\n",
       "        text-align: right;\n",
       "    }\n",
       "\n",
       "    .dataframe thead th {\n",
       "        text-align: left;\n",
       "    }\n",
       "\n",
       "    .dataframe tbody tr th {\n",
       "        vertical-align: top;\n",
       "    }\n",
       "</style>\n",
       "<table border=\"1\" class=\"dataframe\">\n",
       "  <thead>\n",
       "    <tr style=\"text-align: right;\">\n",
       "      <th></th>\n",
       "      <th>A</th>\n",
       "      <th>B</th>\n",
       "      <th>C</th>\n",
       "      <th>D</th>\n",
       "      <th>F</th>\n",
       "      <th>E</th>\n",
       "    </tr>\n",
       "  </thead>\n",
       "  <tbody>\n",
       "    <tr>\n",
       "      <th>2013-01-01</th>\n",
       "      <td>0.000000</td>\n",
       "      <td>0.000000</td>\n",
       "      <td>-0.412877</td>\n",
       "      <td>5</td>\n",
       "      <td>5.0</td>\n",
       "      <td>1.0</td>\n",
       "    </tr>\n",
       "    <tr>\n",
       "      <th>2013-01-02</th>\n",
       "      <td>-1.403231</td>\n",
       "      <td>-0.316784</td>\n",
       "      <td>0.791482</td>\n",
       "      <td>5</td>\n",
       "      <td>1.0</td>\n",
       "      <td>1.0</td>\n",
       "    </tr>\n",
       "    <tr>\n",
       "      <th>2013-01-03</th>\n",
       "      <td>0.812184</td>\n",
       "      <td>-0.117943</td>\n",
       "      <td>-0.394338</td>\n",
       "      <td>5</td>\n",
       "      <td>2.0</td>\n",
       "      <td>5.0</td>\n",
       "    </tr>\n",
       "    <tr>\n",
       "      <th>2013-01-04</th>\n",
       "      <td>0.834505</td>\n",
       "      <td>0.029459</td>\n",
       "      <td>0.543112</td>\n",
       "      <td>5</td>\n",
       "      <td>3.0</td>\n",
       "      <td>5.0</td>\n",
       "    </tr>\n",
       "  </tbody>\n",
       "</table>\n",
       "</div>"
      ],
      "text/plain": [
       "                   A         B         C  D    F    E\n",
       "2013-01-01  0.000000  0.000000 -0.412877  5  5.0  1.0\n",
       "2013-01-02 -1.403231 -0.316784  0.791482  5  1.0  1.0\n",
       "2013-01-03  0.812184 -0.117943 -0.394338  5  2.0  5.0\n",
       "2013-01-04  0.834505  0.029459  0.543112  5  3.0  5.0"
      ]
     },
     "execution_count": 59,
     "metadata": {},
     "output_type": "execute_result"
    }
   ],
   "source": [
    "df1.fillna(value=5)"
   ]
  },
  {
   "cell_type": "markdown",
   "metadata": {
    "colab_type": "text",
    "id": "rWuLWklCAkWB"
   },
   "source": [
    "nan인 값에 Boolean(을 통한) 표식을 얻습니다.\n",
    "\n",
    "*역자 주 : 데이터프레임의 모든 값이 Boolean 형태로 표시되도록 하며, nan인 값에만 True가 표시되게 하는 함수입니다.*"
   ]
  },
  {
   "cell_type": "code",
   "execution_count": 39,
   "metadata": {
    "colab": {
     "autoexec": {
      "startup": false,
      "wait_interval": 0
     }
    },
    "colab_type": "code",
    "id": "tcWqhC4IBAgI",
    "outputId": "c6fa7d0e-d302-4e08-ecd6-d554655e256c"
   },
   "outputs": [
    {
     "data": {
      "text/html": [
       "<div>\n",
       "<style scoped>\n",
       "    .dataframe tbody tr th:only-of-type {\n",
       "        vertical-align: middle;\n",
       "    }\n",
       "\n",
       "    .dataframe tbody tr th {\n",
       "        vertical-align: top;\n",
       "    }\n",
       "\n",
       "    .dataframe thead th {\n",
       "        text-align: right;\n",
       "    }\n",
       "</style>\n",
       "<table border=\"1\" class=\"dataframe\">\n",
       "  <thead>\n",
       "    <tr style=\"text-align: right;\">\n",
       "      <th></th>\n",
       "      <th>A</th>\n",
       "      <th>B</th>\n",
       "      <th>C</th>\n",
       "      <th>D</th>\n",
       "      <th>E</th>\n",
       "    </tr>\n",
       "  </thead>\n",
       "  <tbody>\n",
       "    <tr>\n",
       "      <th>2013-01-01</th>\n",
       "      <td>False</td>\n",
       "      <td>False</td>\n",
       "      <td>False</td>\n",
       "      <td>False</td>\n",
       "      <td>False</td>\n",
       "    </tr>\n",
       "    <tr>\n",
       "      <th>2013-01-02</th>\n",
       "      <td>False</td>\n",
       "      <td>False</td>\n",
       "      <td>False</td>\n",
       "      <td>False</td>\n",
       "      <td>False</td>\n",
       "    </tr>\n",
       "    <tr>\n",
       "      <th>2013-01-03</th>\n",
       "      <td>False</td>\n",
       "      <td>False</td>\n",
       "      <td>False</td>\n",
       "      <td>False</td>\n",
       "      <td>True</td>\n",
       "    </tr>\n",
       "    <tr>\n",
       "      <th>2013-01-04</th>\n",
       "      <td>False</td>\n",
       "      <td>False</td>\n",
       "      <td>False</td>\n",
       "      <td>False</td>\n",
       "      <td>True</td>\n",
       "    </tr>\n",
       "  </tbody>\n",
       "</table>\n",
       "</div>"
      ],
      "text/plain": [
       "                A      B      C      D      E\n",
       "2013-01-01  False  False  False  False  False\n",
       "2013-01-02  False  False  False  False  False\n",
       "2013-01-03  False  False  False  False   True\n",
       "2013-01-04  False  False  False  False   True"
      ]
     },
     "execution_count": 39,
     "metadata": {},
     "output_type": "execute_result"
    }
   ],
   "source": [
    "pd.isna(df1)"
   ]
  },
  {
   "cell_type": "markdown",
   "metadata": {
    "colab_type": "text",
    "id": "_Vtbv3Am59wL"
   },
   "source": [
    "## Operation (연산)"
   ]
  },
  {
   "cell_type": "markdown",
   "metadata": {
    "colab_type": "text",
    "id": "rX4XUGEG6gR4"
   },
   "source": [
    "[이진(Binary) 연산의 기본 섹션](https://pandas.pydata.org/pandas-docs/stable/basics.html#basics-binop)을 참조하세요."
   ]
  },
  {
   "cell_type": "markdown",
   "metadata": {
    "colab_type": "text",
    "id": "mcVNuuy_5_wW"
   },
   "source": [
    "### Stats (통계)"
   ]
  },
  {
   "cell_type": "markdown",
   "metadata": {
    "colab_type": "text",
    "id": "iPX_nN0vBiMb"
   },
   "source": [
    "일반적으로 결측치를 제외한 후 연산됩니다.\n",
    "\n",
    "기술통계를 수행합니다."
   ]
  },
  {
   "cell_type": "code",
   "execution_count": 61,
   "metadata": {
    "colab": {
     "autoexec": {
      "startup": false,
      "wait_interval": 0
     }
    },
    "colab_type": "code",
    "id": "6W54szbp68LC",
    "outputId": "af1fd902-c926-485d-a1b6-a75e2691674c",
    "scrolled": true
   },
   "outputs": [
    {
     "data": {
      "text/plain": [
       "A    0.442648\n",
       "B    0.284590\n",
       "C    0.026530\n",
       "D    5.000000\n",
       "F    3.000000\n",
       "dtype: float64"
      ]
     },
     "execution_count": 61,
     "metadata": {},
     "output_type": "execute_result"
    }
   ],
   "source": [
    "df.mean()"
   ]
  },
  {
   "cell_type": "markdown",
   "metadata": {
    "colab_type": "text",
    "id": "UdhVHC9A6996"
   },
   "source": [
    "다른 축에서 동일한 연산을 수행합니다."
   ]
  },
  {
   "cell_type": "code",
   "execution_count": 62,
   "metadata": {
    "colab": {
     "autoexec": {
      "startup": false,
      "wait_interval": 0
     }
    },
    "colab_type": "code",
    "id": "XC1HZGxN6-MI",
    "outputId": "094acede-e11e-425d-b041-d132eb568f90"
   },
   "outputs": [
    {
     "data": {
      "text/plain": [
       "2013-01-01    1.146781\n",
       "2013-01-02    1.014293\n",
       "2013-01-03    1.459981\n",
       "2013-01-04    1.881415\n",
       "2013-01-05    2.189263\n",
       "2013-01-06    2.442146\n",
       "Freq: D, dtype: float64"
      ]
     },
     "execution_count": 62,
     "metadata": {},
     "output_type": "execute_result"
    }
   ],
   "source": [
    "df.mean(1)"
   ]
  },
  {
   "cell_type": "markdown",
   "metadata": {
    "colab_type": "text",
    "id": "jiGhkFo-7HZf"
   },
   "source": [
    "정렬이 필요하며, 차원이 다른 객체로 연산해보겠습니다. 또한, pandas는 지정된 차원을 따라 자동으로 브로드 캐스팅됩니다.\n",
    "\n",
    "*역자 주 : broadcast란 numpy에서 유래한 용어로, n차원이나 스칼라 값으로 연산을 수행할 때 도출되는 결과의 규칙을 설명하는 것을 의미합니다.*"
   ]
  },
  {
   "cell_type": "code",
   "execution_count": 63,
   "metadata": {
    "colab": {
     "autoexec": {
      "startup": false,
      "wait_interval": 0
     }
    },
    "colab_type": "code",
    "collapsed": true,
    "id": "h3RUr6U_7Utf"
   },
   "outputs": [],
   "source": [
    "s = pd.Series([1,3,5,np.nan,6,8], index=dates).shift(2)"
   ]
  },
  {
   "cell_type": "code",
   "execution_count": 64,
   "metadata": {
    "colab": {
     "autoexec": {
      "startup": false,
      "wait_interval": 0
     }
    },
    "colab_type": "code",
    "id": "e-qo9CjL7XUD",
    "outputId": "7d7b1027-e101-4e63-c7d4-660d4b23abb8"
   },
   "outputs": [
    {
     "data": {
      "text/plain": [
       "2013-01-01    NaN\n",
       "2013-01-02    NaN\n",
       "2013-01-03    1.0\n",
       "2013-01-04    3.0\n",
       "2013-01-05    5.0\n",
       "2013-01-06    NaN\n",
       "Freq: D, dtype: float64"
      ]
     },
     "execution_count": 64,
     "metadata": {},
     "output_type": "execute_result"
    }
   ],
   "source": [
    "s"
   ]
  },
  {
   "cell_type": "code",
   "execution_count": 65,
   "metadata": {
    "colab": {
     "autoexec": {
      "startup": false,
      "wait_interval": 0
     }
    },
    "colab_type": "code",
    "id": "GowqZoeb7ZZo",
    "outputId": "5448cd31-75a5-42e7-a7fe-b7be75f2964d"
   },
   "outputs": [
    {
     "data": {
      "text/html": [
       "<div>\n",
       "<style>\n",
       "    .dataframe thead tr:only-child th {\n",
       "        text-align: right;\n",
       "    }\n",
       "\n",
       "    .dataframe thead th {\n",
       "        text-align: left;\n",
       "    }\n",
       "\n",
       "    .dataframe tbody tr th {\n",
       "        vertical-align: top;\n",
       "    }\n",
       "</style>\n",
       "<table border=\"1\" class=\"dataframe\">\n",
       "  <thead>\n",
       "    <tr style=\"text-align: right;\">\n",
       "      <th></th>\n",
       "      <th>A</th>\n",
       "      <th>B</th>\n",
       "      <th>C</th>\n",
       "      <th>D</th>\n",
       "      <th>F</th>\n",
       "    </tr>\n",
       "  </thead>\n",
       "  <tbody>\n",
       "    <tr>\n",
       "      <th>2013-01-01</th>\n",
       "      <td>NaN</td>\n",
       "      <td>NaN</td>\n",
       "      <td>NaN</td>\n",
       "      <td>NaN</td>\n",
       "      <td>NaN</td>\n",
       "    </tr>\n",
       "    <tr>\n",
       "      <th>2013-01-02</th>\n",
       "      <td>NaN</td>\n",
       "      <td>NaN</td>\n",
       "      <td>NaN</td>\n",
       "      <td>NaN</td>\n",
       "      <td>NaN</td>\n",
       "    </tr>\n",
       "    <tr>\n",
       "      <th>2013-01-03</th>\n",
       "      <td>-0.187816</td>\n",
       "      <td>-1.117943</td>\n",
       "      <td>-1.394338</td>\n",
       "      <td>4.0</td>\n",
       "      <td>1.0</td>\n",
       "    </tr>\n",
       "    <tr>\n",
       "      <th>2013-01-04</th>\n",
       "      <td>-2.165495</td>\n",
       "      <td>-2.970541</td>\n",
       "      <td>-2.456888</td>\n",
       "      <td>2.0</td>\n",
       "      <td>0.0</td>\n",
       "    </tr>\n",
       "    <tr>\n",
       "      <th>2013-01-05</th>\n",
       "      <td>-4.353663</td>\n",
       "      <td>-2.860703</td>\n",
       "      <td>-5.839317</td>\n",
       "      <td>0.0</td>\n",
       "      <td>-1.0</td>\n",
       "    </tr>\n",
       "    <tr>\n",
       "      <th>2013-01-06</th>\n",
       "      <td>NaN</td>\n",
       "      <td>NaN</td>\n",
       "      <td>NaN</td>\n",
       "      <td>NaN</td>\n",
       "      <td>NaN</td>\n",
       "    </tr>\n",
       "  </tbody>\n",
       "</table>\n",
       "</div>"
      ],
      "text/plain": [
       "                   A         B         C    D    F\n",
       "2013-01-01       NaN       NaN       NaN  NaN  NaN\n",
       "2013-01-02       NaN       NaN       NaN  NaN  NaN\n",
       "2013-01-03 -0.187816 -1.117943 -1.394338  4.0  1.0\n",
       "2013-01-04 -2.165495 -2.970541 -2.456888  2.0  0.0\n",
       "2013-01-05 -4.353663 -2.860703 -5.839317  0.0 -1.0\n",
       "2013-01-06       NaN       NaN       NaN  NaN  NaN"
      ]
     },
     "execution_count": 65,
     "metadata": {},
     "output_type": "execute_result"
    }
   ],
   "source": [
    "df.sub(s, axis='index')"
   ]
  },
  {
   "cell_type": "markdown",
   "metadata": {
    "colab_type": "text",
    "id": "R7jzj-cH6Ahc"
   },
   "source": [
    "### Apply (적용)"
   ]
  },
  {
   "cell_type": "markdown",
   "metadata": {
    "colab_type": "text",
    "id": "gkSA3r_R7Ea6"
   },
   "source": [
    "데이터에 함수를 적용합니다."
   ]
  },
  {
   "cell_type": "code",
   "execution_count": 66,
   "metadata": {
    "colab": {
     "autoexec": {
      "startup": false,
      "wait_interval": 0
     }
    },
    "colab_type": "code",
    "id": "kPNfiNAy7IQZ",
    "outputId": "3946d67a-ee03-4d0c-e56a-c73efbb32b67"
   },
   "outputs": [
    {
     "data": {
      "text/html": [
       "<div>\n",
       "<style>\n",
       "    .dataframe thead tr:only-child th {\n",
       "        text-align: right;\n",
       "    }\n",
       "\n",
       "    .dataframe thead th {\n",
       "        text-align: left;\n",
       "    }\n",
       "\n",
       "    .dataframe tbody tr th {\n",
       "        vertical-align: top;\n",
       "    }\n",
       "</style>\n",
       "<table border=\"1\" class=\"dataframe\">\n",
       "  <thead>\n",
       "    <tr style=\"text-align: right;\">\n",
       "      <th></th>\n",
       "      <th>A</th>\n",
       "      <th>B</th>\n",
       "      <th>C</th>\n",
       "      <th>D</th>\n",
       "      <th>F</th>\n",
       "    </tr>\n",
       "  </thead>\n",
       "  <tbody>\n",
       "    <tr>\n",
       "      <th>2013-01-01</th>\n",
       "      <td>0.000000</td>\n",
       "      <td>0.000000</td>\n",
       "      <td>-0.412877</td>\n",
       "      <td>5</td>\n",
       "      <td>NaN</td>\n",
       "    </tr>\n",
       "    <tr>\n",
       "      <th>2013-01-02</th>\n",
       "      <td>-1.403231</td>\n",
       "      <td>-0.316784</td>\n",
       "      <td>0.378605</td>\n",
       "      <td>10</td>\n",
       "      <td>1.0</td>\n",
       "    </tr>\n",
       "    <tr>\n",
       "      <th>2013-01-03</th>\n",
       "      <td>-0.591046</td>\n",
       "      <td>-0.434727</td>\n",
       "      <td>-0.015733</td>\n",
       "      <td>15</td>\n",
       "      <td>3.0</td>\n",
       "    </tr>\n",
       "    <tr>\n",
       "      <th>2013-01-04</th>\n",
       "      <td>0.243458</td>\n",
       "      <td>-0.405268</td>\n",
       "      <td>0.527380</td>\n",
       "      <td>20</td>\n",
       "      <td>6.0</td>\n",
       "    </tr>\n",
       "    <tr>\n",
       "      <th>2013-01-05</th>\n",
       "      <td>0.889795</td>\n",
       "      <td>1.734029</td>\n",
       "      <td>-0.311938</td>\n",
       "      <td>25</td>\n",
       "      <td>10.0</td>\n",
       "    </tr>\n",
       "    <tr>\n",
       "      <th>2013-01-06</th>\n",
       "      <td>2.655891</td>\n",
       "      <td>1.707541</td>\n",
       "      <td>0.159182</td>\n",
       "      <td>30</td>\n",
       "      <td>15.0</td>\n",
       "    </tr>\n",
       "  </tbody>\n",
       "</table>\n",
       "</div>"
      ],
      "text/plain": [
       "                   A         B         C   D     F\n",
       "2013-01-01  0.000000  0.000000 -0.412877   5   NaN\n",
       "2013-01-02 -1.403231 -0.316784  0.378605  10   1.0\n",
       "2013-01-03 -0.591046 -0.434727 -0.015733  15   3.0\n",
       "2013-01-04  0.243458 -0.405268  0.527380  20   6.0\n",
       "2013-01-05  0.889795  1.734029 -0.311938  25  10.0\n",
       "2013-01-06  2.655891  1.707541  0.159182  30  15.0"
      ]
     },
     "execution_count": 66,
     "metadata": {},
     "output_type": "execute_result"
    }
   ],
   "source": [
    "df.apply(np.cumsum)"
   ]
  },
  {
   "cell_type": "code",
   "execution_count": 67,
   "metadata": {
    "colab": {
     "autoexec": {
      "startup": false,
      "wait_interval": 0
     }
    },
    "colab_type": "code",
    "id": "y02IO2qi7QPj",
    "outputId": "cb3acd93-6aa1-4242-bd32-8237981133ac"
   },
   "outputs": [
    {
     "data": {
      "text/plain": [
       "A    3.169326\n",
       "B    2.456081\n",
       "C    1.630800\n",
       "D    0.000000\n",
       "F    4.000000\n",
       "dtype: float64"
      ]
     },
     "execution_count": 67,
     "metadata": {},
     "output_type": "execute_result"
    }
   ],
   "source": [
    "df.apply(lambda x: x.max() - x.min())"
   ]
  },
  {
   "cell_type": "markdown",
   "metadata": {
    "colab_type": "text",
    "id": "UyvQC_nC6S6g"
   },
   "source": [
    "### Histogramming (히스토그래밍)"
   ]
  },
  {
   "cell_type": "markdown",
   "metadata": {
    "colab_type": "text",
    "id": "lKd5leGq7KDd"
   },
   "source": [
    "더 많은 내용은 [Histogramming and Discretization (히스토그래밍과 이산화)](https://pandas.pydata.org/pandas-docs/stable/basics.html#basics-discretization) 항목을 참조하세요."
   ]
  },
  {
   "cell_type": "code",
   "execution_count": 68,
   "metadata": {
    "colab": {
     "autoexec": {
      "startup": false,
      "wait_interval": 0
     }
    },
    "colab_type": "code",
    "collapsed": true,
    "id": "TL4MDK3o7I6X"
   },
   "outputs": [],
   "source": [
    "s = pd.Series(np.random.randint(0, 7, size=10))"
   ]
  },
  {
   "cell_type": "code",
   "execution_count": 69,
   "metadata": {
    "colab": {
     "autoexec": {
      "startup": false,
      "wait_interval": 0
     }
    },
    "colab_type": "code",
    "id": "1Aa6PhyU7TD0",
    "outputId": "fd3a95f5-87a5-45f3-fccf-b7625f1b6173"
   },
   "outputs": [
    {
     "data": {
      "text/plain": [
       "0    0\n",
       "1    0\n",
       "2    3\n",
       "3    0\n",
       "4    3\n",
       "5    2\n",
       "6    5\n",
       "7    5\n",
       "8    2\n",
       "9    3\n",
       "dtype: int32"
      ]
     },
     "execution_count": 69,
     "metadata": {},
     "output_type": "execute_result"
    }
   ],
   "source": [
    "s"
   ]
  },
  {
   "cell_type": "code",
   "execution_count": 70,
   "metadata": {
    "colab": {
     "autoexec": {
      "startup": false,
      "wait_interval": 0
     },
     "base_uri": "https://localhost:8080/",
     "height": 124
    },
    "colab_type": "code",
    "executionInfo": {
     "elapsed": 910,
     "status": "ok",
     "timestamp": 1531813266562,
     "user": {
      "displayName": "이다혜",
      "photoUrl": "https://lh3.googleusercontent.com/a/default-user=s128",
      "userId": "111233705933183008783"
     },
     "user_tz": -540
    },
    "id": "Jft1Ma0v7VLn",
    "outputId": "5b58fe9b-e21b-4044-833f-abbae60ce26b"
   },
   "outputs": [
    {
     "data": {
      "text/plain": [
       "3    3\n",
       "0    3\n",
       "5    2\n",
       "2    2\n",
       "dtype: int64"
      ]
     },
     "execution_count": 70,
     "metadata": {},
     "output_type": "execute_result"
    }
   ],
   "source": [
    "s.value_counts()"
   ]
  },
  {
   "cell_type": "markdown",
   "metadata": {
    "colab_type": "text",
    "id": "WsQyIOdF6aPw"
   },
   "source": [
    "### String Methods (문자열 메소드)"
   ]
  },
  {
   "cell_type": "markdown",
   "metadata": {
    "colab_type": "text",
    "id": "ap_qOc_x7dwT"
   },
   "source": [
    "Series는 다음의 코드와 같이 문자열 처리 메소드 모음(set)을 가지고 있습니다. <br>\n",
    "이 모음은 배열의 각 요소를 쉽게 조작할 수 있도록 만들어주는 문자열의 속성에 포함되어 있습니다.\n",
    "\n",
    "문자열의 패턴 일치 확인은 기본적으로 정규 표현식을 사용하며, 몇몇 경우에는 항상 정규 표현식을 사용함에 유의하십시오.\n",
    "\n",
    "좀 더 자세한 내용은 [벡터화된 문자열 메소드](https://pandas.pydata.org/pandas-docs/stable/text.html#text-string-methods) 부분에서 확인할 수 있습니다."
   ]
  },
  {
   "cell_type": "code",
   "execution_count": 71,
   "metadata": {
    "colab": {
     "autoexec": {
      "startup": false,
      "wait_interval": 0
     }
    },
    "colab_type": "code",
    "collapsed": true,
    "id": "jn5Yl6Md7cqb"
   },
   "outputs": [],
   "source": [
    "s = pd.Series(['A', 'B', 'C', 'Aaba', 'Baca', np.nan, 'CABA', 'dog', 'cat'])"
   ]
  },
  {
   "cell_type": "code",
   "execution_count": 72,
   "metadata": {
    "colab": {
     "autoexec": {
      "startup": false,
      "wait_interval": 0
     }
    },
    "colab_type": "code",
    "id": "ZL7RxX4k8HHP",
    "outputId": "a72976c0-b81b-4c94-e64b-db88ac9a75a7"
   },
   "outputs": [
    {
     "data": {
      "text/plain": [
       "0       a\n",
       "1       b\n",
       "2       c\n",
       "3    aaba\n",
       "4    baca\n",
       "5     NaN\n",
       "6    caba\n",
       "7     dog\n",
       "8     cat\n",
       "dtype: object"
      ]
     },
     "execution_count": 72,
     "metadata": {},
     "output_type": "execute_result"
    }
   ],
   "source": [
    "s.str.lower()"
   ]
  },
  {
   "cell_type": "markdown",
   "metadata": {
    "colab_type": "text",
    "id": "-NpTTJzF34oe"
   },
   "source": [
    "## Merge (병합)"
   ]
  },
  {
   "cell_type": "markdown",
   "metadata": {
    "colab_type": "text",
    "id": "fZWj-N4CLNig"
   },
   "source": [
    "### Concat (연결)"
   ]
  },
  {
   "cell_type": "markdown",
   "metadata": {
    "colab_type": "text",
    "id": "2XQbTp_-LNii"
   },
   "source": [
    "결합(join) / 병합(merge) 형태의 연산에 대한 인덱스, 관계 대수 기능을 위한 다양한 형태의 논리를 포함한 Series, 데이터프레임, Panel 객체를 손쉽게 결합할 수 있도록 하는 다양한 기능을 pandas 에서 제공합니다. "
   ]
  },
  {
   "cell_type": "markdown",
   "metadata": {
    "colab_type": "text",
    "id": "yFuabtnHLNii"
   },
   "source": [
    "[Merging](https://pandas.pydata.org/pandas-docs/stable/merging.html#merging) 부분을 참조하세요. "
   ]
  },
  {
   "cell_type": "markdown",
   "metadata": {
    "colab_type": "text",
    "id": "QcnDHOtILNii"
   },
   "source": [
    "[concat()](https://pandas.pydata.org/pandas-docs/stable/generated/pandas.concat.html#pandas.concat)으로 pandas 객체를 연결합니다. "
   ]
  },
  {
   "cell_type": "code",
   "execution_count": 73,
   "metadata": {
    "colab": {
     "autoexec": {
      "startup": false,
      "wait_interval": 0
     }
    },
    "colab_type": "code",
    "collapsed": true,
    "id": "TCrlCvfu_IKR"
   },
   "outputs": [],
   "source": [
    "df = pd.DataFrame(np.random.randn(10, 4))"
   ]
  },
  {
   "cell_type": "code",
   "execution_count": 74,
   "metadata": {
    "colab": {
     "autoexec": {
      "startup": false,
      "wait_interval": 0
     },
     "base_uri": "https://localhost:8080/",
     "height": 348
    },
    "colab_type": "code",
    "executionInfo": {
     "elapsed": 1537,
     "status": "ok",
     "timestamp": 1531793469787,
     "user": {
      "displayName": "김윤경",
      "photoUrl": "//lh5.googleusercontent.com/-wzfg4UM-36w/AAAAAAAAAAI/AAAAAAAAAAc/JH9r5OPaF9s/s50-c-k-no/photo.jpg",
      "userId": "115512225066730141381"
     },
     "user_tz": -540
    },
    "id": "mdOlcCIKAVri",
    "outputId": "5d5650af-530b-403f-b400-583fcadea7b0"
   },
   "outputs": [
    {
     "data": {
      "text/html": [
       "<div>\n",
       "<style>\n",
       "    .dataframe thead tr:only-child th {\n",
       "        text-align: right;\n",
       "    }\n",
       "\n",
       "    .dataframe thead th {\n",
       "        text-align: left;\n",
       "    }\n",
       "\n",
       "    .dataframe tbody tr th {\n",
       "        vertical-align: top;\n",
       "    }\n",
       "</style>\n",
       "<table border=\"1\" class=\"dataframe\">\n",
       "  <thead>\n",
       "    <tr style=\"text-align: right;\">\n",
       "      <th></th>\n",
       "      <th>0</th>\n",
       "      <th>1</th>\n",
       "      <th>2</th>\n",
       "      <th>3</th>\n",
       "    </tr>\n",
       "  </thead>\n",
       "  <tbody>\n",
       "    <tr>\n",
       "      <th>0</th>\n",
       "      <td>-0.619545</td>\n",
       "      <td>0.438321</td>\n",
       "      <td>0.045161</td>\n",
       "      <td>-0.090580</td>\n",
       "    </tr>\n",
       "    <tr>\n",
       "      <th>1</th>\n",
       "      <td>-0.607351</td>\n",
       "      <td>-0.460920</td>\n",
       "      <td>1.086252</td>\n",
       "      <td>0.069311</td>\n",
       "    </tr>\n",
       "    <tr>\n",
       "      <th>2</th>\n",
       "      <td>-1.505874</td>\n",
       "      <td>-0.147020</td>\n",
       "      <td>0.762800</td>\n",
       "      <td>-1.948289</td>\n",
       "    </tr>\n",
       "    <tr>\n",
       "      <th>3</th>\n",
       "      <td>0.893628</td>\n",
       "      <td>-1.387833</td>\n",
       "      <td>1.010362</td>\n",
       "      <td>1.073543</td>\n",
       "    </tr>\n",
       "    <tr>\n",
       "      <th>4</th>\n",
       "      <td>0.007528</td>\n",
       "      <td>-0.380234</td>\n",
       "      <td>0.466893</td>\n",
       "      <td>0.189073</td>\n",
       "    </tr>\n",
       "    <tr>\n",
       "      <th>5</th>\n",
       "      <td>1.173880</td>\n",
       "      <td>-0.164525</td>\n",
       "      <td>1.020937</td>\n",
       "      <td>0.641751</td>\n",
       "    </tr>\n",
       "    <tr>\n",
       "      <th>6</th>\n",
       "      <td>-0.550514</td>\n",
       "      <td>-0.796966</td>\n",
       "      <td>-0.071519</td>\n",
       "      <td>-0.493431</td>\n",
       "    </tr>\n",
       "    <tr>\n",
       "      <th>7</th>\n",
       "      <td>0.250619</td>\n",
       "      <td>-1.676189</td>\n",
       "      <td>-1.722703</td>\n",
       "      <td>-0.639210</td>\n",
       "    </tr>\n",
       "    <tr>\n",
       "      <th>8</th>\n",
       "      <td>-0.119734</td>\n",
       "      <td>-0.599197</td>\n",
       "      <td>2.282847</td>\n",
       "      <td>0.403409</td>\n",
       "    </tr>\n",
       "    <tr>\n",
       "      <th>9</th>\n",
       "      <td>0.233205</td>\n",
       "      <td>-0.569511</td>\n",
       "      <td>-0.780681</td>\n",
       "      <td>0.654899</td>\n",
       "    </tr>\n",
       "  </tbody>\n",
       "</table>\n",
       "</div>"
      ],
      "text/plain": [
       "          0         1         2         3\n",
       "0 -0.619545  0.438321  0.045161 -0.090580\n",
       "1 -0.607351 -0.460920  1.086252  0.069311\n",
       "2 -1.505874 -0.147020  0.762800 -1.948289\n",
       "3  0.893628 -1.387833  1.010362  1.073543\n",
       "4  0.007528 -0.380234  0.466893  0.189073\n",
       "5  1.173880 -0.164525  1.020937  0.641751\n",
       "6 -0.550514 -0.796966 -0.071519 -0.493431\n",
       "7  0.250619 -1.676189 -1.722703 -0.639210\n",
       "8 -0.119734 -0.599197  2.282847  0.403409\n",
       "9  0.233205 -0.569511 -0.780681  0.654899"
      ]
     },
     "execution_count": 74,
     "metadata": {},
     "output_type": "execute_result"
    }
   ],
   "source": [
    "df"
   ]
  },
  {
   "cell_type": "code",
   "execution_count": 75,
   "metadata": {
    "colab": {
     "autoexec": {
      "startup": false,
      "wait_interval": 0
     }
    },
    "colab_type": "code",
    "collapsed": true,
    "id": "eJgLcGzLAYU-"
   },
   "outputs": [],
   "source": [
    "# break it into pieces\n",
    "pieces = [df[:3], df[3:7], df[7:]]"
   ]
  },
  {
   "cell_type": "code",
   "execution_count": 76,
   "metadata": {
    "colab": {
     "autoexec": {
      "startup": false,
      "wait_interval": 0
     }
    },
    "colab_type": "code",
    "id": "JQE1qIJaxBWK",
    "outputId": "290e3107-c385-4e12-c231-22c2cdc92eea"
   },
   "outputs": [
    {
     "data": {
      "text/html": [
       "<div>\n",
       "<style>\n",
       "    .dataframe thead tr:only-child th {\n",
       "        text-align: right;\n",
       "    }\n",
       "\n",
       "    .dataframe thead th {\n",
       "        text-align: left;\n",
       "    }\n",
       "\n",
       "    .dataframe tbody tr th {\n",
       "        vertical-align: top;\n",
       "    }\n",
       "</style>\n",
       "<table border=\"1\" class=\"dataframe\">\n",
       "  <thead>\n",
       "    <tr style=\"text-align: right;\">\n",
       "      <th></th>\n",
       "      <th>0</th>\n",
       "      <th>1</th>\n",
       "      <th>2</th>\n",
       "      <th>3</th>\n",
       "    </tr>\n",
       "  </thead>\n",
       "  <tbody>\n",
       "    <tr>\n",
       "      <th>0</th>\n",
       "      <td>-0.619545</td>\n",
       "      <td>0.438321</td>\n",
       "      <td>0.045161</td>\n",
       "      <td>-0.090580</td>\n",
       "    </tr>\n",
       "    <tr>\n",
       "      <th>1</th>\n",
       "      <td>-0.607351</td>\n",
       "      <td>-0.460920</td>\n",
       "      <td>1.086252</td>\n",
       "      <td>0.069311</td>\n",
       "    </tr>\n",
       "    <tr>\n",
       "      <th>2</th>\n",
       "      <td>-1.505874</td>\n",
       "      <td>-0.147020</td>\n",
       "      <td>0.762800</td>\n",
       "      <td>-1.948289</td>\n",
       "    </tr>\n",
       "    <tr>\n",
       "      <th>3</th>\n",
       "      <td>0.893628</td>\n",
       "      <td>-1.387833</td>\n",
       "      <td>1.010362</td>\n",
       "      <td>1.073543</td>\n",
       "    </tr>\n",
       "    <tr>\n",
       "      <th>4</th>\n",
       "      <td>0.007528</td>\n",
       "      <td>-0.380234</td>\n",
       "      <td>0.466893</td>\n",
       "      <td>0.189073</td>\n",
       "    </tr>\n",
       "    <tr>\n",
       "      <th>5</th>\n",
       "      <td>1.173880</td>\n",
       "      <td>-0.164525</td>\n",
       "      <td>1.020937</td>\n",
       "      <td>0.641751</td>\n",
       "    </tr>\n",
       "    <tr>\n",
       "      <th>6</th>\n",
       "      <td>-0.550514</td>\n",
       "      <td>-0.796966</td>\n",
       "      <td>-0.071519</td>\n",
       "      <td>-0.493431</td>\n",
       "    </tr>\n",
       "    <tr>\n",
       "      <th>7</th>\n",
       "      <td>0.250619</td>\n",
       "      <td>-1.676189</td>\n",
       "      <td>-1.722703</td>\n",
       "      <td>-0.639210</td>\n",
       "    </tr>\n",
       "    <tr>\n",
       "      <th>8</th>\n",
       "      <td>-0.119734</td>\n",
       "      <td>-0.599197</td>\n",
       "      <td>2.282847</td>\n",
       "      <td>0.403409</td>\n",
       "    </tr>\n",
       "    <tr>\n",
       "      <th>9</th>\n",
       "      <td>0.233205</td>\n",
       "      <td>-0.569511</td>\n",
       "      <td>-0.780681</td>\n",
       "      <td>0.654899</td>\n",
       "    </tr>\n",
       "  </tbody>\n",
       "</table>\n",
       "</div>"
      ],
      "text/plain": [
       "          0         1         2         3\n",
       "0 -0.619545  0.438321  0.045161 -0.090580\n",
       "1 -0.607351 -0.460920  1.086252  0.069311\n",
       "2 -1.505874 -0.147020  0.762800 -1.948289\n",
       "3  0.893628 -1.387833  1.010362  1.073543\n",
       "4  0.007528 -0.380234  0.466893  0.189073\n",
       "5  1.173880 -0.164525  1.020937  0.641751\n",
       "6 -0.550514 -0.796966 -0.071519 -0.493431\n",
       "7  0.250619 -1.676189 -1.722703 -0.639210\n",
       "8 -0.119734 -0.599197  2.282847  0.403409\n",
       "9  0.233205 -0.569511 -0.780681  0.654899"
      ]
     },
     "execution_count": 76,
     "metadata": {},
     "output_type": "execute_result"
    }
   ],
   "source": [
    "pd.concat(pieces)"
   ]
  },
  {
   "cell_type": "markdown",
   "metadata": {
    "colab_type": "text",
    "id": "7IBM0m8GLNjX"
   },
   "source": [
    "### Join (결합)"
   ]
  },
  {
   "cell_type": "markdown",
   "metadata": {
    "colab_type": "text",
    "id": "AxRyEICVkHJb"
   },
   "source": [
    "SQL 방식으로 병합합니다. [데이터베이스 스타일 결합](https://pandas.pydata.org/pandas-docs/stable/merging.html#merging-join) 부분을 참고하세요."
   ]
  },
  {
   "cell_type": "code",
   "execution_count": 77,
   "metadata": {
    "colab": {
     "autoexec": {
      "startup": false,
      "wait_interval": 0
     }
    },
    "colab_type": "code",
    "collapsed": true,
    "id": "e-srIyoILNjX"
   },
   "outputs": [],
   "source": [
    "left = pd.DataFrame({'key': ['foo', 'foo'], 'lval': [1, 2]})"
   ]
  },
  {
   "cell_type": "code",
   "execution_count": 78,
   "metadata": {
    "colab": {
     "autoexec": {
      "startup": false,
      "wait_interval": 0
     }
    },
    "colab_type": "code",
    "collapsed": true,
    "id": "v5bAleqrLNjZ"
   },
   "outputs": [],
   "source": [
    "right = pd.DataFrame({'key': ['foo', 'foo'], 'rval': [4, 5]})"
   ]
  },
  {
   "cell_type": "code",
   "execution_count": 79,
   "metadata": {
    "colab": {
     "autoexec": {
      "startup": false,
      "wait_interval": 0
     },
     "base_uri": "https://localhost:8080/",
     "height": 108
    },
    "colab_type": "code",
    "executionInfo": {
     "elapsed": 643,
     "status": "ok",
     "timestamp": 1531792928869,
     "user": {
      "displayName": "Saerom Bang",
      "photoUrl": "https://lh3.googleusercontent.com/a/default-user=s128",
      "userId": "108723802128607926930"
     },
     "user_tz": -540
    },
    "id": "wFKpjvEWLNja",
    "outputId": "eaecef75-6d58-47d5-ea50-09bce9c74fc4"
   },
   "outputs": [
    {
     "data": {
      "text/html": [
       "<div>\n",
       "<style>\n",
       "    .dataframe thead tr:only-child th {\n",
       "        text-align: right;\n",
       "    }\n",
       "\n",
       "    .dataframe thead th {\n",
       "        text-align: left;\n",
       "    }\n",
       "\n",
       "    .dataframe tbody tr th {\n",
       "        vertical-align: top;\n",
       "    }\n",
       "</style>\n",
       "<table border=\"1\" class=\"dataframe\">\n",
       "  <thead>\n",
       "    <tr style=\"text-align: right;\">\n",
       "      <th></th>\n",
       "      <th>key</th>\n",
       "      <th>lval</th>\n",
       "    </tr>\n",
       "  </thead>\n",
       "  <tbody>\n",
       "    <tr>\n",
       "      <th>0</th>\n",
       "      <td>foo</td>\n",
       "      <td>1</td>\n",
       "    </tr>\n",
       "    <tr>\n",
       "      <th>1</th>\n",
       "      <td>foo</td>\n",
       "      <td>2</td>\n",
       "    </tr>\n",
       "  </tbody>\n",
       "</table>\n",
       "</div>"
      ],
      "text/plain": [
       "   key  lval\n",
       "0  foo     1\n",
       "1  foo     2"
      ]
     },
     "execution_count": 79,
     "metadata": {},
     "output_type": "execute_result"
    }
   ],
   "source": [
    "left"
   ]
  },
  {
   "cell_type": "code",
   "execution_count": 80,
   "metadata": {
    "colab": {
     "autoexec": {
      "startup": false,
      "wait_interval": 0
     },
     "base_uri": "https://localhost:8080/",
     "height": 108
    },
    "colab_type": "code",
    "executionInfo": {
     "elapsed": 712,
     "status": "ok",
     "timestamp": 1531792933336,
     "user": {
      "displayName": "Saerom Bang",
      "photoUrl": "https://lh3.googleusercontent.com/a/default-user=s128",
      "userId": "108723802128607926930"
     },
     "user_tz": -540
    },
    "id": "yg9oRrTA4ntI",
    "outputId": "8d8143a5-9fc8-4a82-d8c4-291d7850be44"
   },
   "outputs": [
    {
     "data": {
      "text/html": [
       "<div>\n",
       "<style>\n",
       "    .dataframe thead tr:only-child th {\n",
       "        text-align: right;\n",
       "    }\n",
       "\n",
       "    .dataframe thead th {\n",
       "        text-align: left;\n",
       "    }\n",
       "\n",
       "    .dataframe tbody tr th {\n",
       "        vertical-align: top;\n",
       "    }\n",
       "</style>\n",
       "<table border=\"1\" class=\"dataframe\">\n",
       "  <thead>\n",
       "    <tr style=\"text-align: right;\">\n",
       "      <th></th>\n",
       "      <th>key</th>\n",
       "      <th>rval</th>\n",
       "    </tr>\n",
       "  </thead>\n",
       "  <tbody>\n",
       "    <tr>\n",
       "      <th>0</th>\n",
       "      <td>foo</td>\n",
       "      <td>4</td>\n",
       "    </tr>\n",
       "    <tr>\n",
       "      <th>1</th>\n",
       "      <td>foo</td>\n",
       "      <td>5</td>\n",
       "    </tr>\n",
       "  </tbody>\n",
       "</table>\n",
       "</div>"
      ],
      "text/plain": [
       "   key  rval\n",
       "0  foo     4\n",
       "1  foo     5"
      ]
     },
     "execution_count": 80,
     "metadata": {},
     "output_type": "execute_result"
    }
   ],
   "source": [
    "right"
   ]
  },
  {
   "cell_type": "code",
   "execution_count": 81,
   "metadata": {
    "colab": {
     "autoexec": {
      "startup": false,
      "wait_interval": 0
     },
     "base_uri": "https://localhost:8080/",
     "height": 169
    },
    "colab_type": "code",
    "executionInfo": {
     "elapsed": 699,
     "status": "ok",
     "timestamp": 1531793228904,
     "user": {
      "displayName": "Saerom Bang",
      "photoUrl": "https://lh3.googleusercontent.com/a/default-user=s128",
      "userId": "108723802128607926930"
     },
     "user_tz": -540
    },
    "id": "5fN8wCZl5qVv",
    "outputId": "f124412e-daf4-4635-92b6-35a2137496bd"
   },
   "outputs": [
    {
     "data": {
      "text/html": [
       "<div>\n",
       "<style>\n",
       "    .dataframe thead tr:only-child th {\n",
       "        text-align: right;\n",
       "    }\n",
       "\n",
       "    .dataframe thead th {\n",
       "        text-align: left;\n",
       "    }\n",
       "\n",
       "    .dataframe tbody tr th {\n",
       "        vertical-align: top;\n",
       "    }\n",
       "</style>\n",
       "<table border=\"1\" class=\"dataframe\">\n",
       "  <thead>\n",
       "    <tr style=\"text-align: right;\">\n",
       "      <th></th>\n",
       "      <th>key</th>\n",
       "      <th>lval</th>\n",
       "      <th>rval</th>\n",
       "    </tr>\n",
       "  </thead>\n",
       "  <tbody>\n",
       "    <tr>\n",
       "      <th>0</th>\n",
       "      <td>foo</td>\n",
       "      <td>1</td>\n",
       "      <td>4</td>\n",
       "    </tr>\n",
       "    <tr>\n",
       "      <th>1</th>\n",
       "      <td>foo</td>\n",
       "      <td>1</td>\n",
       "      <td>5</td>\n",
       "    </tr>\n",
       "    <tr>\n",
       "      <th>2</th>\n",
       "      <td>foo</td>\n",
       "      <td>2</td>\n",
       "      <td>4</td>\n",
       "    </tr>\n",
       "    <tr>\n",
       "      <th>3</th>\n",
       "      <td>foo</td>\n",
       "      <td>2</td>\n",
       "      <td>5</td>\n",
       "    </tr>\n",
       "  </tbody>\n",
       "</table>\n",
       "</div>"
      ],
      "text/plain": [
       "   key  lval  rval\n",
       "0  foo     1     4\n",
       "1  foo     1     5\n",
       "2  foo     2     4\n",
       "3  foo     2     5"
      ]
     },
     "execution_count": 81,
     "metadata": {},
     "output_type": "execute_result"
    }
   ],
   "source": [
    "pd.merge(left, right, on= 'key')"
   ]
  },
  {
   "cell_type": "markdown",
   "metadata": {
    "colab_type": "text",
    "id": "UEBAM4h6_gid"
   },
   "source": [
    "다른 예시입니다."
   ]
  },
  {
   "cell_type": "code",
   "execution_count": 82,
   "metadata": {
    "colab": {
     "autoexec": {
      "startup": false,
      "wait_interval": 0
     }
    },
    "colab_type": "code",
    "collapsed": true,
    "id": "h2Xlgd-o6xIx"
   },
   "outputs": [],
   "source": [
    "left = pd.DataFrame({'key' : ['foo', 'bar'], 'lval' : [1, 2]})"
   ]
  },
  {
   "cell_type": "code",
   "execution_count": 83,
   "metadata": {
    "colab": {
     "autoexec": {
      "startup": false,
      "wait_interval": 0
     }
    },
    "colab_type": "code",
    "collapsed": true,
    "id": "8FnaD9XoAtnd"
   },
   "outputs": [],
   "source": [
    "right = pd.DataFrame({'key': ['foo', 'bar'], 'rval': [4, 5]})"
   ]
  },
  {
   "cell_type": "code",
   "execution_count": 84,
   "metadata": {
    "colab": {
     "autoexec": {
      "startup": false,
      "wait_interval": 0
     },
     "base_uri": "https://localhost:8080/",
     "height": 108
    },
    "colab_type": "code",
    "executionInfo": {
     "elapsed": 705,
     "status": "ok",
     "timestamp": 1531793641257,
     "user": {
      "displayName": "Saerom Bang",
      "photoUrl": "https://lh3.googleusercontent.com/a/default-user=s128",
      "userId": "108723802128607926930"
     },
     "user_tz": -540
    },
    "id": "Y15ZVKlKA--o",
    "outputId": "daf289b9-e39f-4f05-b3dd-8df7442ee656"
   },
   "outputs": [
    {
     "data": {
      "text/html": [
       "<div>\n",
       "<style>\n",
       "    .dataframe thead tr:only-child th {\n",
       "        text-align: right;\n",
       "    }\n",
       "\n",
       "    .dataframe thead th {\n",
       "        text-align: left;\n",
       "    }\n",
       "\n",
       "    .dataframe tbody tr th {\n",
       "        vertical-align: top;\n",
       "    }\n",
       "</style>\n",
       "<table border=\"1\" class=\"dataframe\">\n",
       "  <thead>\n",
       "    <tr style=\"text-align: right;\">\n",
       "      <th></th>\n",
       "      <th>key</th>\n",
       "      <th>lval</th>\n",
       "    </tr>\n",
       "  </thead>\n",
       "  <tbody>\n",
       "    <tr>\n",
       "      <th>0</th>\n",
       "      <td>foo</td>\n",
       "      <td>1</td>\n",
       "    </tr>\n",
       "    <tr>\n",
       "      <th>1</th>\n",
       "      <td>bar</td>\n",
       "      <td>2</td>\n",
       "    </tr>\n",
       "  </tbody>\n",
       "</table>\n",
       "</div>"
      ],
      "text/plain": [
       "   key  lval\n",
       "0  foo     1\n",
       "1  bar     2"
      ]
     },
     "execution_count": 84,
     "metadata": {},
     "output_type": "execute_result"
    }
   ],
   "source": [
    "left"
   ]
  },
  {
   "cell_type": "code",
   "execution_count": 85,
   "metadata": {
    "colab": {
     "autoexec": {
      "startup": false,
      "wait_interval": 0
     },
     "base_uri": "https://localhost:8080/",
     "height": 108
    },
    "colab_type": "code",
    "executionInfo": {
     "elapsed": 771,
     "status": "ok",
     "timestamp": 1531793655054,
     "user": {
      "displayName": "Saerom Bang",
      "photoUrl": "https://lh3.googleusercontent.com/a/default-user=s128",
      "userId": "108723802128607926930"
     },
     "user_tz": -540
    },
    "id": "ZRpNjm6wBCW0",
    "outputId": "ff4d9d71-6586-41c6-912c-dd54e99d451e"
   },
   "outputs": [
    {
     "data": {
      "text/html": [
       "<div>\n",
       "<style>\n",
       "    .dataframe thead tr:only-child th {\n",
       "        text-align: right;\n",
       "    }\n",
       "\n",
       "    .dataframe thead th {\n",
       "        text-align: left;\n",
       "    }\n",
       "\n",
       "    .dataframe tbody tr th {\n",
       "        vertical-align: top;\n",
       "    }\n",
       "</style>\n",
       "<table border=\"1\" class=\"dataframe\">\n",
       "  <thead>\n",
       "    <tr style=\"text-align: right;\">\n",
       "      <th></th>\n",
       "      <th>key</th>\n",
       "      <th>rval</th>\n",
       "    </tr>\n",
       "  </thead>\n",
       "  <tbody>\n",
       "    <tr>\n",
       "      <th>0</th>\n",
       "      <td>foo</td>\n",
       "      <td>4</td>\n",
       "    </tr>\n",
       "    <tr>\n",
       "      <th>1</th>\n",
       "      <td>bar</td>\n",
       "      <td>5</td>\n",
       "    </tr>\n",
       "  </tbody>\n",
       "</table>\n",
       "</div>"
      ],
      "text/plain": [
       "   key  rval\n",
       "0  foo     4\n",
       "1  bar     5"
      ]
     },
     "execution_count": 85,
     "metadata": {},
     "output_type": "execute_result"
    }
   ],
   "source": [
    "right "
   ]
  },
  {
   "cell_type": "code",
   "execution_count": 86,
   "metadata": {
    "colab": {
     "autoexec": {
      "startup": false,
      "wait_interval": 0
     },
     "base_uri": "https://localhost:8080/",
     "height": 108
    },
    "colab_type": "code",
    "executionInfo": {
     "elapsed": 741,
     "status": "ok",
     "timestamp": 1531793682238,
     "user": {
      "displayName": "Saerom Bang",
      "photoUrl": "https://lh3.googleusercontent.com/a/default-user=s128",
      "userId": "108723802128607926930"
     },
     "user_tz": -540
    },
    "id": "duVQRnqnBFPe",
    "outputId": "665d2aa5-b50f-4288-8261-2ca2b2e07f5b"
   },
   "outputs": [
    {
     "data": {
      "text/html": [
       "<div>\n",
       "<style>\n",
       "    .dataframe thead tr:only-child th {\n",
       "        text-align: right;\n",
       "    }\n",
       "\n",
       "    .dataframe thead th {\n",
       "        text-align: left;\n",
       "    }\n",
       "\n",
       "    .dataframe tbody tr th {\n",
       "        vertical-align: top;\n",
       "    }\n",
       "</style>\n",
       "<table border=\"1\" class=\"dataframe\">\n",
       "  <thead>\n",
       "    <tr style=\"text-align: right;\">\n",
       "      <th></th>\n",
       "      <th>key</th>\n",
       "      <th>lval</th>\n",
       "      <th>rval</th>\n",
       "    </tr>\n",
       "  </thead>\n",
       "  <tbody>\n",
       "    <tr>\n",
       "      <th>0</th>\n",
       "      <td>foo</td>\n",
       "      <td>1</td>\n",
       "      <td>4</td>\n",
       "    </tr>\n",
       "    <tr>\n",
       "      <th>1</th>\n",
       "      <td>bar</td>\n",
       "      <td>2</td>\n",
       "      <td>5</td>\n",
       "    </tr>\n",
       "  </tbody>\n",
       "</table>\n",
       "</div>"
      ],
      "text/plain": [
       "   key  lval  rval\n",
       "0  foo     1     4\n",
       "1  bar     2     5"
      ]
     },
     "execution_count": 86,
     "metadata": {},
     "output_type": "execute_result"
    }
   ],
   "source": [
    "pd.merge(left, right, on= 'key')"
   ]
  },
  {
   "cell_type": "markdown",
   "metadata": {
    "colab_type": "text",
    "id": "9-CsJ6kHLNjc"
   },
   "source": [
    "### Append (추가)"
   ]
  },
  {
   "cell_type": "markdown",
   "metadata": {
    "colab_type": "text",
    "id": "CQoQZg9aLNjc"
   },
   "source": [
    "데이터프레임에 행을 추가합니다. [Appending](https://pandas.pydata.org/pandas-docs/stable/merging.html#merging-concatenation) 부분을 참조하세요."
   ]
  },
  {
   "cell_type": "code",
   "execution_count": 87,
   "metadata": {
    "colab": {
     "autoexec": {
      "startup": false,
      "wait_interval": 0
     }
    },
    "colab_type": "code",
    "collapsed": true,
    "id": "DniPx4zTLNjc"
   },
   "outputs": [],
   "source": [
    "df = pd.DataFrame(np.random.randn(8, 4), columns=['A', 'B', 'C', 'D'])"
   ]
  },
  {
   "cell_type": "code",
   "execution_count": 88,
   "metadata": {
    "colab": {
     "autoexec": {
      "startup": false,
      "wait_interval": 0
     }
    },
    "colab_type": "code",
    "id": "Z83pFze46h4h",
    "outputId": "2fc915be-271f-4bf5-f4ca-4ff8c5ad6f17"
   },
   "outputs": [
    {
     "data": {
      "text/html": [
       "<div>\n",
       "<style>\n",
       "    .dataframe thead tr:only-child th {\n",
       "        text-align: right;\n",
       "    }\n",
       "\n",
       "    .dataframe thead th {\n",
       "        text-align: left;\n",
       "    }\n",
       "\n",
       "    .dataframe tbody tr th {\n",
       "        vertical-align: top;\n",
       "    }\n",
       "</style>\n",
       "<table border=\"1\" class=\"dataframe\">\n",
       "  <thead>\n",
       "    <tr style=\"text-align: right;\">\n",
       "      <th></th>\n",
       "      <th>A</th>\n",
       "      <th>B</th>\n",
       "      <th>C</th>\n",
       "      <th>D</th>\n",
       "    </tr>\n",
       "  </thead>\n",
       "  <tbody>\n",
       "    <tr>\n",
       "      <th>0</th>\n",
       "      <td>1.299919</td>\n",
       "      <td>-1.472544</td>\n",
       "      <td>-0.707566</td>\n",
       "      <td>-0.365660</td>\n",
       "    </tr>\n",
       "    <tr>\n",
       "      <th>1</th>\n",
       "      <td>0.187241</td>\n",
       "      <td>1.968653</td>\n",
       "      <td>0.824469</td>\n",
       "      <td>0.358518</td>\n",
       "    </tr>\n",
       "    <tr>\n",
       "      <th>2</th>\n",
       "      <td>-0.034656</td>\n",
       "      <td>0.829071</td>\n",
       "      <td>-0.378907</td>\n",
       "      <td>0.293894</td>\n",
       "    </tr>\n",
       "    <tr>\n",
       "      <th>3</th>\n",
       "      <td>-0.414106</td>\n",
       "      <td>2.328096</td>\n",
       "      <td>-1.367931</td>\n",
       "      <td>0.228907</td>\n",
       "    </tr>\n",
       "    <tr>\n",
       "      <th>4</th>\n",
       "      <td>0.914727</td>\n",
       "      <td>-0.052547</td>\n",
       "      <td>-0.583842</td>\n",
       "      <td>-0.231221</td>\n",
       "    </tr>\n",
       "    <tr>\n",
       "      <th>5</th>\n",
       "      <td>0.178399</td>\n",
       "      <td>-1.257682</td>\n",
       "      <td>0.560755</td>\n",
       "      <td>0.005913</td>\n",
       "    </tr>\n",
       "    <tr>\n",
       "      <th>6</th>\n",
       "      <td>0.507263</td>\n",
       "      <td>0.446625</td>\n",
       "      <td>-0.014416</td>\n",
       "      <td>0.345235</td>\n",
       "    </tr>\n",
       "    <tr>\n",
       "      <th>7</th>\n",
       "      <td>1.367934</td>\n",
       "      <td>0.292150</td>\n",
       "      <td>1.821888</td>\n",
       "      <td>-2.561016</td>\n",
       "    </tr>\n",
       "  </tbody>\n",
       "</table>\n",
       "</div>"
      ],
      "text/plain": [
       "          A         B         C         D\n",
       "0  1.299919 -1.472544 -0.707566 -0.365660\n",
       "1  0.187241  1.968653  0.824469  0.358518\n",
       "2 -0.034656  0.829071 -0.378907  0.293894\n",
       "3 -0.414106  2.328096 -1.367931  0.228907\n",
       "4  0.914727 -0.052547 -0.583842 -0.231221\n",
       "5  0.178399 -1.257682  0.560755  0.005913\n",
       "6  0.507263  0.446625 -0.014416  0.345235\n",
       "7  1.367934  0.292150  1.821888 -2.561016"
      ]
     },
     "execution_count": 88,
     "metadata": {},
     "output_type": "execute_result"
    }
   ],
   "source": [
    "df"
   ]
  },
  {
   "cell_type": "code",
   "execution_count": 89,
   "metadata": {
    "colab": {
     "autoexec": {
      "startup": false,
      "wait_interval": 0
     }
    },
    "colab_type": "code",
    "collapsed": true,
    "id": "Bqm6NMtW6j12"
   },
   "outputs": [],
   "source": [
    "s = df.iloc[3]"
   ]
  },
  {
   "cell_type": "code",
   "execution_count": 90,
   "metadata": {
    "colab": {
     "autoexec": {
      "startup": false,
      "wait_interval": 0
     }
    },
    "colab_type": "code",
    "id": "I3PtsAkF6lpI",
    "outputId": "656040ef-14ee-4452-d157-5482763e94d5"
   },
   "outputs": [
    {
     "data": {
      "text/html": [
       "<div>\n",
       "<style>\n",
       "    .dataframe thead tr:only-child th {\n",
       "        text-align: right;\n",
       "    }\n",
       "\n",
       "    .dataframe thead th {\n",
       "        text-align: left;\n",
       "    }\n",
       "\n",
       "    .dataframe tbody tr th {\n",
       "        vertical-align: top;\n",
       "    }\n",
       "</style>\n",
       "<table border=\"1\" class=\"dataframe\">\n",
       "  <thead>\n",
       "    <tr style=\"text-align: right;\">\n",
       "      <th></th>\n",
       "      <th>A</th>\n",
       "      <th>B</th>\n",
       "      <th>C</th>\n",
       "      <th>D</th>\n",
       "    </tr>\n",
       "  </thead>\n",
       "  <tbody>\n",
       "    <tr>\n",
       "      <th>0</th>\n",
       "      <td>1.299919</td>\n",
       "      <td>-1.472544</td>\n",
       "      <td>-0.707566</td>\n",
       "      <td>-0.365660</td>\n",
       "    </tr>\n",
       "    <tr>\n",
       "      <th>1</th>\n",
       "      <td>0.187241</td>\n",
       "      <td>1.968653</td>\n",
       "      <td>0.824469</td>\n",
       "      <td>0.358518</td>\n",
       "    </tr>\n",
       "    <tr>\n",
       "      <th>2</th>\n",
       "      <td>-0.034656</td>\n",
       "      <td>0.829071</td>\n",
       "      <td>-0.378907</td>\n",
       "      <td>0.293894</td>\n",
       "    </tr>\n",
       "    <tr>\n",
       "      <th>3</th>\n",
       "      <td>-0.414106</td>\n",
       "      <td>2.328096</td>\n",
       "      <td>-1.367931</td>\n",
       "      <td>0.228907</td>\n",
       "    </tr>\n",
       "    <tr>\n",
       "      <th>4</th>\n",
       "      <td>0.914727</td>\n",
       "      <td>-0.052547</td>\n",
       "      <td>-0.583842</td>\n",
       "      <td>-0.231221</td>\n",
       "    </tr>\n",
       "    <tr>\n",
       "      <th>5</th>\n",
       "      <td>0.178399</td>\n",
       "      <td>-1.257682</td>\n",
       "      <td>0.560755</td>\n",
       "      <td>0.005913</td>\n",
       "    </tr>\n",
       "    <tr>\n",
       "      <th>6</th>\n",
       "      <td>0.507263</td>\n",
       "      <td>0.446625</td>\n",
       "      <td>-0.014416</td>\n",
       "      <td>0.345235</td>\n",
       "    </tr>\n",
       "    <tr>\n",
       "      <th>7</th>\n",
       "      <td>1.367934</td>\n",
       "      <td>0.292150</td>\n",
       "      <td>1.821888</td>\n",
       "      <td>-2.561016</td>\n",
       "    </tr>\n",
       "    <tr>\n",
       "      <th>8</th>\n",
       "      <td>-0.414106</td>\n",
       "      <td>2.328096</td>\n",
       "      <td>-1.367931</td>\n",
       "      <td>0.228907</td>\n",
       "    </tr>\n",
       "  </tbody>\n",
       "</table>\n",
       "</div>"
      ],
      "text/plain": [
       "          A         B         C         D\n",
       "0  1.299919 -1.472544 -0.707566 -0.365660\n",
       "1  0.187241  1.968653  0.824469  0.358518\n",
       "2 -0.034656  0.829071 -0.378907  0.293894\n",
       "3 -0.414106  2.328096 -1.367931  0.228907\n",
       "4  0.914727 -0.052547 -0.583842 -0.231221\n",
       "5  0.178399 -1.257682  0.560755  0.005913\n",
       "6  0.507263  0.446625 -0.014416  0.345235\n",
       "7  1.367934  0.292150  1.821888 -2.561016\n",
       "8 -0.414106  2.328096 -1.367931  0.228907"
      ]
     },
     "execution_count": 90,
     "metadata": {},
     "output_type": "execute_result"
    }
   ],
   "source": [
    "df.append(s, ignore_index=True)"
   ]
  },
  {
   "cell_type": "markdown",
   "metadata": {
    "colab_type": "text",
    "id": "6VaJ6ty_3v09"
   },
   "source": [
    "## Grouping (그룹화)"
   ]
  },
  {
   "cell_type": "markdown",
   "metadata": {
    "colab_type": "text",
    "id": "SwXynO524KcN"
   },
   "source": [
    "**그룹화**는 다음 단계 중 하나 이상을 포함하는 과정을 가리킵니다.\n",
    "\n",
    "- 몇몇 기준에 따라 여러 그룹으로 데이터를 **분할(Splitting)**\n",
    "- 각 그룹에 독립적으로 함수를 **적용(Applying)**\n",
    "- 결과물들을 하나의 데이터 구조로  **결합(Combining)**\n",
    "\n",
    "자세한 내용은 [그룹화](https://pandas.pydata.org/pandas-docs/stable/groupby.html#groupby) 부분을 참조하세요."
   ]
  },
  {
   "cell_type": "code",
   "execution_count": 91,
   "metadata": {
    "colab": {
     "autoexec": {
      "startup": false,
      "wait_interval": 0
     }
    },
    "colab_type": "code",
    "collapsed": true,
    "id": "pO0cOZtU4Mvl"
   },
   "outputs": [],
   "source": [
    "df = pd.DataFrame(\n",
    "    {\n",
    "        'A' : ['foo', 'bar', 'foo', 'bar', 'foo', 'bar', 'foo', 'foo'],\n",
    "        'B' : ['one', 'one', 'two', 'three', 'two', 'two', 'one', 'three'],\n",
    "        'C' : np.random.randn(8),\n",
    "        'D' : np.random.randn(8)\n",
    "    })"
   ]
  },
  {
   "cell_type": "code",
   "execution_count": 92,
   "metadata": {
    "colab": {
     "autoexec": {
      "startup": false,
      "wait_interval": 0
     },
     "base_uri": "https://localhost:8080/",
     "height": 297
    },
    "colab_type": "code",
    "executionInfo": {
     "elapsed": 728,
     "status": "ok",
     "timestamp": 1531793428182,
     "user": {
      "displayName": "김소령",
      "photoUrl": "https://lh3.googleusercontent.com/a/default-user=s128",
      "userId": "115519869961267992265"
     },
     "user_tz": -540
    },
    "id": "H1aI7vJB4P72",
    "outputId": "03349475-d4ad-4728-9ffd-ebe9afa53d6d"
   },
   "outputs": [
    {
     "data": {
      "text/html": [
       "<div>\n",
       "<style>\n",
       "    .dataframe thead tr:only-child th {\n",
       "        text-align: right;\n",
       "    }\n",
       "\n",
       "    .dataframe thead th {\n",
       "        text-align: left;\n",
       "    }\n",
       "\n",
       "    .dataframe tbody tr th {\n",
       "        vertical-align: top;\n",
       "    }\n",
       "</style>\n",
       "<table border=\"1\" class=\"dataframe\">\n",
       "  <thead>\n",
       "    <tr style=\"text-align: right;\">\n",
       "      <th></th>\n",
       "      <th>A</th>\n",
       "      <th>B</th>\n",
       "      <th>C</th>\n",
       "      <th>D</th>\n",
       "    </tr>\n",
       "  </thead>\n",
       "  <tbody>\n",
       "    <tr>\n",
       "      <th>0</th>\n",
       "      <td>foo</td>\n",
       "      <td>one</td>\n",
       "      <td>0.297352</td>\n",
       "      <td>-1.025981</td>\n",
       "    </tr>\n",
       "    <tr>\n",
       "      <th>1</th>\n",
       "      <td>bar</td>\n",
       "      <td>one</td>\n",
       "      <td>0.796546</td>\n",
       "      <td>1.127086</td>\n",
       "    </tr>\n",
       "    <tr>\n",
       "      <th>2</th>\n",
       "      <td>foo</td>\n",
       "      <td>two</td>\n",
       "      <td>1.645520</td>\n",
       "      <td>-0.659429</td>\n",
       "    </tr>\n",
       "    <tr>\n",
       "      <th>3</th>\n",
       "      <td>bar</td>\n",
       "      <td>three</td>\n",
       "      <td>1.328364</td>\n",
       "      <td>0.263898</td>\n",
       "    </tr>\n",
       "    <tr>\n",
       "      <th>4</th>\n",
       "      <td>foo</td>\n",
       "      <td>two</td>\n",
       "      <td>0.531388</td>\n",
       "      <td>0.859260</td>\n",
       "    </tr>\n",
       "    <tr>\n",
       "      <th>5</th>\n",
       "      <td>bar</td>\n",
       "      <td>two</td>\n",
       "      <td>2.099372</td>\n",
       "      <td>-0.720175</td>\n",
       "    </tr>\n",
       "    <tr>\n",
       "      <th>6</th>\n",
       "      <td>foo</td>\n",
       "      <td>one</td>\n",
       "      <td>-0.038247</td>\n",
       "      <td>-0.295680</td>\n",
       "    </tr>\n",
       "    <tr>\n",
       "      <th>7</th>\n",
       "      <td>foo</td>\n",
       "      <td>three</td>\n",
       "      <td>0.351615</td>\n",
       "      <td>0.543172</td>\n",
       "    </tr>\n",
       "  </tbody>\n",
       "</table>\n",
       "</div>"
      ],
      "text/plain": [
       "     A      B         C         D\n",
       "0  foo    one  0.297352 -1.025981\n",
       "1  bar    one  0.796546  1.127086\n",
       "2  foo    two  1.645520 -0.659429\n",
       "3  bar  three  1.328364  0.263898\n",
       "4  foo    two  0.531388  0.859260\n",
       "5  bar    two  2.099372 -0.720175\n",
       "6  foo    one -0.038247 -0.295680\n",
       "7  foo  three  0.351615  0.543172"
      ]
     },
     "execution_count": 92,
     "metadata": {},
     "output_type": "execute_result"
    }
   ],
   "source": [
    "df"
   ]
  },
  {
   "cell_type": "markdown",
   "metadata": {
    "colab_type": "text",
    "id": "71rM8bizCRRB"
   },
   "source": [
    "(생성된 데이터프레임을) 그룹화한 후 각 그룹에 [sum()](https://pandas.pydata.org/pandas-docs/stable/generated/pandas.DataFrame.sum.html#pandas.DataFrame.sum) 함수를 적용합니다."
   ]
  },
  {
   "cell_type": "code",
   "execution_count": 93,
   "metadata": {
    "colab": {
     "autoexec": {
      "startup": false,
      "wait_interval": 0
     },
     "base_uri": "https://localhost:8080/",
     "height": 142
    },
    "colab_type": "code",
    "executionInfo": {
     "elapsed": 789,
     "status": "ok",
     "timestamp": 1531793430488,
     "user": {
      "displayName": "김소령",
      "photoUrl": "https://lh3.googleusercontent.com/a/default-user=s128",
      "userId": "115519869961267992265"
     },
     "user_tz": -540
    },
    "id": "dJ4kqsJe4RfY",
    "outputId": "e5f3a626-a1cd-49c7-e740-3730cd4a2317"
   },
   "outputs": [
    {
     "data": {
      "text/html": [
       "<div>\n",
       "<style>\n",
       "    .dataframe thead tr:only-child th {\n",
       "        text-align: right;\n",
       "    }\n",
       "\n",
       "    .dataframe thead th {\n",
       "        text-align: left;\n",
       "    }\n",
       "\n",
       "    .dataframe tbody tr th {\n",
       "        vertical-align: top;\n",
       "    }\n",
       "</style>\n",
       "<table border=\"1\" class=\"dataframe\">\n",
       "  <thead>\n",
       "    <tr style=\"text-align: right;\">\n",
       "      <th></th>\n",
       "      <th>C</th>\n",
       "      <th>D</th>\n",
       "    </tr>\n",
       "    <tr>\n",
       "      <th>A</th>\n",
       "      <th></th>\n",
       "      <th></th>\n",
       "    </tr>\n",
       "  </thead>\n",
       "  <tbody>\n",
       "    <tr>\n",
       "      <th>bar</th>\n",
       "      <td>4.224282</td>\n",
       "      <td>0.670809</td>\n",
       "    </tr>\n",
       "    <tr>\n",
       "      <th>foo</th>\n",
       "      <td>2.787628</td>\n",
       "      <td>-0.578657</td>\n",
       "    </tr>\n",
       "  </tbody>\n",
       "</table>\n",
       "</div>"
      ],
      "text/plain": [
       "            C         D\n",
       "A                      \n",
       "bar  4.224282  0.670809\n",
       "foo  2.787628 -0.578657"
      ]
     },
     "execution_count": 93,
     "metadata": {},
     "output_type": "execute_result"
    }
   ],
   "source": [
    "df.groupby('A').sum()"
   ]
  },
  {
   "cell_type": "markdown",
   "metadata": {
    "colab_type": "text",
    "id": "jap0wSpO4Sn4"
   },
   "source": [
    "여러 열을 기준으로 그룹화하면 계층적 인덱스가 형성됩니다. 여기에도 sum 함수를 적용할 수 있습니다."
   ]
  },
  {
   "cell_type": "code",
   "execution_count": 100,
   "metadata": {
    "colab": {
     "autoexec": {
      "startup": false,
      "wait_interval": 0
     },
     "base_uri": "https://localhost:8080/",
     "height": 266
    },
    "colab_type": "code",
    "executionInfo": {
     "elapsed": 734,
     "status": "ok",
     "timestamp": 1531793434975,
     "user": {
      "displayName": "김소령",
      "photoUrl": "https://lh3.googleusercontent.com/a/default-user=s128",
      "userId": "115519869961267992265"
     },
     "user_tz": -540
    },
    "id": "iRZP8UKC4TvZ",
    "outputId": "c18a598b-2e53-4b27-fa50-4da2108e409a"
   },
   "outputs": [
    {
     "data": {
      "text/html": [
       "<div>\n",
       "<style>\n",
       "    .dataframe thead tr:only-child th {\n",
       "        text-align: right;\n",
       "    }\n",
       "\n",
       "    .dataframe thead th {\n",
       "        text-align: left;\n",
       "    }\n",
       "\n",
       "    .dataframe tbody tr th {\n",
       "        vertical-align: top;\n",
       "    }\n",
       "</style>\n",
       "<table border=\"1\" class=\"dataframe\">\n",
       "  <thead>\n",
       "    <tr style=\"text-align: right;\">\n",
       "      <th></th>\n",
       "      <th></th>\n",
       "    </tr>\n",
       "    <tr>\n",
       "      <th>A</th>\n",
       "      <th>B</th>\n",
       "    </tr>\n",
       "  </thead>\n",
       "  <tbody>\n",
       "  </tbody>\n",
       "</table>\n",
       "</div>"
      ],
      "text/plain": [
       "Empty DataFrame\n",
       "Columns: []\n",
       "Index: []"
      ]
     },
     "execution_count": 100,
     "metadata": {},
     "output_type": "execute_result"
    }
   ],
   "source": [
    "df.groupby(['A','B']).sum()"
   ]
  },
  {
   "cell_type": "markdown",
   "metadata": {
    "colab_type": "text",
    "id": "7tWQKNsJ3JeY"
   },
   "source": [
    "## Reshaping (변형)"
   ]
  },
  {
   "cell_type": "markdown",
   "metadata": {
    "colab_type": "text",
    "id": "ulRzrXGK3Ndc"
   },
   "source": [
    "[계층적 인덱싱](https://pandas.pydata.org/pandas-docs/stable/advanced.html#advanced-hierarchical) 및 [변형](https://pandas.pydata.org/pandas-docs/stable/reshaping.html#reshaping-stacking) 부분을 참조하세요."
   ]
  },
  {
   "cell_type": "markdown",
   "metadata": {
    "colab_type": "text",
    "id": "gZJGxemv3WWA"
   },
   "source": [
    "### Stack (스택)"
   ]
  },
  {
   "cell_type": "code",
   "execution_count": 101,
   "metadata": {
    "colab": {
     "autoexec": {
      "startup": false,
      "wait_interval": 0
     }
    },
    "colab_type": "code",
    "collapsed": true,
    "id": "Yd5vPwOV3arp"
   },
   "outputs": [],
   "source": [
    "tuples = list(zip(*[['bar', 'bar', 'baz', 'baz',\n",
    "                     'foo', 'foo', 'qux', 'qux'],\n",
    "                    ['one', 'two', 'one', 'two',\n",
    "                     'one', 'two', 'one', 'two']]))"
   ]
  },
  {
   "cell_type": "code",
   "execution_count": 102,
   "metadata": {
    "colab": {
     "autoexec": {
      "startup": false,
      "wait_interval": 0
     }
    },
    "colab_type": "code",
    "collapsed": true,
    "id": "cyRpaTGe3hJ-"
   },
   "outputs": [],
   "source": [
    "index = pd.MultiIndex.from_tuples(tuples, names=['first', 'second'])"
   ]
  },
  {
   "cell_type": "code",
   "execution_count": 103,
   "metadata": {
    "colab": {
     "autoexec": {
      "startup": false,
      "wait_interval": 0
     }
    },
    "colab_type": "code",
    "collapsed": true,
    "id": "Jj2RjG8r3h1B"
   },
   "outputs": [],
   "source": [
    "df = pd.DataFrame(np.random.randn(8, 2), index=index, columns=['A', 'B'])"
   ]
  },
  {
   "cell_type": "code",
   "execution_count": 104,
   "metadata": {
    "colab": {
     "autoexec": {
      "startup": false,
      "wait_interval": 0
     }
    },
    "colab_type": "code",
    "collapsed": true,
    "id": "I0H5P5Al3hxB"
   },
   "outputs": [],
   "source": [
    "df2  =  df[:4]"
   ]
  },
  {
   "cell_type": "code",
   "execution_count": 105,
   "metadata": {
    "colab": {
     "autoexec": {
      "startup": false,
      "wait_interval": 0
     },
     "base_uri": "https://localhost:8080/",
     "height": 204
    },
    "colab_type": "code",
    "executionInfo": {
     "elapsed": 731,
     "status": "ok",
     "timestamp": 1531794011058,
     "user": {
      "displayName": "김소령",
      "photoUrl": "https://lh3.googleusercontent.com/a/default-user=s128",
      "userId": "115519869961267992265"
     },
     "user_tz": -540
    },
    "id": "YlRK8VoH3htI",
    "outputId": "11cbb1b4-95b5-4810-d808-6a567f1cc746"
   },
   "outputs": [
    {
     "data": {
      "text/html": [
       "<div>\n",
       "<style>\n",
       "    .dataframe thead tr:only-child th {\n",
       "        text-align: right;\n",
       "    }\n",
       "\n",
       "    .dataframe thead th {\n",
       "        text-align: left;\n",
       "    }\n",
       "\n",
       "    .dataframe tbody tr th {\n",
       "        vertical-align: top;\n",
       "    }\n",
       "</style>\n",
       "<table border=\"1\" class=\"dataframe\">\n",
       "  <thead>\n",
       "    <tr style=\"text-align: right;\">\n",
       "      <th></th>\n",
       "      <th></th>\n",
       "      <th>A</th>\n",
       "      <th>B</th>\n",
       "    </tr>\n",
       "    <tr>\n",
       "      <th>first</th>\n",
       "      <th>second</th>\n",
       "      <th></th>\n",
       "      <th></th>\n",
       "    </tr>\n",
       "  </thead>\n",
       "  <tbody>\n",
       "    <tr>\n",
       "      <th rowspan=\"2\" valign=\"top\">bar</th>\n",
       "      <th>one</th>\n",
       "      <td>-0.726072</td>\n",
       "      <td>-1.436126</td>\n",
       "    </tr>\n",
       "    <tr>\n",
       "      <th>two</th>\n",
       "      <td>0.211388</td>\n",
       "      <td>1.305562</td>\n",
       "    </tr>\n",
       "    <tr>\n",
       "      <th rowspan=\"2\" valign=\"top\">baz</th>\n",
       "      <th>one</th>\n",
       "      <td>0.399729</td>\n",
       "      <td>-1.519716</td>\n",
       "    </tr>\n",
       "    <tr>\n",
       "      <th>two</th>\n",
       "      <td>-0.278913</td>\n",
       "      <td>0.079106</td>\n",
       "    </tr>\n",
       "  </tbody>\n",
       "</table>\n",
       "</div>"
      ],
      "text/plain": [
       "                     A         B\n",
       "first second                    \n",
       "bar   one    -0.726072 -1.436126\n",
       "      two     0.211388  1.305562\n",
       "baz   one     0.399729 -1.519716\n",
       "      two    -0.278913  0.079106"
      ]
     },
     "execution_count": 105,
     "metadata": {},
     "output_type": "execute_result"
    }
   ],
   "source": [
    "df2"
   ]
  },
  {
   "cell_type": "markdown",
   "metadata": {
    "colab_type": "text",
    "id": "EdPsLy7B3o53"
   },
   "source": [
    "[stack()](https://pandas.pydata.org/pandas-docs/stable/generated/pandas.DataFrame.stack.html#pandas.DataFrame.stack) 메소드는 데이터프레임 열들의 계층을 \"압축\"합니다."
   ]
  },
  {
   "cell_type": "code",
   "execution_count": 106,
   "metadata": {
    "colab": {
     "autoexec": {
      "startup": false,
      "wait_interval": 0
     }
    },
    "colab_type": "code",
    "collapsed": true,
    "id": "yFIcJ4HE3r0A"
   },
   "outputs": [],
   "source": [
    "stacked = df2.stack()"
   ]
  },
  {
   "cell_type": "code",
   "execution_count": 107,
   "metadata": {
    "colab": {
     "autoexec": {
      "startup": false,
      "wait_interval": 0
     },
     "base_uri": "https://localhost:8080/",
     "height": 192
    },
    "colab_type": "code",
    "executionInfo": {
     "elapsed": 814,
     "status": "ok",
     "timestamp": 1531794021160,
     "user": {
      "displayName": "김소령",
      "photoUrl": "https://lh3.googleusercontent.com/a/default-user=s128",
      "userId": "115519869961267992265"
     },
     "user_tz": -540
    },
    "id": "4HZDs9pX3sEo",
    "outputId": "368118d3-2046-4654-8032-3efdb260e4fa"
   },
   "outputs": [
    {
     "data": {
      "text/plain": [
       "first  second   \n",
       "bar    one     A   -0.726072\n",
       "               B   -1.436126\n",
       "       two     A    0.211388\n",
       "               B    1.305562\n",
       "baz    one     A    0.399729\n",
       "               B   -1.519716\n",
       "       two     A   -0.278913\n",
       "               B    0.079106\n",
       "dtype: float64"
      ]
     },
     "execution_count": 107,
     "metadata": {},
     "output_type": "execute_result"
    }
   ],
   "source": [
    "stacked"
   ]
  },
  {
   "cell_type": "markdown",
   "metadata": {
    "colab_type": "text",
    "id": "AEuI6yvK3wXA"
   },
   "source": [
    "\"Stack된\" 데이터프레임 또는 (MultiIndex를 인덱스로 사용하는) Series인 경우, [stack()](https://pandas.pydata.org/pandas-docs/stable/generated/pandas.DataFrame.stack.html#pandas.DataFrame.stack)의 역 연산은 [unstack()](https://pandas.pydata.org/pandas-docs/stable/generated/pandas.DataFrame.unstack.html#pandas.DataFrame.unstack)이며, 기본적으로 **마지막 계층**을 unstack합니다."
   ]
  },
  {
   "cell_type": "code",
   "execution_count": 108,
   "metadata": {
    "colab": {
     "autoexec": {
      "startup": false,
      "wait_interval": 0
     },
     "base_uri": "https://localhost:8080/",
     "height": 204
    },
    "colab_type": "code",
    "executionInfo": {
     "elapsed": 694,
     "status": "ok",
     "timestamp": 1531794027391,
     "user": {
      "displayName": "김소령",
      "photoUrl": "https://lh3.googleusercontent.com/a/default-user=s128",
      "userId": "115519869961267992265"
     },
     "user_tz": -540
    },
    "id": "RlD00KLE3rvm",
    "outputId": "1ae1686c-4bdc-4724-b23a-4b851fd69c7d"
   },
   "outputs": [
    {
     "data": {
      "text/html": [
       "<div>\n",
       "<style>\n",
       "    .dataframe thead tr:only-child th {\n",
       "        text-align: right;\n",
       "    }\n",
       "\n",
       "    .dataframe thead th {\n",
       "        text-align: left;\n",
       "    }\n",
       "\n",
       "    .dataframe tbody tr th {\n",
       "        vertical-align: top;\n",
       "    }\n",
       "</style>\n",
       "<table border=\"1\" class=\"dataframe\">\n",
       "  <thead>\n",
       "    <tr style=\"text-align: right;\">\n",
       "      <th></th>\n",
       "      <th></th>\n",
       "      <th>A</th>\n",
       "      <th>B</th>\n",
       "    </tr>\n",
       "    <tr>\n",
       "      <th>first</th>\n",
       "      <th>second</th>\n",
       "      <th></th>\n",
       "      <th></th>\n",
       "    </tr>\n",
       "  </thead>\n",
       "  <tbody>\n",
       "    <tr>\n",
       "      <th rowspan=\"2\" valign=\"top\">bar</th>\n",
       "      <th>one</th>\n",
       "      <td>-0.726072</td>\n",
       "      <td>-1.436126</td>\n",
       "    </tr>\n",
       "    <tr>\n",
       "      <th>two</th>\n",
       "      <td>0.211388</td>\n",
       "      <td>1.305562</td>\n",
       "    </tr>\n",
       "    <tr>\n",
       "      <th rowspan=\"2\" valign=\"top\">baz</th>\n",
       "      <th>one</th>\n",
       "      <td>0.399729</td>\n",
       "      <td>-1.519716</td>\n",
       "    </tr>\n",
       "    <tr>\n",
       "      <th>two</th>\n",
       "      <td>-0.278913</td>\n",
       "      <td>0.079106</td>\n",
       "    </tr>\n",
       "  </tbody>\n",
       "</table>\n",
       "</div>"
      ],
      "text/plain": [
       "                     A         B\n",
       "first second                    \n",
       "bar   one    -0.726072 -1.436126\n",
       "      two     0.211388  1.305562\n",
       "baz   one     0.399729 -1.519716\n",
       "      two    -0.278913  0.079106"
      ]
     },
     "execution_count": 108,
     "metadata": {},
     "output_type": "execute_result"
    }
   ],
   "source": [
    "stacked.unstack()"
   ]
  },
  {
   "cell_type": "code",
   "execution_count": 109,
   "metadata": {
    "colab": {
     "autoexec": {
      "startup": false,
      "wait_interval": 0
     },
     "base_uri": "https://localhost:8080/",
     "height": 328
    },
    "colab_type": "code",
    "executionInfo": {
     "elapsed": 697,
     "status": "ok",
     "timestamp": 1531793697811,
     "user": {
      "displayName": "김소령",
      "photoUrl": "https://lh3.googleusercontent.com/a/default-user=s128",
      "userId": "115519869961267992265"
     },
     "user_tz": -540
    },
    "id": "kq8C75gl30xL",
    "outputId": "ce659c7a-ff97-414a-bfde-7d5a662e80ce"
   },
   "outputs": [
    {
     "data": {
      "text/html": [
       "<div>\n",
       "<style>\n",
       "    .dataframe thead tr:only-child th {\n",
       "        text-align: right;\n",
       "    }\n",
       "\n",
       "    .dataframe thead th {\n",
       "        text-align: left;\n",
       "    }\n",
       "\n",
       "    .dataframe tbody tr th {\n",
       "        vertical-align: top;\n",
       "    }\n",
       "</style>\n",
       "<table border=\"1\" class=\"dataframe\">\n",
       "  <thead>\n",
       "    <tr style=\"text-align: right;\">\n",
       "      <th></th>\n",
       "      <th>second</th>\n",
       "      <th>one</th>\n",
       "      <th>two</th>\n",
       "    </tr>\n",
       "    <tr>\n",
       "      <th>first</th>\n",
       "      <th></th>\n",
       "      <th></th>\n",
       "      <th></th>\n",
       "    </tr>\n",
       "  </thead>\n",
       "  <tbody>\n",
       "    <tr>\n",
       "      <th rowspan=\"2\" valign=\"top\">bar</th>\n",
       "      <th>A</th>\n",
       "      <td>-0.726072</td>\n",
       "      <td>0.211388</td>\n",
       "    </tr>\n",
       "    <tr>\n",
       "      <th>B</th>\n",
       "      <td>-1.436126</td>\n",
       "      <td>1.305562</td>\n",
       "    </tr>\n",
       "    <tr>\n",
       "      <th rowspan=\"2\" valign=\"top\">baz</th>\n",
       "      <th>A</th>\n",
       "      <td>0.399729</td>\n",
       "      <td>-0.278913</td>\n",
       "    </tr>\n",
       "    <tr>\n",
       "      <th>B</th>\n",
       "      <td>-1.519716</td>\n",
       "      <td>0.079106</td>\n",
       "    </tr>\n",
       "  </tbody>\n",
       "</table>\n",
       "</div>"
      ],
      "text/plain": [
       "second        one       two\n",
       "first                      \n",
       "bar   A -0.726072  0.211388\n",
       "      B -1.436126  1.305562\n",
       "baz   A  0.399729 -0.278913\n",
       "      B -1.519716  0.079106"
      ]
     },
     "execution_count": 109,
     "metadata": {},
     "output_type": "execute_result"
    }
   ],
   "source": [
    "stacked.unstack(1)"
   ]
  },
  {
   "cell_type": "code",
   "execution_count": 110,
   "metadata": {
    "colab": {
     "autoexec": {
      "startup": false,
      "wait_interval": 0
     },
     "base_uri": "https://localhost:8080/",
     "height": 204
    },
    "colab_type": "code",
    "executionInfo": {
     "elapsed": 739,
     "status": "ok",
     "timestamp": 1531794032461,
     "user": {
      "displayName": "김소령",
      "photoUrl": "https://lh3.googleusercontent.com/a/default-user=s128",
      "userId": "115519869961267992265"
     },
     "user_tz": -540
    },
    "id": "SVz51y-F30tT",
    "outputId": "7d3db09c-6c21-43cc-9ff2-bd17a1bc7e7d"
   },
   "outputs": [
    {
     "data": {
      "text/html": [
       "<div>\n",
       "<style>\n",
       "    .dataframe thead tr:only-child th {\n",
       "        text-align: right;\n",
       "    }\n",
       "\n",
       "    .dataframe thead th {\n",
       "        text-align: left;\n",
       "    }\n",
       "\n",
       "    .dataframe tbody tr th {\n",
       "        vertical-align: top;\n",
       "    }\n",
       "</style>\n",
       "<table border=\"1\" class=\"dataframe\">\n",
       "  <thead>\n",
       "    <tr style=\"text-align: right;\">\n",
       "      <th></th>\n",
       "      <th>first</th>\n",
       "      <th>bar</th>\n",
       "      <th>baz</th>\n",
       "    </tr>\n",
       "    <tr>\n",
       "      <th>second</th>\n",
       "      <th></th>\n",
       "      <th></th>\n",
       "      <th></th>\n",
       "    </tr>\n",
       "  </thead>\n",
       "  <tbody>\n",
       "    <tr>\n",
       "      <th rowspan=\"2\" valign=\"top\">one</th>\n",
       "      <th>A</th>\n",
       "      <td>-0.726072</td>\n",
       "      <td>0.399729</td>\n",
       "    </tr>\n",
       "    <tr>\n",
       "      <th>B</th>\n",
       "      <td>-1.436126</td>\n",
       "      <td>-1.519716</td>\n",
       "    </tr>\n",
       "    <tr>\n",
       "      <th rowspan=\"2\" valign=\"top\">two</th>\n",
       "      <th>A</th>\n",
       "      <td>0.211388</td>\n",
       "      <td>-0.278913</td>\n",
       "    </tr>\n",
       "    <tr>\n",
       "      <th>B</th>\n",
       "      <td>1.305562</td>\n",
       "      <td>0.079106</td>\n",
       "    </tr>\n",
       "  </tbody>\n",
       "</table>\n",
       "</div>"
      ],
      "text/plain": [
       "first          bar       baz\n",
       "second                      \n",
       "one    A -0.726072  0.399729\n",
       "       B -1.436126 -1.519716\n",
       "two    A  0.211388 -0.278913\n",
       "       B  1.305562  0.079106"
      ]
     },
     "execution_count": 110,
     "metadata": {},
     "output_type": "execute_result"
    }
   ],
   "source": [
    "stacked.unstack(0)"
   ]
  },
  {
   "cell_type": "markdown",
   "metadata": {
    "colab_type": "text",
    "id": "RZ_-viV34FE-"
   },
   "source": [
    "### Pivot Tables (피벗 테이블)"
   ]
  },
  {
   "cell_type": "markdown",
   "metadata": {
    "colab_type": "text",
    "id": "zWjNYxfD4Fhb"
   },
   "source": [
    "[피벗 테이블](https://pandas.pydata.org/pandas-docs/stable/reshaping.html#reshaping-pivot) 부분을 참조하세요."
   ]
  },
  {
   "cell_type": "code",
   "execution_count": 111,
   "metadata": {
    "colab": {
     "autoexec": {
      "startup": false,
      "wait_interval": 0
     }
    },
    "colab_type": "code",
    "collapsed": true,
    "id": "VBSzYL-R4MlI"
   },
   "outputs": [],
   "source": [
    "df = pd.DataFrame({'A' : ['one', 'one', 'two', 'three'] * 3,\n",
    "                   'B' : ['A', 'B', 'C'] * 4,\n",
    "                   'C' : ['foo', 'foo', 'foo', 'bar', 'bar', 'bar'] * 2,\n",
    "                   'D' : np.random.randn(12),\n",
    "                   'E' : np.random.randn(12)})"
   ]
  },
  {
   "cell_type": "code",
   "execution_count": 112,
   "metadata": {
    "colab": {
     "autoexec": {
      "startup": false,
      "wait_interval": 0
     },
     "base_uri": "https://localhost:8080/",
     "height": 421
    },
    "colab_type": "code",
    "executionInfo": {
     "elapsed": 986,
     "status": "ok",
     "timestamp": 1531794052424,
     "user": {
      "displayName": "김소령",
      "photoUrl": "https://lh3.googleusercontent.com/a/default-user=s128",
      "userId": "115519869961267992265"
     },
     "user_tz": -540
    },
    "id": "wRwnIrMC4MhQ",
    "outputId": "4765d3e3-e4d7-498e-9813-e0bea853cdb0"
   },
   "outputs": [
    {
     "data": {
      "text/html": [
       "<div>\n",
       "<style>\n",
       "    .dataframe thead tr:only-child th {\n",
       "        text-align: right;\n",
       "    }\n",
       "\n",
       "    .dataframe thead th {\n",
       "        text-align: left;\n",
       "    }\n",
       "\n",
       "    .dataframe tbody tr th {\n",
       "        vertical-align: top;\n",
       "    }\n",
       "</style>\n",
       "<table border=\"1\" class=\"dataframe\">\n",
       "  <thead>\n",
       "    <tr style=\"text-align: right;\">\n",
       "      <th></th>\n",
       "      <th>A</th>\n",
       "      <th>B</th>\n",
       "      <th>C</th>\n",
       "      <th>D</th>\n",
       "      <th>E</th>\n",
       "    </tr>\n",
       "  </thead>\n",
       "  <tbody>\n",
       "    <tr>\n",
       "      <th>0</th>\n",
       "      <td>one</td>\n",
       "      <td>A</td>\n",
       "      <td>foo</td>\n",
       "      <td>-0.776195</td>\n",
       "      <td>1.198841</td>\n",
       "    </tr>\n",
       "    <tr>\n",
       "      <th>1</th>\n",
       "      <td>one</td>\n",
       "      <td>B</td>\n",
       "      <td>foo</td>\n",
       "      <td>-0.317653</td>\n",
       "      <td>-1.110124</td>\n",
       "    </tr>\n",
       "    <tr>\n",
       "      <th>2</th>\n",
       "      <td>two</td>\n",
       "      <td>C</td>\n",
       "      <td>foo</td>\n",
       "      <td>1.848317</td>\n",
       "      <td>0.050875</td>\n",
       "    </tr>\n",
       "    <tr>\n",
       "      <th>3</th>\n",
       "      <td>three</td>\n",
       "      <td>A</td>\n",
       "      <td>bar</td>\n",
       "      <td>1.678460</td>\n",
       "      <td>-0.206626</td>\n",
       "    </tr>\n",
       "    <tr>\n",
       "      <th>4</th>\n",
       "      <td>one</td>\n",
       "      <td>B</td>\n",
       "      <td>bar</td>\n",
       "      <td>-0.509394</td>\n",
       "      <td>0.740372</td>\n",
       "    </tr>\n",
       "    <tr>\n",
       "      <th>5</th>\n",
       "      <td>one</td>\n",
       "      <td>C</td>\n",
       "      <td>bar</td>\n",
       "      <td>0.128912</td>\n",
       "      <td>-0.491783</td>\n",
       "    </tr>\n",
       "    <tr>\n",
       "      <th>6</th>\n",
       "      <td>two</td>\n",
       "      <td>A</td>\n",
       "      <td>foo</td>\n",
       "      <td>1.251120</td>\n",
       "      <td>-1.181534</td>\n",
       "    </tr>\n",
       "    <tr>\n",
       "      <th>7</th>\n",
       "      <td>three</td>\n",
       "      <td>B</td>\n",
       "      <td>foo</td>\n",
       "      <td>-0.292120</td>\n",
       "      <td>0.299805</td>\n",
       "    </tr>\n",
       "    <tr>\n",
       "      <th>8</th>\n",
       "      <td>one</td>\n",
       "      <td>C</td>\n",
       "      <td>foo</td>\n",
       "      <td>1.371375</td>\n",
       "      <td>-0.603625</td>\n",
       "    </tr>\n",
       "    <tr>\n",
       "      <th>9</th>\n",
       "      <td>one</td>\n",
       "      <td>A</td>\n",
       "      <td>bar</td>\n",
       "      <td>1.291114</td>\n",
       "      <td>-1.712893</td>\n",
       "    </tr>\n",
       "    <tr>\n",
       "      <th>10</th>\n",
       "      <td>two</td>\n",
       "      <td>B</td>\n",
       "      <td>bar</td>\n",
       "      <td>0.897307</td>\n",
       "      <td>-0.651877</td>\n",
       "    </tr>\n",
       "    <tr>\n",
       "      <th>11</th>\n",
       "      <td>three</td>\n",
       "      <td>C</td>\n",
       "      <td>bar</td>\n",
       "      <td>0.082510</td>\n",
       "      <td>-0.336216</td>\n",
       "    </tr>\n",
       "  </tbody>\n",
       "</table>\n",
       "</div>"
      ],
      "text/plain": [
       "        A  B    C         D         E\n",
       "0     one  A  foo -0.776195  1.198841\n",
       "1     one  B  foo -0.317653 -1.110124\n",
       "2     two  C  foo  1.848317  0.050875\n",
       "3   three  A  bar  1.678460 -0.206626\n",
       "4     one  B  bar -0.509394  0.740372\n",
       "5     one  C  bar  0.128912 -0.491783\n",
       "6     two  A  foo  1.251120 -1.181534\n",
       "7   three  B  foo -0.292120  0.299805\n",
       "8     one  C  foo  1.371375 -0.603625\n",
       "9     one  A  bar  1.291114 -1.712893\n",
       "10    two  B  bar  0.897307 -0.651877\n",
       "11  three  C  bar  0.082510 -0.336216"
      ]
     },
     "execution_count": 112,
     "metadata": {},
     "output_type": "execute_result"
    }
   ],
   "source": [
    "df"
   ]
  },
  {
   "cell_type": "markdown",
   "metadata": {
    "colab_type": "text",
    "id": "d37WGaOO4Qjl"
   },
   "source": [
    "이 데이터로부터 피벗 테이블을 매우 쉽게 생성할 수 있습니다."
   ]
  },
  {
   "cell_type": "code",
   "execution_count": 113,
   "metadata": {
    "colab": {
     "autoexec": {
      "startup": false,
      "wait_interval": 0
     },
     "base_uri": "https://localhost:8080/",
     "height": 359
    },
    "colab_type": "code",
    "executionInfo": {
     "elapsed": 678,
     "status": "ok",
     "timestamp": 1531794059406,
     "user": {
      "displayName": "김소령",
      "photoUrl": "https://lh3.googleusercontent.com/a/default-user=s128",
      "userId": "115519869961267992265"
     },
     "user_tz": -540
    },
    "id": "x55H1koG4RSB",
    "outputId": "c8edb548-04c8-4a9c-c4d9-40ca922d74ee"
   },
   "outputs": [
    {
     "data": {
      "text/html": [
       "<div>\n",
       "<style>\n",
       "    .dataframe thead tr:only-child th {\n",
       "        text-align: right;\n",
       "    }\n",
       "\n",
       "    .dataframe thead th {\n",
       "        text-align: left;\n",
       "    }\n",
       "\n",
       "    .dataframe tbody tr th {\n",
       "        vertical-align: top;\n",
       "    }\n",
       "</style>\n",
       "<table border=\"1\" class=\"dataframe\">\n",
       "  <thead>\n",
       "    <tr style=\"text-align: right;\">\n",
       "      <th></th>\n",
       "      <th>C</th>\n",
       "      <th>bar</th>\n",
       "      <th>foo</th>\n",
       "    </tr>\n",
       "    <tr>\n",
       "      <th>A</th>\n",
       "      <th>B</th>\n",
       "      <th></th>\n",
       "      <th></th>\n",
       "    </tr>\n",
       "  </thead>\n",
       "  <tbody>\n",
       "    <tr>\n",
       "      <th rowspan=\"3\" valign=\"top\">one</th>\n",
       "      <th>A</th>\n",
       "      <td>1.291114</td>\n",
       "      <td>-0.776195</td>\n",
       "    </tr>\n",
       "    <tr>\n",
       "      <th>B</th>\n",
       "      <td>-0.509394</td>\n",
       "      <td>-0.317653</td>\n",
       "    </tr>\n",
       "    <tr>\n",
       "      <th>C</th>\n",
       "      <td>0.128912</td>\n",
       "      <td>1.371375</td>\n",
       "    </tr>\n",
       "    <tr>\n",
       "      <th rowspan=\"3\" valign=\"top\">three</th>\n",
       "      <th>A</th>\n",
       "      <td>1.678460</td>\n",
       "      <td>NaN</td>\n",
       "    </tr>\n",
       "    <tr>\n",
       "      <th>B</th>\n",
       "      <td>NaN</td>\n",
       "      <td>-0.292120</td>\n",
       "    </tr>\n",
       "    <tr>\n",
       "      <th>C</th>\n",
       "      <td>0.082510</td>\n",
       "      <td>NaN</td>\n",
       "    </tr>\n",
       "    <tr>\n",
       "      <th rowspan=\"3\" valign=\"top\">two</th>\n",
       "      <th>A</th>\n",
       "      <td>NaN</td>\n",
       "      <td>1.251120</td>\n",
       "    </tr>\n",
       "    <tr>\n",
       "      <th>B</th>\n",
       "      <td>0.897307</td>\n",
       "      <td>NaN</td>\n",
       "    </tr>\n",
       "    <tr>\n",
       "      <th>C</th>\n",
       "      <td>NaN</td>\n",
       "      <td>1.848317</td>\n",
       "    </tr>\n",
       "  </tbody>\n",
       "</table>\n",
       "</div>"
      ],
      "text/plain": [
       "C             bar       foo\n",
       "A     B                    \n",
       "one   A  1.291114 -0.776195\n",
       "      B -0.509394 -0.317653\n",
       "      C  0.128912  1.371375\n",
       "three A  1.678460       NaN\n",
       "      B       NaN -0.292120\n",
       "      C  0.082510       NaN\n",
       "two   A       NaN  1.251120\n",
       "      B  0.897307       NaN\n",
       "      C       NaN  1.848317"
      ]
     },
     "execution_count": 113,
     "metadata": {},
     "output_type": "execute_result"
    }
   ],
   "source": [
    "pd.pivot_table(df, values='D', index=['A', 'B'], columns=['C'])"
   ]
  },
  {
   "cell_type": "markdown",
   "metadata": {
    "colab_type": "text",
    "id": "ZYenx0CU2Lvc"
   },
   "source": [
    "## Time Series (시계열)"
   ]
  },
  {
   "cell_type": "markdown",
   "metadata": {
    "colab_type": "text",
    "id": "y-awduy52QAH"
   },
   "source": [
    "pandas는 자주 일어나는 변환(예시 : 5분마다 일어나는 데이터에 대한 2차 데이터 변환) 사이에 수행하는 리샘플링 연산을 위한 간단하고, 강력하며, 효율적인 함수를 제공합니다. 이는 재무(금융) 응용에서 매우 일반적이지만 이에 국한되지는 않습니다. [시계열](https://pandas.pydata.org/pandas-docs/stable/timeseries.html#timeseries) 부분을 참고하세요."
   ]
  },
  {
   "cell_type": "code",
   "execution_count": 114,
   "metadata": {
    "colab": {
     "autoexec": {
      "startup": false,
      "wait_interval": 0
     }
    },
    "colab_type": "code",
    "collapsed": true,
    "id": "Y9eFwVdS2VP_"
   },
   "outputs": [],
   "source": [
    "rng = pd.date_range('1/1/2012', periods=100, freq='S')"
   ]
  },
  {
   "cell_type": "code",
   "execution_count": 115,
   "metadata": {
    "colab": {
     "autoexec": {
      "startup": false,
      "wait_interval": 0
     }
    },
    "colab_type": "code",
    "collapsed": true,
    "id": "Cyqthy0N2WlK"
   },
   "outputs": [],
   "source": [
    "ts = pd.Series(np.random.randint(0, 500, len(rng)), index=rng)"
   ]
  },
  {
   "cell_type": "code",
   "execution_count": 116,
   "metadata": {
    "colab": {
     "autoexec": {
      "startup": false,
      "wait_interval": 0
     },
     "base_uri": "https://localhost:8080/",
     "height": 52
    },
    "colab_type": "code",
    "executionInfo": {
     "elapsed": 681,
     "status": "ok",
     "timestamp": 1531794120502,
     "user": {
      "displayName": "김소령",
      "photoUrl": "https://lh3.googleusercontent.com/a/default-user=s128",
      "userId": "115519869961267992265"
     },
     "user_tz": -540
    },
    "id": "ZISF14wx2WpQ",
    "outputId": "a9379f99-9e6c-4ded-9f25-c7fe2685feaa"
   },
   "outputs": [
    {
     "data": {
      "text/plain": [
       "2012-01-01    25654\n",
       "Freq: 5T, dtype: int32"
      ]
     },
     "execution_count": 116,
     "metadata": {},
     "output_type": "execute_result"
    }
   ],
   "source": [
    "ts.resample('5Min').sum()"
   ]
  },
  {
   "cell_type": "markdown",
   "metadata": {
    "colab_type": "text",
    "id": "3LcQGxvr2aBM"
   },
   "source": [
    "시간대를 표현합니다."
   ]
  },
  {
   "cell_type": "code",
   "execution_count": 117,
   "metadata": {
    "colab": {
     "autoexec": {
      "startup": false,
      "wait_interval": 0
     }
    },
    "colab_type": "code",
    "collapsed": true,
    "id": "N6uN3VkD2WyK"
   },
   "outputs": [],
   "source": [
    "rng = pd.date_range('3/6/2012 00:00', periods=5, freq='D')"
   ]
  },
  {
   "cell_type": "code",
   "execution_count": 118,
   "metadata": {
    "colab": {
     "autoexec": {
      "startup": false,
      "wait_interval": 0
     }
    },
    "colab_type": "code",
    "collapsed": true,
    "id": "zIMrP5Te2cht"
   },
   "outputs": [],
   "source": [
    "ts = pd.Series(np.random.randn(len(rng)), rng)"
   ]
  },
  {
   "cell_type": "code",
   "execution_count": 119,
   "metadata": {
    "colab": {
     "autoexec": {
      "startup": false,
      "wait_interval": 0
     },
     "base_uri": "https://localhost:8080/",
     "height": 122
    },
    "colab_type": "code",
    "executionInfo": {
     "elapsed": 894,
     "status": "ok",
     "timestamp": 1531794168800,
     "user": {
      "displayName": "김소령",
      "photoUrl": "https://lh3.googleusercontent.com/a/default-user=s128",
      "userId": "115519869961267992265"
     },
     "user_tz": -540
    },
    "id": "SmAOR9oR2Wtw",
    "outputId": "d800085a-e5f1-43ae-9f73-8e08add09d5e"
   },
   "outputs": [
    {
     "data": {
      "text/plain": [
       "2012-03-06   -1.170229\n",
       "2012-03-07    0.995390\n",
       "2012-03-08   -2.433136\n",
       "2012-03-09   -1.579099\n",
       "2012-03-10   -0.139682\n",
       "Freq: D, dtype: float64"
      ]
     },
     "execution_count": 119,
     "metadata": {},
     "output_type": "execute_result"
    }
   ],
   "source": [
    "ts"
   ]
  },
  {
   "cell_type": "code",
   "execution_count": 120,
   "metadata": {
    "colab": {
     "autoexec": {
      "startup": false,
      "wait_interval": 0
     }
    },
    "colab_type": "code",
    "collapsed": true,
    "id": "tSHoco6N2ezX"
   },
   "outputs": [],
   "source": [
    "ts_utc = ts.tz_localize('UTC')"
   ]
  },
  {
   "cell_type": "code",
   "execution_count": 121,
   "metadata": {
    "colab": {
     "autoexec": {
      "startup": false,
      "wait_interval": 0
     },
     "base_uri": "https://localhost:8080/",
     "height": 122
    },
    "colab_type": "code",
    "executionInfo": {
     "elapsed": 697,
     "status": "ok",
     "timestamp": 1531794133189,
     "user": {
      "displayName": "김소령",
      "photoUrl": "https://lh3.googleusercontent.com/a/default-user=s128",
      "userId": "115519869961267992265"
     },
     "user_tz": -540
    },
    "id": "YA5wOamF2e3c",
    "outputId": "7fad2ece-56fd-4f87-b69e-55757c490ae1"
   },
   "outputs": [
    {
     "data": {
      "text/plain": [
       "2012-03-06 00:00:00+00:00   -1.170229\n",
       "2012-03-07 00:00:00+00:00    0.995390\n",
       "2012-03-08 00:00:00+00:00   -2.433136\n",
       "2012-03-09 00:00:00+00:00   -1.579099\n",
       "2012-03-10 00:00:00+00:00   -0.139682\n",
       "Freq: D, dtype: float64"
      ]
     },
     "execution_count": 121,
     "metadata": {},
     "output_type": "execute_result"
    }
   ],
   "source": [
    "ts_utc"
   ]
  },
  {
   "cell_type": "markdown",
   "metadata": {
    "colab_type": "text",
    "id": "3vrPJFj12hUk"
   },
   "source": [
    "다른 시간대로 변환합니다."
   ]
  },
  {
   "cell_type": "code",
   "execution_count": 122,
   "metadata": {
    "colab": {
     "autoexec": {
      "startup": false,
      "wait_interval": 0
     },
     "base_uri": "https://localhost:8080/",
     "height": 122
    },
    "colab_type": "code",
    "executionInfo": {
     "elapsed": 706,
     "status": "ok",
     "timestamp": 1531794137312,
     "user": {
      "displayName": "김소령",
      "photoUrl": "https://lh3.googleusercontent.com/a/default-user=s128",
      "userId": "115519869961267992265"
     },
     "user_tz": -540
    },
    "id": "OQWgvsVo2e76",
    "outputId": "00b33d85-4cb9-4b39-f9df-8cae3402dcf6"
   },
   "outputs": [
    {
     "data": {
      "text/plain": [
       "2012-03-05 19:00:00-05:00   -1.170229\n",
       "2012-03-06 19:00:00-05:00    0.995390\n",
       "2012-03-07 19:00:00-05:00   -2.433136\n",
       "2012-03-08 19:00:00-05:00   -1.579099\n",
       "2012-03-09 19:00:00-05:00   -0.139682\n",
       "Freq: D, dtype: float64"
      ]
     },
     "execution_count": 122,
     "metadata": {},
     "output_type": "execute_result"
    }
   ],
   "source": [
    "ts_utc.tz_convert('US/Eastern')"
   ]
  },
  {
   "cell_type": "markdown",
   "metadata": {
    "colab_type": "text",
    "id": "THfGaHND2kli"
   },
   "source": [
    "시간 표현 ↔ 기간 표현으로 변환합니다."
   ]
  },
  {
   "cell_type": "code",
   "execution_count": 123,
   "metadata": {
    "colab": {
     "autoexec": {
      "startup": false,
      "wait_interval": 0
     }
    },
    "colab_type": "code",
    "collapsed": true,
    "id": "bZPXGpSZ2lLt"
   },
   "outputs": [],
   "source": [
    "rng = pd.date_range('1/1/2012', periods=5, freq='M')"
   ]
  },
  {
   "cell_type": "code",
   "execution_count": 124,
   "metadata": {
    "colab": {
     "autoexec": {
      "startup": false,
      "wait_interval": 0
     }
    },
    "colab_type": "code",
    "collapsed": true,
    "id": "NCpFTZCz2e_7"
   },
   "outputs": [],
   "source": [
    "ts = pd.Series(np.random.randn(len(rng)), index=rng)"
   ]
  },
  {
   "cell_type": "code",
   "execution_count": 125,
   "metadata": {
    "colab": {
     "autoexec": {
      "startup": false,
      "wait_interval": 0
     },
     "base_uri": "https://localhost:8080/",
     "height": 122
    },
    "colab_type": "code",
    "executionInfo": {
     "elapsed": 815,
     "status": "ok",
     "timestamp": 1531793824888,
     "user": {
      "displayName": "김소령",
      "photoUrl": "https://lh3.googleusercontent.com/a/default-user=s128",
      "userId": "115519869961267992265"
     },
     "user_tz": -540
    },
    "id": "TFbL7np62obz",
    "outputId": "ebbc654b-c785-49b8-8761-4c93eb867c42"
   },
   "outputs": [
    {
     "data": {
      "text/plain": [
       "2012-01-31    0.080979\n",
       "2012-02-29    0.075085\n",
       "2012-03-31   -0.076771\n",
       "2012-04-30    0.819286\n",
       "2012-05-31   -0.542812\n",
       "Freq: M, dtype: float64"
      ]
     },
     "execution_count": 125,
     "metadata": {},
     "output_type": "execute_result"
    }
   ],
   "source": [
    "ts"
   ]
  },
  {
   "cell_type": "code",
   "execution_count": 126,
   "metadata": {
    "colab": {
     "autoexec": {
      "startup": false,
      "wait_interval": 0
     }
    },
    "colab_type": "code",
    "collapsed": true,
    "id": "I30_LkrG2o_g"
   },
   "outputs": [],
   "source": [
    "ps = ts.to_period()"
   ]
  },
  {
   "cell_type": "code",
   "execution_count": 127,
   "metadata": {
    "colab": {
     "autoexec": {
      "startup": false,
      "wait_interval": 0
     },
     "base_uri": "https://localhost:8080/",
     "height": 122
    },
    "colab_type": "code",
    "executionInfo": {
     "elapsed": 1353,
     "status": "ok",
     "timestamp": 1531793830523,
     "user": {
      "displayName": "김소령",
      "photoUrl": "https://lh3.googleusercontent.com/a/default-user=s128",
      "userId": "115519869961267992265"
     },
     "user_tz": -540
    },
    "id": "Ue18d1fv2pHh",
    "outputId": "95180de3-204e-4bbd-ca04-5104a703ac7d"
   },
   "outputs": [
    {
     "data": {
      "text/plain": [
       "2012-01    0.080979\n",
       "2012-02    0.075085\n",
       "2012-03   -0.076771\n",
       "2012-04    0.819286\n",
       "2012-05   -0.542812\n",
       "Freq: M, dtype: float64"
      ]
     },
     "execution_count": 127,
     "metadata": {},
     "output_type": "execute_result"
    }
   ],
   "source": [
    "ps"
   ]
  },
  {
   "cell_type": "code",
   "execution_count": 128,
   "metadata": {
    "colab": {
     "autoexec": {
      "startup": false,
      "wait_interval": 0
     },
     "base_uri": "https://localhost:8080/",
     "height": 122
    },
    "colab_type": "code",
    "executionInfo": {
     "elapsed": 1022,
     "status": "ok",
     "timestamp": 1531793832723,
     "user": {
      "displayName": "김소령",
      "photoUrl": "https://lh3.googleusercontent.com/a/default-user=s128",
      "userId": "115519869961267992265"
     },
     "user_tz": -540
    },
    "id": "YgdyzQNW2pQp",
    "outputId": "6059235d-d536-4328-f4f1-55b3a270f206"
   },
   "outputs": [
    {
     "data": {
      "text/plain": [
       "2012-01-01    0.080979\n",
       "2012-02-01    0.075085\n",
       "2012-03-01   -0.076771\n",
       "2012-04-01    0.819286\n",
       "2012-05-01   -0.542812\n",
       "Freq: MS, dtype: float64"
      ]
     },
     "execution_count": 128,
     "metadata": {},
     "output_type": "execute_result"
    }
   ],
   "source": [
    "ps.to_timestamp()"
   ]
  },
  {
   "cell_type": "markdown",
   "metadata": {
    "colab_type": "text",
    "id": "mxuEnG7R2twf"
   },
   "source": [
    "기간 ↔ 시간 변환은 편리한 산술 기능들을 사용할 수 있도록 만들어줍니다. 다음 예제에서, 우리는 11월에 끝나는 연말 결산의 분기별 빈도를 분기말 익월의 월말일 오전 9시로 변환합니다."
   ]
  },
  {
   "cell_type": "code",
   "execution_count": 129,
   "metadata": {
    "colab": {
     "autoexec": {
      "startup": false,
      "wait_interval": 0
     }
    },
    "colab_type": "code",
    "collapsed": true,
    "id": "tPlpI7I02wU2"
   },
   "outputs": [],
   "source": [
    "prng = pd.period_range('1990Q1', '2000Q4', freq='Q-NOV')"
   ]
  },
  {
   "cell_type": "code",
   "execution_count": 130,
   "metadata": {
    "colab": {
     "autoexec": {
      "startup": false,
      "wait_interval": 0
     }
    },
    "colab_type": "code",
    "collapsed": true,
    "id": "HJrVQIbf2xnO"
   },
   "outputs": [],
   "source": [
    "ts = pd.Series(np.random.randn(len(prng)), prng)"
   ]
  },
  {
   "cell_type": "code",
   "execution_count": 131,
   "metadata": {
    "colab": {
     "autoexec": {
      "startup": false,
      "wait_interval": 0
     }
    },
    "colab_type": "code",
    "collapsed": true,
    "id": "0e5Bd6Nq23QY"
   },
   "outputs": [],
   "source": [
    "ts.index = (prng.asfreq('M', 'e') + 1).asfreq('H', 's') + 9"
   ]
  },
  {
   "cell_type": "code",
   "execution_count": 132,
   "metadata": {
    "colab": {
     "autoexec": {
      "startup": false,
      "wait_interval": 0
     },
     "base_uri": "https://localhost:8080/",
     "height": 122
    },
    "colab_type": "code",
    "executionInfo": {
     "elapsed": 651,
     "status": "ok",
     "timestamp": 1531793942445,
     "user": {
      "displayName": "김소령",
      "photoUrl": "https://lh3.googleusercontent.com/a/default-user=s128",
      "userId": "115519869961267992265"
     },
     "user_tz": -540
    },
    "id": "RecuXufR26SS",
    "outputId": "1a7cbbe9-1966-4907-fc77-71e446d31040"
   },
   "outputs": [
    {
     "data": {
      "text/plain": [
       "1990-03-01 09:00    0.018325\n",
       "1990-06-01 09:00    1.330483\n",
       "1990-09-01 09:00    1.122604\n",
       "1990-12-01 09:00    0.288536\n",
       "1991-03-01 09:00    1.161760\n",
       "Freq: H, dtype: float64"
      ]
     },
     "execution_count": 132,
     "metadata": {},
     "output_type": "execute_result"
    }
   ],
   "source": [
    "ts.head()"
   ]
  },
  {
   "cell_type": "markdown",
   "metadata": {
    "colab_type": "text",
    "id": "8OfzvbgW28Hc"
   },
   "source": [
    "## Categoricals (범주화)"
   ]
  },
  {
   "cell_type": "markdown",
   "metadata": {
    "colab_type": "text",
    "id": "e3UtUKXU_P2R"
   },
   "source": [
    "pandas는 데이터프레임 내에 범주형 데이터를 포함할 수 있습니다. [범주형 소개](https://pandas.pydata.org/pandas-docs/stable/categorical.html#categorical) 와 [API 문서](https://pandas.pydata.org/pandas-docs/stable/api.html#api-categorical) 부분을 참조하세요."
   ]
  },
  {
   "cell_type": "code",
   "execution_count": 133,
   "metadata": {
    "colab": {
     "autoexec": {
      "startup": false,
      "wait_interval": 0
     }
    },
    "colab_type": "code",
    "collapsed": true,
    "id": "06N2dtiG_Syu"
   },
   "outputs": [],
   "source": [
    "df = pd.DataFrame({\"id\":[1,2,3,4,5,6], \"raw_grade\":['a', 'b', 'b', 'a', 'a', 'e']})"
   ]
  },
  {
   "cell_type": "markdown",
   "metadata": {
    "colab_type": "text",
    "id": "gDRaVjoD_j_o"
   },
   "source": [
    "가공하지 않은 성적을 범주형 데이터로 변환합니다."
   ]
  },
  {
   "cell_type": "code",
   "execution_count": 134,
   "metadata": {
    "colab": {
     "autoexec": {
      "startup": false,
      "wait_interval": 0
     }
    },
    "colab_type": "code",
    "collapsed": true,
    "id": "1SYkcjem_sGv"
   },
   "outputs": [],
   "source": [
    "df[\"grade\"] = df[\"raw_grade\"].astype(\"category\")"
   ]
  },
  {
   "cell_type": "code",
   "execution_count": 135,
   "metadata": {
    "colab": {
     "autoexec": {
      "startup": false,
      "wait_interval": 0
     }
    },
    "colab_type": "code",
    "id": "jydcy-_m_uzu",
    "outputId": "8ef881b3-12ed-4b62-a7f8-81d5f01d2b7f"
   },
   "outputs": [
    {
     "data": {
      "text/plain": [
       "0    a\n",
       "1    b\n",
       "2    b\n",
       "3    a\n",
       "4    a\n",
       "5    e\n",
       "Name: grade, dtype: category\n",
       "Categories (3, object): [a, b, e]"
      ]
     },
     "execution_count": 135,
     "metadata": {},
     "output_type": "execute_result"
    }
   ],
   "source": [
    "df[\"grade\"]"
   ]
  },
  {
   "cell_type": "markdown",
   "metadata": {
    "colab_type": "text",
    "id": "42GBAJv5Bt1I"
   },
   "source": [
    "범주에 더 의미 있는 이름을 붙여주세요. (Series.cat.categories로 할당하는 것이 적합합니다!)"
   ]
  },
  {
   "cell_type": "code",
   "execution_count": 136,
   "metadata": {
    "colab": {
     "autoexec": {
      "startup": false,
      "wait_interval": 0
     }
    },
    "colab_type": "code",
    "collapsed": true,
    "id": "doobrAvYBudq"
   },
   "outputs": [],
   "source": [
    "df[\"grade\"].cat.categories = [\"very good\", \"good\", \"very bad\"]"
   ]
  },
  {
   "cell_type": "markdown",
   "metadata": {
    "colab_type": "text",
    "id": "vhhGHW7LBwYW"
   },
   "source": [
    "범주의 순서를 바꾸고 동시에 누락된 범주를 추가합니다. (Series.cat에 속하는 메소드는 기본적으로 새로운 Series를 반환합니다.)"
   ]
  },
  {
   "cell_type": "code",
   "execution_count": 137,
   "metadata": {
    "colab": {
     "autoexec": {
      "startup": false,
      "wait_interval": 0
     }
    },
    "colab_type": "code",
    "collapsed": true,
    "id": "lUcARnDbBw9g"
   },
   "outputs": [],
   "source": [
    "df[\"grade\"] = df[\"grade\"].cat.set_categories([\"very bad\", \"bad\", \"medium\", \"good\", \"very good\"])"
   ]
  },
  {
   "cell_type": "code",
   "execution_count": 138,
   "metadata": {
    "colab": {
     "autoexec": {
      "startup": false,
      "wait_interval": 0
     }
    },
    "colab_type": "code",
    "id": "RA_znfuKBy8q",
    "outputId": "f91bf6b0-7d04-484d-f193-458c1702fbb2"
   },
   "outputs": [
    {
     "data": {
      "text/plain": [
       "0    very good\n",
       "1         good\n",
       "2         good\n",
       "3    very good\n",
       "4    very good\n",
       "5     very bad\n",
       "Name: grade, dtype: category\n",
       "Categories (5, object): [very bad, bad, medium, good, very good]"
      ]
     },
     "execution_count": 138,
     "metadata": {},
     "output_type": "execute_result"
    }
   ],
   "source": [
    "df[\"grade\"]"
   ]
  },
  {
   "cell_type": "markdown",
   "metadata": {
    "colab_type": "text",
    "id": "SPNrY_SE3Evr"
   },
   "source": [
    "정렬은 사전 순서가 아닌, 해당 범주에서 지정된 순서대로 배열합니다.\n",
    "\n",
    "*역자 주 : 131번에서 very bad, bad, medium, good, very good 의 순서로 기재되어 있기 때문에 정렬 결과도 해당 순서대로 배열됩니다.*"
   ]
  },
  {
   "cell_type": "code",
   "execution_count": 139,
   "metadata": {
    "colab": {
     "autoexec": {
      "startup": false,
      "wait_interval": 0
     }
    },
    "colab_type": "code",
    "id": "FuGS1e023A8g",
    "outputId": "53c5b797-c7f6-41f1-bb9c-b122038d23e4"
   },
   "outputs": [
    {
     "data": {
      "text/html": [
       "<div>\n",
       "<style>\n",
       "    .dataframe thead tr:only-child th {\n",
       "        text-align: right;\n",
       "    }\n",
       "\n",
       "    .dataframe thead th {\n",
       "        text-align: left;\n",
       "    }\n",
       "\n",
       "    .dataframe tbody tr th {\n",
       "        vertical-align: top;\n",
       "    }\n",
       "</style>\n",
       "<table border=\"1\" class=\"dataframe\">\n",
       "  <thead>\n",
       "    <tr style=\"text-align: right;\">\n",
       "      <th></th>\n",
       "      <th>id</th>\n",
       "      <th>raw_grade</th>\n",
       "      <th>grade</th>\n",
       "    </tr>\n",
       "  </thead>\n",
       "  <tbody>\n",
       "    <tr>\n",
       "      <th>5</th>\n",
       "      <td>6</td>\n",
       "      <td>e</td>\n",
       "      <td>very bad</td>\n",
       "    </tr>\n",
       "    <tr>\n",
       "      <th>1</th>\n",
       "      <td>2</td>\n",
       "      <td>b</td>\n",
       "      <td>good</td>\n",
       "    </tr>\n",
       "    <tr>\n",
       "      <th>2</th>\n",
       "      <td>3</td>\n",
       "      <td>b</td>\n",
       "      <td>good</td>\n",
       "    </tr>\n",
       "    <tr>\n",
       "      <th>0</th>\n",
       "      <td>1</td>\n",
       "      <td>a</td>\n",
       "      <td>very good</td>\n",
       "    </tr>\n",
       "    <tr>\n",
       "      <th>3</th>\n",
       "      <td>4</td>\n",
       "      <td>a</td>\n",
       "      <td>very good</td>\n",
       "    </tr>\n",
       "    <tr>\n",
       "      <th>4</th>\n",
       "      <td>5</td>\n",
       "      <td>a</td>\n",
       "      <td>very good</td>\n",
       "    </tr>\n",
       "  </tbody>\n",
       "</table>\n",
       "</div>"
      ],
      "text/plain": [
       "   id raw_grade      grade\n",
       "5   6         e   very bad\n",
       "1   2         b       good\n",
       "2   3         b       good\n",
       "0   1         a  very good\n",
       "3   4         a  very good\n",
       "4   5         a  very good"
      ]
     },
     "execution_count": 139,
     "metadata": {},
     "output_type": "execute_result"
    }
   ],
   "source": [
    "df.sort_values(by=\"grade\")"
   ]
  },
  {
   "cell_type": "markdown",
   "metadata": {
    "colab_type": "text",
    "id": "tl3VskO43Hd9"
   },
   "source": [
    "범주의 열을 기준으로 그룹화하면 빈 범주도 표시됩니다."
   ]
  },
  {
   "cell_type": "code",
   "execution_count": 140,
   "metadata": {
    "colab": {
     "autoexec": {
      "startup": false,
      "wait_interval": 0
     }
    },
    "colab_type": "code",
    "id": "pD-EDBKN3KNk",
    "outputId": "e238f08f-2950-414c-dfa2-8494ddc3e50f"
   },
   "outputs": [
    {
     "data": {
      "text/plain": [
       "grade\n",
       "very bad     1\n",
       "bad          0\n",
       "medium       0\n",
       "good         2\n",
       "very good    3\n",
       "dtype: int64"
      ]
     },
     "execution_count": 140,
     "metadata": {},
     "output_type": "execute_result"
    }
   ],
   "source": [
    "df.groupby(\"grade\").size()"
   ]
  },
  {
   "cell_type": "markdown",
   "metadata": {
    "colab_type": "text",
    "id": "LDarUbRI1K9c"
   },
   "source": [
    "## Plotting"
   ]
  },
  {
   "cell_type": "markdown",
   "metadata": {
    "colab_type": "text",
    "id": "pi9t1o4-1X2Q"
   },
   "source": [
    "[Plotting](https://pandas.pydata.org/pandas-docs/stable/visualization.html#visualization) 부분을 참조하세요."
   ]
  },
  {
   "cell_type": "code",
   "execution_count": 141,
   "metadata": {
    "colab": {
     "autoexec": {
      "startup": false,
      "wait_interval": 0
     }
    },
    "colab_type": "code",
    "collapsed": true,
    "id": "ypfwa2Zy1WrL"
   },
   "outputs": [],
   "source": [
    "ts = pd.Series(np.random.randn(1000), index=pd.date_range('1/1/2000', periods=1000))"
   ]
  },
  {
   "cell_type": "code",
   "execution_count": 142,
   "metadata": {
    "colab": {
     "autoexec": {
      "startup": false,
      "wait_interval": 0
     }
    },
    "colab_type": "code",
    "collapsed": true,
    "id": "Ai8kXvor1cSZ"
   },
   "outputs": [],
   "source": [
    "ts = ts.cumsum()"
   ]
  },
  {
   "cell_type": "code",
   "execution_count": 143,
   "metadata": {
    "colab": {
     "autoexec": {
      "startup": false,
      "wait_interval": 0
     },
     "base_uri": "https://localhost:8080/",
     "height": 377
    },
    "colab_type": "code",
    "executionInfo": {
     "elapsed": 1626,
     "status": "ok",
     "timestamp": 1531794568483,
     "user": {
      "displayName": "정다현",
      "photoUrl": "https://lh3.googleusercontent.com/a/default-user=s128",
      "userId": "108793786663813438778"
     },
     "user_tz": -540
    },
    "id": "sfICp0cs1gXu",
    "outputId": "c6009633-5e9a-47b6-e94d-217c6a93c646"
   },
   "outputs": [
    {
     "data": {
      "text/plain": [
       "<matplotlib.axes._subplots.AxesSubplot at 0x9974fd0>"
      ]
     },
     "execution_count": 143,
     "metadata": {},
     "output_type": "execute_result"
    }
   ],
   "source": [
    "ts.plot()"
   ]
  },
  {
   "cell_type": "markdown",
   "metadata": {
    "colab_type": "text",
    "id": "iOsgd7LK1kXK"
   },
   "source": [
    "데이터프레임에서 [plot()](https://pandas.pydata.org/pandas-docs/stable/generated/pandas.DataFrame.plot.html#pandas.DataFrame.plot) 메소드는 라벨이 존재하는 모든 열을 그릴 때 편리합니다."
   ]
  },
  {
   "cell_type": "code",
   "execution_count": 144,
   "metadata": {
    "colab": {
     "autoexec": {
      "startup": false,
      "wait_interval": 0
     }
    },
    "colab_type": "code",
    "collapsed": true,
    "id": "LHvapoGC1pPT"
   },
   "outputs": [],
   "source": [
    "df = pd.DataFrame(np.random.randn(1000, 4), index=ts.index,\n",
    "                  columns=['A', 'B', 'C', 'D'])  "
   ]
  },
  {
   "cell_type": "code",
   "execution_count": 145,
   "metadata": {
    "colab": {
     "autoexec": {
      "startup": false,
      "wait_interval": 0
     }
    },
    "colab_type": "code",
    "collapsed": true,
    "id": "g6ebCUZa1rKu"
   },
   "outputs": [],
   "source": [
    "df = df.cumsum()"
   ]
  },
  {
   "cell_type": "code",
   "execution_count": 146,
   "metadata": {
    "colab": {
     "autoexec": {
      "startup": false,
      "wait_interval": 0
     },
     "base_uri": "https://localhost:8080/",
     "height": 396
    },
    "colab_type": "code",
    "executionInfo": {
     "elapsed": 1794,
     "status": "ok",
     "timestamp": 1531794585672,
     "user": {
      "displayName": "정다현",
      "photoUrl": "https://lh3.googleusercontent.com/a/default-user=s128",
      "userId": "108793786663813438778"
     },
     "user_tz": -540
    },
    "id": "Qfil41-P1uMu",
    "outputId": "941e5874-1699-4f75-c209-ac22d06accd9"
   },
   "outputs": [
    {
     "data": {
      "text/plain": [
       "<matplotlib.legend.Legend at 0x9b10208>"
      ]
     },
     "execution_count": 146,
     "metadata": {},
     "output_type": "execute_result"
    }
   ],
   "source": [
    "plt.figure(); df.plot(); plt.legend(loc='best')"
   ]
  },
  {
   "cell_type": "markdown",
   "metadata": {
    "colab_type": "text",
    "id": "6orrhxzC2vJh"
   },
   "source": [
    "## Getting Data In/Out (데이터 입/출력)"
   ]
  },
  {
   "cell_type": "markdown",
   "metadata": {
    "colab_type": "text",
    "id": "bYZJgW252vq2"
   },
   "source": [
    "### CSV"
   ]
  },
  {
   "cell_type": "markdown",
   "metadata": {
    "colab_type": "text",
    "id": "Z7q2-xWD_YkP"
   },
   "source": [
    "[csv 파일에 씁니다.](https://pandas.pydata.org/pandas-docs/stable/io.html#io-store-in-csv)"
   ]
  },
  {
   "cell_type": "code",
   "execution_count": 147,
   "metadata": {
    "colab": {
     "autoexec": {
      "startup": false,
      "wait_interval": 0
     }
    },
    "colab_type": "code",
    "collapsed": true,
    "id": "1iet_DHP_XSk"
   },
   "outputs": [],
   "source": [
    "df.to_csv('foo.csv')"
   ]
  },
  {
   "cell_type": "markdown",
   "metadata": {
    "colab_type": "text",
    "id": "7luq7S6OANk_"
   },
   "source": [
    "[csv 파일을 읽습니다.](https://pandas.pydata.org/pandas-docs/stable/io.html#io-read-csv-table)"
   ]
  },
  {
   "cell_type": "code",
   "execution_count": 148,
   "metadata": {
    "colab": {
     "autoexec": {
      "startup": false,
      "wait_interval": 0
     },
     "base_uri": "https://localhost:8080/",
     "height": 1949
    },
    "colab_type": "code",
    "executionInfo": {
     "elapsed": 990,
     "status": "ok",
     "timestamp": 1531794606920,
     "user": {
      "displayName": "정다현",
      "photoUrl": "https://lh3.googleusercontent.com/a/default-user=s128",
      "userId": "108793786663813438778"
     },
     "user_tz": -540
    },
    "id": "NE2Xhx-MAW45",
    "outputId": "8c7a769b-d1d5-4c30-99b1-2338036e5e8f"
   },
   "outputs": [
    {
     "data": {
      "text/html": [
       "<div>\n",
       "<style>\n",
       "    .dataframe thead tr:only-child th {\n",
       "        text-align: right;\n",
       "    }\n",
       "\n",
       "    .dataframe thead th {\n",
       "        text-align: left;\n",
       "    }\n",
       "\n",
       "    .dataframe tbody tr th {\n",
       "        vertical-align: top;\n",
       "    }\n",
       "</style>\n",
       "<table border=\"1\" class=\"dataframe\">\n",
       "  <thead>\n",
       "    <tr style=\"text-align: right;\">\n",
       "      <th></th>\n",
       "      <th>Unnamed: 0</th>\n",
       "      <th>A</th>\n",
       "      <th>B</th>\n",
       "      <th>C</th>\n",
       "      <th>D</th>\n",
       "    </tr>\n",
       "  </thead>\n",
       "  <tbody>\n",
       "    <tr>\n",
       "      <th>0</th>\n",
       "      <td>2000-01-01</td>\n",
       "      <td>-1.170941</td>\n",
       "      <td>0.688051</td>\n",
       "      <td>-0.383810</td>\n",
       "      <td>0.837035</td>\n",
       "    </tr>\n",
       "    <tr>\n",
       "      <th>1</th>\n",
       "      <td>2000-01-02</td>\n",
       "      <td>-1.325416</td>\n",
       "      <td>0.061442</td>\n",
       "      <td>-1.080497</td>\n",
       "      <td>0.281412</td>\n",
       "    </tr>\n",
       "    <tr>\n",
       "      <th>2</th>\n",
       "      <td>2000-01-03</td>\n",
       "      <td>-0.687276</td>\n",
       "      <td>0.916830</td>\n",
       "      <td>-2.839985</td>\n",
       "      <td>1.852432</td>\n",
       "    </tr>\n",
       "    <tr>\n",
       "      <th>3</th>\n",
       "      <td>2000-01-04</td>\n",
       "      <td>-1.288728</td>\n",
       "      <td>-0.242376</td>\n",
       "      <td>-3.791390</td>\n",
       "      <td>1.309750</td>\n",
       "    </tr>\n",
       "    <tr>\n",
       "      <th>4</th>\n",
       "      <td>2000-01-05</td>\n",
       "      <td>-0.937522</td>\n",
       "      <td>-0.779122</td>\n",
       "      <td>-5.202554</td>\n",
       "      <td>2.219908</td>\n",
       "    </tr>\n",
       "    <tr>\n",
       "      <th>5</th>\n",
       "      <td>2000-01-06</td>\n",
       "      <td>-2.136242</td>\n",
       "      <td>-0.693236</td>\n",
       "      <td>-6.256821</td>\n",
       "      <td>3.015780</td>\n",
       "    </tr>\n",
       "    <tr>\n",
       "      <th>6</th>\n",
       "      <td>2000-01-07</td>\n",
       "      <td>-1.412520</td>\n",
       "      <td>-2.517668</td>\n",
       "      <td>-5.712015</td>\n",
       "      <td>3.805923</td>\n",
       "    </tr>\n",
       "    <tr>\n",
       "      <th>7</th>\n",
       "      <td>2000-01-08</td>\n",
       "      <td>-0.049283</td>\n",
       "      <td>-1.716615</td>\n",
       "      <td>-7.405345</td>\n",
       "      <td>4.770589</td>\n",
       "    </tr>\n",
       "    <tr>\n",
       "      <th>8</th>\n",
       "      <td>2000-01-09</td>\n",
       "      <td>0.592184</td>\n",
       "      <td>-0.617583</td>\n",
       "      <td>-7.339519</td>\n",
       "      <td>3.694828</td>\n",
       "    </tr>\n",
       "    <tr>\n",
       "      <th>9</th>\n",
       "      <td>2000-01-10</td>\n",
       "      <td>1.378037</td>\n",
       "      <td>0.110647</td>\n",
       "      <td>-5.297688</td>\n",
       "      <td>3.467191</td>\n",
       "    </tr>\n",
       "    <tr>\n",
       "      <th>10</th>\n",
       "      <td>2000-01-11</td>\n",
       "      <td>2.474387</td>\n",
       "      <td>-0.083230</td>\n",
       "      <td>-4.153509</td>\n",
       "      <td>3.091714</td>\n",
       "    </tr>\n",
       "    <tr>\n",
       "      <th>11</th>\n",
       "      <td>2000-01-12</td>\n",
       "      <td>1.621882</td>\n",
       "      <td>0.016834</td>\n",
       "      <td>-7.112481</td>\n",
       "      <td>1.237205</td>\n",
       "    </tr>\n",
       "    <tr>\n",
       "      <th>12</th>\n",
       "      <td>2000-01-13</td>\n",
       "      <td>1.246822</td>\n",
       "      <td>-1.368471</td>\n",
       "      <td>-5.531885</td>\n",
       "      <td>0.338128</td>\n",
       "    </tr>\n",
       "    <tr>\n",
       "      <th>13</th>\n",
       "      <td>2000-01-14</td>\n",
       "      <td>1.978975</td>\n",
       "      <td>-0.527194</td>\n",
       "      <td>-5.112244</td>\n",
       "      <td>1.466986</td>\n",
       "    </tr>\n",
       "    <tr>\n",
       "      <th>14</th>\n",
       "      <td>2000-01-15</td>\n",
       "      <td>1.450342</td>\n",
       "      <td>0.450082</td>\n",
       "      <td>-4.731543</td>\n",
       "      <td>3.673504</td>\n",
       "    </tr>\n",
       "    <tr>\n",
       "      <th>15</th>\n",
       "      <td>2000-01-16</td>\n",
       "      <td>1.948955</td>\n",
       "      <td>1.059912</td>\n",
       "      <td>-6.297084</td>\n",
       "      <td>4.191426</td>\n",
       "    </tr>\n",
       "    <tr>\n",
       "      <th>16</th>\n",
       "      <td>2000-01-17</td>\n",
       "      <td>2.035009</td>\n",
       "      <td>2.273572</td>\n",
       "      <td>-6.637326</td>\n",
       "      <td>3.746256</td>\n",
       "    </tr>\n",
       "    <tr>\n",
       "      <th>17</th>\n",
       "      <td>2000-01-18</td>\n",
       "      <td>1.550255</td>\n",
       "      <td>3.503449</td>\n",
       "      <td>-6.578056</td>\n",
       "      <td>4.099211</td>\n",
       "    </tr>\n",
       "    <tr>\n",
       "      <th>18</th>\n",
       "      <td>2000-01-19</td>\n",
       "      <td>1.864008</td>\n",
       "      <td>4.212954</td>\n",
       "      <td>-7.183693</td>\n",
       "      <td>2.888867</td>\n",
       "    </tr>\n",
       "    <tr>\n",
       "      <th>19</th>\n",
       "      <td>2000-01-20</td>\n",
       "      <td>-0.075277</td>\n",
       "      <td>5.007933</td>\n",
       "      <td>-7.093309</td>\n",
       "      <td>4.735946</td>\n",
       "    </tr>\n",
       "    <tr>\n",
       "      <th>20</th>\n",
       "      <td>2000-01-21</td>\n",
       "      <td>-1.140021</td>\n",
       "      <td>6.814976</td>\n",
       "      <td>-6.716311</td>\n",
       "      <td>5.306338</td>\n",
       "    </tr>\n",
       "    <tr>\n",
       "      <th>21</th>\n",
       "      <td>2000-01-22</td>\n",
       "      <td>1.162872</td>\n",
       "      <td>6.534765</td>\n",
       "      <td>-6.110653</td>\n",
       "      <td>5.233384</td>\n",
       "    </tr>\n",
       "    <tr>\n",
       "      <th>22</th>\n",
       "      <td>2000-01-23</td>\n",
       "      <td>1.760717</td>\n",
       "      <td>5.714708</td>\n",
       "      <td>-4.054118</td>\n",
       "      <td>4.785703</td>\n",
       "    </tr>\n",
       "    <tr>\n",
       "      <th>23</th>\n",
       "      <td>2000-01-24</td>\n",
       "      <td>0.536450</td>\n",
       "      <td>5.849652</td>\n",
       "      <td>-3.765441</td>\n",
       "      <td>3.989357</td>\n",
       "    </tr>\n",
       "    <tr>\n",
       "      <th>24</th>\n",
       "      <td>2000-01-25</td>\n",
       "      <td>0.506539</td>\n",
       "      <td>6.692062</td>\n",
       "      <td>-4.821839</td>\n",
       "      <td>3.023168</td>\n",
       "    </tr>\n",
       "    <tr>\n",
       "      <th>25</th>\n",
       "      <td>2000-01-26</td>\n",
       "      <td>0.958889</td>\n",
       "      <td>6.568955</td>\n",
       "      <td>-4.259598</td>\n",
       "      <td>2.421934</td>\n",
       "    </tr>\n",
       "    <tr>\n",
       "      <th>26</th>\n",
       "      <td>2000-01-27</td>\n",
       "      <td>-0.172696</td>\n",
       "      <td>4.921587</td>\n",
       "      <td>-4.413335</td>\n",
       "      <td>2.314551</td>\n",
       "    </tr>\n",
       "    <tr>\n",
       "      <th>27</th>\n",
       "      <td>2000-01-28</td>\n",
       "      <td>0.165740</td>\n",
       "      <td>5.134014</td>\n",
       "      <td>-3.341849</td>\n",
       "      <td>1.133864</td>\n",
       "    </tr>\n",
       "    <tr>\n",
       "      <th>28</th>\n",
       "      <td>2000-01-29</td>\n",
       "      <td>0.093579</td>\n",
       "      <td>4.991880</td>\n",
       "      <td>-4.020020</td>\n",
       "      <td>2.081721</td>\n",
       "    </tr>\n",
       "    <tr>\n",
       "      <th>29</th>\n",
       "      <td>2000-01-30</td>\n",
       "      <td>0.424503</td>\n",
       "      <td>4.328352</td>\n",
       "      <td>-3.503704</td>\n",
       "      <td>2.303425</td>\n",
       "    </tr>\n",
       "    <tr>\n",
       "      <th>...</th>\n",
       "      <td>...</td>\n",
       "      <td>...</td>\n",
       "      <td>...</td>\n",
       "      <td>...</td>\n",
       "      <td>...</td>\n",
       "    </tr>\n",
       "    <tr>\n",
       "      <th>970</th>\n",
       "      <td>2002-08-28</td>\n",
       "      <td>-9.441308</td>\n",
       "      <td>-10.407354</td>\n",
       "      <td>60.908649</td>\n",
       "      <td>-3.372065</td>\n",
       "    </tr>\n",
       "    <tr>\n",
       "      <th>971</th>\n",
       "      <td>2002-08-29</td>\n",
       "      <td>-10.022290</td>\n",
       "      <td>-10.300304</td>\n",
       "      <td>59.022868</td>\n",
       "      <td>-4.729307</td>\n",
       "    </tr>\n",
       "    <tr>\n",
       "      <th>972</th>\n",
       "      <td>2002-08-30</td>\n",
       "      <td>-10.771862</td>\n",
       "      <td>-10.121161</td>\n",
       "      <td>59.190720</td>\n",
       "      <td>-4.776657</td>\n",
       "    </tr>\n",
       "    <tr>\n",
       "      <th>973</th>\n",
       "      <td>2002-08-31</td>\n",
       "      <td>-11.397452</td>\n",
       "      <td>-10.721580</td>\n",
       "      <td>59.955429</td>\n",
       "      <td>-4.837409</td>\n",
       "    </tr>\n",
       "    <tr>\n",
       "      <th>974</th>\n",
       "      <td>2002-09-01</td>\n",
       "      <td>-12.606183</td>\n",
       "      <td>-12.794658</td>\n",
       "      <td>60.073882</td>\n",
       "      <td>-6.897691</td>\n",
       "    </tr>\n",
       "    <tr>\n",
       "      <th>975</th>\n",
       "      <td>2002-09-02</td>\n",
       "      <td>-11.490124</td>\n",
       "      <td>-12.763907</td>\n",
       "      <td>60.835452</td>\n",
       "      <td>-6.677909</td>\n",
       "    </tr>\n",
       "    <tr>\n",
       "      <th>976</th>\n",
       "      <td>2002-09-03</td>\n",
       "      <td>-11.985902</td>\n",
       "      <td>-12.161442</td>\n",
       "      <td>60.848448</td>\n",
       "      <td>-6.248310</td>\n",
       "    </tr>\n",
       "    <tr>\n",
       "      <th>977</th>\n",
       "      <td>2002-09-04</td>\n",
       "      <td>-12.581613</td>\n",
       "      <td>-11.248297</td>\n",
       "      <td>60.504354</td>\n",
       "      <td>-6.408271</td>\n",
       "    </tr>\n",
       "    <tr>\n",
       "      <th>978</th>\n",
       "      <td>2002-09-05</td>\n",
       "      <td>-13.733525</td>\n",
       "      <td>-10.625722</td>\n",
       "      <td>58.903688</td>\n",
       "      <td>-5.788621</td>\n",
       "    </tr>\n",
       "    <tr>\n",
       "      <th>979</th>\n",
       "      <td>2002-09-06</td>\n",
       "      <td>-13.257015</td>\n",
       "      <td>-10.091945</td>\n",
       "      <td>58.625660</td>\n",
       "      <td>-4.776391</td>\n",
       "    </tr>\n",
       "    <tr>\n",
       "      <th>980</th>\n",
       "      <td>2002-09-07</td>\n",
       "      <td>-12.855639</td>\n",
       "      <td>-8.795421</td>\n",
       "      <td>59.073399</td>\n",
       "      <td>-4.017372</td>\n",
       "    </tr>\n",
       "    <tr>\n",
       "      <th>981</th>\n",
       "      <td>2002-09-08</td>\n",
       "      <td>-11.482862</td>\n",
       "      <td>-9.402805</td>\n",
       "      <td>58.042510</td>\n",
       "      <td>-3.530595</td>\n",
       "    </tr>\n",
       "    <tr>\n",
       "      <th>982</th>\n",
       "      <td>2002-09-09</td>\n",
       "      <td>-10.850022</td>\n",
       "      <td>-9.553852</td>\n",
       "      <td>57.214538</td>\n",
       "      <td>-4.053349</td>\n",
       "    </tr>\n",
       "    <tr>\n",
       "      <th>983</th>\n",
       "      <td>2002-09-10</td>\n",
       "      <td>-12.208049</td>\n",
       "      <td>-9.259484</td>\n",
       "      <td>58.237309</td>\n",
       "      <td>-3.971102</td>\n",
       "    </tr>\n",
       "    <tr>\n",
       "      <th>984</th>\n",
       "      <td>2002-09-11</td>\n",
       "      <td>-12.401630</td>\n",
       "      <td>-9.367988</td>\n",
       "      <td>58.999006</td>\n",
       "      <td>-3.615675</td>\n",
       "    </tr>\n",
       "    <tr>\n",
       "      <th>985</th>\n",
       "      <td>2002-09-12</td>\n",
       "      <td>-14.382630</td>\n",
       "      <td>-7.615701</td>\n",
       "      <td>61.633138</td>\n",
       "      <td>-2.822245</td>\n",
       "    </tr>\n",
       "    <tr>\n",
       "      <th>986</th>\n",
       "      <td>2002-09-13</td>\n",
       "      <td>-14.385503</td>\n",
       "      <td>-5.825456</td>\n",
       "      <td>62.643005</td>\n",
       "      <td>-2.631831</td>\n",
       "    </tr>\n",
       "    <tr>\n",
       "      <th>987</th>\n",
       "      <td>2002-09-14</td>\n",
       "      <td>-14.670608</td>\n",
       "      <td>-6.534945</td>\n",
       "      <td>63.046983</td>\n",
       "      <td>-2.521697</td>\n",
       "    </tr>\n",
       "    <tr>\n",
       "      <th>988</th>\n",
       "      <td>2002-09-15</td>\n",
       "      <td>-15.424981</td>\n",
       "      <td>-6.552120</td>\n",
       "      <td>64.461886</td>\n",
       "      <td>-3.493400</td>\n",
       "    </tr>\n",
       "    <tr>\n",
       "      <th>989</th>\n",
       "      <td>2002-09-16</td>\n",
       "      <td>-13.875303</td>\n",
       "      <td>-7.511547</td>\n",
       "      <td>64.741750</td>\n",
       "      <td>-4.255253</td>\n",
       "    </tr>\n",
       "    <tr>\n",
       "      <th>990</th>\n",
       "      <td>2002-09-17</td>\n",
       "      <td>-13.574444</td>\n",
       "      <td>-7.407093</td>\n",
       "      <td>64.003745</td>\n",
       "      <td>-3.096605</td>\n",
       "    </tr>\n",
       "    <tr>\n",
       "      <th>991</th>\n",
       "      <td>2002-09-18</td>\n",
       "      <td>-13.843896</td>\n",
       "      <td>-7.287694</td>\n",
       "      <td>64.860323</td>\n",
       "      <td>-3.211695</td>\n",
       "    </tr>\n",
       "    <tr>\n",
       "      <th>992</th>\n",
       "      <td>2002-09-19</td>\n",
       "      <td>-13.444606</td>\n",
       "      <td>-8.069938</td>\n",
       "      <td>66.156664</td>\n",
       "      <td>-3.679680</td>\n",
       "    </tr>\n",
       "    <tr>\n",
       "      <th>993</th>\n",
       "      <td>2002-09-20</td>\n",
       "      <td>-14.319578</td>\n",
       "      <td>-6.771972</td>\n",
       "      <td>64.871045</td>\n",
       "      <td>-4.633304</td>\n",
       "    </tr>\n",
       "    <tr>\n",
       "      <th>994</th>\n",
       "      <td>2002-09-21</td>\n",
       "      <td>-15.126463</td>\n",
       "      <td>-7.993281</td>\n",
       "      <td>65.080881</td>\n",
       "      <td>-3.497950</td>\n",
       "    </tr>\n",
       "    <tr>\n",
       "      <th>995</th>\n",
       "      <td>2002-09-22</td>\n",
       "      <td>-14.717619</td>\n",
       "      <td>-8.359075</td>\n",
       "      <td>65.765170</td>\n",
       "      <td>-5.577461</td>\n",
       "    </tr>\n",
       "    <tr>\n",
       "      <th>996</th>\n",
       "      <td>2002-09-23</td>\n",
       "      <td>-13.763743</td>\n",
       "      <td>-8.046417</td>\n",
       "      <td>66.821624</td>\n",
       "      <td>-5.256422</td>\n",
       "    </tr>\n",
       "    <tr>\n",
       "      <th>997</th>\n",
       "      <td>2002-09-24</td>\n",
       "      <td>-15.111257</td>\n",
       "      <td>-5.814779</td>\n",
       "      <td>66.104899</td>\n",
       "      <td>-6.185853</td>\n",
       "    </tr>\n",
       "    <tr>\n",
       "      <th>998</th>\n",
       "      <td>2002-09-25</td>\n",
       "      <td>-14.890142</td>\n",
       "      <td>-5.402545</td>\n",
       "      <td>65.420458</td>\n",
       "      <td>-5.578971</td>\n",
       "    </tr>\n",
       "    <tr>\n",
       "      <th>999</th>\n",
       "      <td>2002-09-26</td>\n",
       "      <td>-14.917314</td>\n",
       "      <td>-5.732310</td>\n",
       "      <td>63.944766</td>\n",
       "      <td>-6.181776</td>\n",
       "    </tr>\n",
       "  </tbody>\n",
       "</table>\n",
       "<p>1000 rows × 5 columns</p>\n",
       "</div>"
      ],
      "text/plain": [
       "     Unnamed: 0          A          B          C         D\n",
       "0    2000-01-01  -1.170941   0.688051  -0.383810  0.837035\n",
       "1    2000-01-02  -1.325416   0.061442  -1.080497  0.281412\n",
       "2    2000-01-03  -0.687276   0.916830  -2.839985  1.852432\n",
       "3    2000-01-04  -1.288728  -0.242376  -3.791390  1.309750\n",
       "4    2000-01-05  -0.937522  -0.779122  -5.202554  2.219908\n",
       "5    2000-01-06  -2.136242  -0.693236  -6.256821  3.015780\n",
       "6    2000-01-07  -1.412520  -2.517668  -5.712015  3.805923\n",
       "7    2000-01-08  -0.049283  -1.716615  -7.405345  4.770589\n",
       "8    2000-01-09   0.592184  -0.617583  -7.339519  3.694828\n",
       "9    2000-01-10   1.378037   0.110647  -5.297688  3.467191\n",
       "10   2000-01-11   2.474387  -0.083230  -4.153509  3.091714\n",
       "11   2000-01-12   1.621882   0.016834  -7.112481  1.237205\n",
       "12   2000-01-13   1.246822  -1.368471  -5.531885  0.338128\n",
       "13   2000-01-14   1.978975  -0.527194  -5.112244  1.466986\n",
       "14   2000-01-15   1.450342   0.450082  -4.731543  3.673504\n",
       "15   2000-01-16   1.948955   1.059912  -6.297084  4.191426\n",
       "16   2000-01-17   2.035009   2.273572  -6.637326  3.746256\n",
       "17   2000-01-18   1.550255   3.503449  -6.578056  4.099211\n",
       "18   2000-01-19   1.864008   4.212954  -7.183693  2.888867\n",
       "19   2000-01-20  -0.075277   5.007933  -7.093309  4.735946\n",
       "20   2000-01-21  -1.140021   6.814976  -6.716311  5.306338\n",
       "21   2000-01-22   1.162872   6.534765  -6.110653  5.233384\n",
       "22   2000-01-23   1.760717   5.714708  -4.054118  4.785703\n",
       "23   2000-01-24   0.536450   5.849652  -3.765441  3.989357\n",
       "24   2000-01-25   0.506539   6.692062  -4.821839  3.023168\n",
       "25   2000-01-26   0.958889   6.568955  -4.259598  2.421934\n",
       "26   2000-01-27  -0.172696   4.921587  -4.413335  2.314551\n",
       "27   2000-01-28   0.165740   5.134014  -3.341849  1.133864\n",
       "28   2000-01-29   0.093579   4.991880  -4.020020  2.081721\n",
       "29   2000-01-30   0.424503   4.328352  -3.503704  2.303425\n",
       "..          ...        ...        ...        ...       ...\n",
       "970  2002-08-28  -9.441308 -10.407354  60.908649 -3.372065\n",
       "971  2002-08-29 -10.022290 -10.300304  59.022868 -4.729307\n",
       "972  2002-08-30 -10.771862 -10.121161  59.190720 -4.776657\n",
       "973  2002-08-31 -11.397452 -10.721580  59.955429 -4.837409\n",
       "974  2002-09-01 -12.606183 -12.794658  60.073882 -6.897691\n",
       "975  2002-09-02 -11.490124 -12.763907  60.835452 -6.677909\n",
       "976  2002-09-03 -11.985902 -12.161442  60.848448 -6.248310\n",
       "977  2002-09-04 -12.581613 -11.248297  60.504354 -6.408271\n",
       "978  2002-09-05 -13.733525 -10.625722  58.903688 -5.788621\n",
       "979  2002-09-06 -13.257015 -10.091945  58.625660 -4.776391\n",
       "980  2002-09-07 -12.855639  -8.795421  59.073399 -4.017372\n",
       "981  2002-09-08 -11.482862  -9.402805  58.042510 -3.530595\n",
       "982  2002-09-09 -10.850022  -9.553852  57.214538 -4.053349\n",
       "983  2002-09-10 -12.208049  -9.259484  58.237309 -3.971102\n",
       "984  2002-09-11 -12.401630  -9.367988  58.999006 -3.615675\n",
       "985  2002-09-12 -14.382630  -7.615701  61.633138 -2.822245\n",
       "986  2002-09-13 -14.385503  -5.825456  62.643005 -2.631831\n",
       "987  2002-09-14 -14.670608  -6.534945  63.046983 -2.521697\n",
       "988  2002-09-15 -15.424981  -6.552120  64.461886 -3.493400\n",
       "989  2002-09-16 -13.875303  -7.511547  64.741750 -4.255253\n",
       "990  2002-09-17 -13.574444  -7.407093  64.003745 -3.096605\n",
       "991  2002-09-18 -13.843896  -7.287694  64.860323 -3.211695\n",
       "992  2002-09-19 -13.444606  -8.069938  66.156664 -3.679680\n",
       "993  2002-09-20 -14.319578  -6.771972  64.871045 -4.633304\n",
       "994  2002-09-21 -15.126463  -7.993281  65.080881 -3.497950\n",
       "995  2002-09-22 -14.717619  -8.359075  65.765170 -5.577461\n",
       "996  2002-09-23 -13.763743  -8.046417  66.821624 -5.256422\n",
       "997  2002-09-24 -15.111257  -5.814779  66.104899 -6.185853\n",
       "998  2002-09-25 -14.890142  -5.402545  65.420458 -5.578971\n",
       "999  2002-09-26 -14.917314  -5.732310  63.944766 -6.181776\n",
       "\n",
       "[1000 rows x 5 columns]"
      ]
     },
     "execution_count": 148,
     "metadata": {},
     "output_type": "execute_result"
    }
   ],
   "source": [
    "pd.read_csv('foo.csv')"
   ]
  },
  {
   "cell_type": "markdown",
   "metadata": {
    "colab_type": "text",
    "id": "P9knaZtu24Nj"
   },
   "source": [
    "### HDF5"
   ]
  },
  {
   "cell_type": "markdown",
   "metadata": {
    "colab_type": "text",
    "id": "tHW2rtWWkHNd"
   },
   "source": [
    "[HDFStores](https://pandas.pydata.org/pandas-docs/stable/io.html#io-hdf5)에 읽고 씁니다."
   ]
  },
  {
   "cell_type": "markdown",
   "metadata": {
    "colab_type": "text",
    "id": "Mzz9k4TQkHNe"
   },
   "source": [
    "HDF5 Store에 씁니다."
   ]
  },
  {
   "cell_type": "code",
   "execution_count": 149,
   "metadata": {
    "colab": {
     "autoexec": {
      "startup": false,
      "wait_interval": 0
     }
    },
    "colab_type": "code",
    "collapsed": true,
    "id": "R0VSHXW30H9a"
   },
   "outputs": [],
   "source": [
    "df.to_hdf('foo.h5','df')"
   ]
  },
  {
   "cell_type": "markdown",
   "metadata": {
    "colab_type": "text",
    "id": "tw3vxS450MpB"
   },
   "source": [
    "HDF5 Store에서 읽어옵니다."
   ]
  },
  {
   "cell_type": "code",
   "execution_count": 150,
   "metadata": {
    "colab": {
     "autoexec": {
      "startup": false,
      "wait_interval": 0
     },
     "base_uri": "https://localhost:8080/",
     "height": 278
    },
    "colab_type": "code",
    "executionInfo": {
     "elapsed": 1073,
     "status": "error",
     "timestamp": 1531794695469,
     "user": {
      "displayName": "최지영",
      "photoUrl": "https://lh3.googleusercontent.com/a/default-user=s128",
      "userId": "106128527749636650173"
     },
     "user_tz": -540
    },
    "id": "QXqtNXK8zx0f",
    "outputId": "b2651a35-a12b-44b8-93cd-ecd14ae968cf"
   },
   "outputs": [
    {
     "data": {
      "text/html": [
       "<div>\n",
       "<style>\n",
       "    .dataframe thead tr:only-child th {\n",
       "        text-align: right;\n",
       "    }\n",
       "\n",
       "    .dataframe thead th {\n",
       "        text-align: left;\n",
       "    }\n",
       "\n",
       "    .dataframe tbody tr th {\n",
       "        vertical-align: top;\n",
       "    }\n",
       "</style>\n",
       "<table border=\"1\" class=\"dataframe\">\n",
       "  <thead>\n",
       "    <tr style=\"text-align: right;\">\n",
       "      <th></th>\n",
       "      <th>A</th>\n",
       "      <th>B</th>\n",
       "      <th>C</th>\n",
       "      <th>D</th>\n",
       "    </tr>\n",
       "  </thead>\n",
       "  <tbody>\n",
       "    <tr>\n",
       "      <th>2000-01-01</th>\n",
       "      <td>-1.170941</td>\n",
       "      <td>0.688051</td>\n",
       "      <td>-0.383810</td>\n",
       "      <td>0.837035</td>\n",
       "    </tr>\n",
       "    <tr>\n",
       "      <th>2000-01-02</th>\n",
       "      <td>-1.325416</td>\n",
       "      <td>0.061442</td>\n",
       "      <td>-1.080497</td>\n",
       "      <td>0.281412</td>\n",
       "    </tr>\n",
       "    <tr>\n",
       "      <th>2000-01-03</th>\n",
       "      <td>-0.687276</td>\n",
       "      <td>0.916830</td>\n",
       "      <td>-2.839985</td>\n",
       "      <td>1.852432</td>\n",
       "    </tr>\n",
       "    <tr>\n",
       "      <th>2000-01-04</th>\n",
       "      <td>-1.288728</td>\n",
       "      <td>-0.242376</td>\n",
       "      <td>-3.791390</td>\n",
       "      <td>1.309750</td>\n",
       "    </tr>\n",
       "    <tr>\n",
       "      <th>2000-01-05</th>\n",
       "      <td>-0.937522</td>\n",
       "      <td>-0.779122</td>\n",
       "      <td>-5.202554</td>\n",
       "      <td>2.219908</td>\n",
       "    </tr>\n",
       "    <tr>\n",
       "      <th>2000-01-06</th>\n",
       "      <td>-2.136242</td>\n",
       "      <td>-0.693236</td>\n",
       "      <td>-6.256821</td>\n",
       "      <td>3.015780</td>\n",
       "    </tr>\n",
       "    <tr>\n",
       "      <th>2000-01-07</th>\n",
       "      <td>-1.412520</td>\n",
       "      <td>-2.517668</td>\n",
       "      <td>-5.712015</td>\n",
       "      <td>3.805923</td>\n",
       "    </tr>\n",
       "    <tr>\n",
       "      <th>2000-01-08</th>\n",
       "      <td>-0.049283</td>\n",
       "      <td>-1.716615</td>\n",
       "      <td>-7.405345</td>\n",
       "      <td>4.770589</td>\n",
       "    </tr>\n",
       "    <tr>\n",
       "      <th>2000-01-09</th>\n",
       "      <td>0.592184</td>\n",
       "      <td>-0.617583</td>\n",
       "      <td>-7.339519</td>\n",
       "      <td>3.694828</td>\n",
       "    </tr>\n",
       "    <tr>\n",
       "      <th>2000-01-10</th>\n",
       "      <td>1.378037</td>\n",
       "      <td>0.110647</td>\n",
       "      <td>-5.297688</td>\n",
       "      <td>3.467191</td>\n",
       "    </tr>\n",
       "    <tr>\n",
       "      <th>2000-01-11</th>\n",
       "      <td>2.474387</td>\n",
       "      <td>-0.083230</td>\n",
       "      <td>-4.153509</td>\n",
       "      <td>3.091714</td>\n",
       "    </tr>\n",
       "    <tr>\n",
       "      <th>2000-01-12</th>\n",
       "      <td>1.621882</td>\n",
       "      <td>0.016834</td>\n",
       "      <td>-7.112481</td>\n",
       "      <td>1.237205</td>\n",
       "    </tr>\n",
       "    <tr>\n",
       "      <th>2000-01-13</th>\n",
       "      <td>1.246822</td>\n",
       "      <td>-1.368471</td>\n",
       "      <td>-5.531885</td>\n",
       "      <td>0.338128</td>\n",
       "    </tr>\n",
       "    <tr>\n",
       "      <th>2000-01-14</th>\n",
       "      <td>1.978975</td>\n",
       "      <td>-0.527194</td>\n",
       "      <td>-5.112244</td>\n",
       "      <td>1.466986</td>\n",
       "    </tr>\n",
       "    <tr>\n",
       "      <th>2000-01-15</th>\n",
       "      <td>1.450342</td>\n",
       "      <td>0.450082</td>\n",
       "      <td>-4.731543</td>\n",
       "      <td>3.673504</td>\n",
       "    </tr>\n",
       "    <tr>\n",
       "      <th>2000-01-16</th>\n",
       "      <td>1.948955</td>\n",
       "      <td>1.059912</td>\n",
       "      <td>-6.297084</td>\n",
       "      <td>4.191426</td>\n",
       "    </tr>\n",
       "    <tr>\n",
       "      <th>2000-01-17</th>\n",
       "      <td>2.035009</td>\n",
       "      <td>2.273572</td>\n",
       "      <td>-6.637326</td>\n",
       "      <td>3.746256</td>\n",
       "    </tr>\n",
       "    <tr>\n",
       "      <th>2000-01-18</th>\n",
       "      <td>1.550255</td>\n",
       "      <td>3.503449</td>\n",
       "      <td>-6.578056</td>\n",
       "      <td>4.099211</td>\n",
       "    </tr>\n",
       "    <tr>\n",
       "      <th>2000-01-19</th>\n",
       "      <td>1.864008</td>\n",
       "      <td>4.212954</td>\n",
       "      <td>-7.183693</td>\n",
       "      <td>2.888867</td>\n",
       "    </tr>\n",
       "    <tr>\n",
       "      <th>2000-01-20</th>\n",
       "      <td>-0.075277</td>\n",
       "      <td>5.007933</td>\n",
       "      <td>-7.093309</td>\n",
       "      <td>4.735946</td>\n",
       "    </tr>\n",
       "    <tr>\n",
       "      <th>2000-01-21</th>\n",
       "      <td>-1.140021</td>\n",
       "      <td>6.814976</td>\n",
       "      <td>-6.716311</td>\n",
       "      <td>5.306338</td>\n",
       "    </tr>\n",
       "    <tr>\n",
       "      <th>2000-01-22</th>\n",
       "      <td>1.162872</td>\n",
       "      <td>6.534765</td>\n",
       "      <td>-6.110653</td>\n",
       "      <td>5.233384</td>\n",
       "    </tr>\n",
       "    <tr>\n",
       "      <th>2000-01-23</th>\n",
       "      <td>1.760717</td>\n",
       "      <td>5.714708</td>\n",
       "      <td>-4.054118</td>\n",
       "      <td>4.785703</td>\n",
       "    </tr>\n",
       "    <tr>\n",
       "      <th>2000-01-24</th>\n",
       "      <td>0.536450</td>\n",
       "      <td>5.849652</td>\n",
       "      <td>-3.765441</td>\n",
       "      <td>3.989357</td>\n",
       "    </tr>\n",
       "    <tr>\n",
       "      <th>2000-01-25</th>\n",
       "      <td>0.506539</td>\n",
       "      <td>6.692062</td>\n",
       "      <td>-4.821839</td>\n",
       "      <td>3.023168</td>\n",
       "    </tr>\n",
       "    <tr>\n",
       "      <th>2000-01-26</th>\n",
       "      <td>0.958889</td>\n",
       "      <td>6.568955</td>\n",
       "      <td>-4.259598</td>\n",
       "      <td>2.421934</td>\n",
       "    </tr>\n",
       "    <tr>\n",
       "      <th>2000-01-27</th>\n",
       "      <td>-0.172696</td>\n",
       "      <td>4.921587</td>\n",
       "      <td>-4.413335</td>\n",
       "      <td>2.314551</td>\n",
       "    </tr>\n",
       "    <tr>\n",
       "      <th>2000-01-28</th>\n",
       "      <td>0.165740</td>\n",
       "      <td>5.134014</td>\n",
       "      <td>-3.341849</td>\n",
       "      <td>1.133864</td>\n",
       "    </tr>\n",
       "    <tr>\n",
       "      <th>2000-01-29</th>\n",
       "      <td>0.093579</td>\n",
       "      <td>4.991880</td>\n",
       "      <td>-4.020020</td>\n",
       "      <td>2.081721</td>\n",
       "    </tr>\n",
       "    <tr>\n",
       "      <th>2000-01-30</th>\n",
       "      <td>0.424503</td>\n",
       "      <td>4.328352</td>\n",
       "      <td>-3.503704</td>\n",
       "      <td>2.303425</td>\n",
       "    </tr>\n",
       "    <tr>\n",
       "      <th>...</th>\n",
       "      <td>...</td>\n",
       "      <td>...</td>\n",
       "      <td>...</td>\n",
       "      <td>...</td>\n",
       "    </tr>\n",
       "    <tr>\n",
       "      <th>2002-08-28</th>\n",
       "      <td>-9.441308</td>\n",
       "      <td>-10.407354</td>\n",
       "      <td>60.908649</td>\n",
       "      <td>-3.372065</td>\n",
       "    </tr>\n",
       "    <tr>\n",
       "      <th>2002-08-29</th>\n",
       "      <td>-10.022290</td>\n",
       "      <td>-10.300304</td>\n",
       "      <td>59.022868</td>\n",
       "      <td>-4.729307</td>\n",
       "    </tr>\n",
       "    <tr>\n",
       "      <th>2002-08-30</th>\n",
       "      <td>-10.771862</td>\n",
       "      <td>-10.121161</td>\n",
       "      <td>59.190720</td>\n",
       "      <td>-4.776657</td>\n",
       "    </tr>\n",
       "    <tr>\n",
       "      <th>2002-08-31</th>\n",
       "      <td>-11.397452</td>\n",
       "      <td>-10.721580</td>\n",
       "      <td>59.955429</td>\n",
       "      <td>-4.837409</td>\n",
       "    </tr>\n",
       "    <tr>\n",
       "      <th>2002-09-01</th>\n",
       "      <td>-12.606183</td>\n",
       "      <td>-12.794658</td>\n",
       "      <td>60.073882</td>\n",
       "      <td>-6.897691</td>\n",
       "    </tr>\n",
       "    <tr>\n",
       "      <th>2002-09-02</th>\n",
       "      <td>-11.490124</td>\n",
       "      <td>-12.763907</td>\n",
       "      <td>60.835452</td>\n",
       "      <td>-6.677909</td>\n",
       "    </tr>\n",
       "    <tr>\n",
       "      <th>2002-09-03</th>\n",
       "      <td>-11.985902</td>\n",
       "      <td>-12.161442</td>\n",
       "      <td>60.848448</td>\n",
       "      <td>-6.248310</td>\n",
       "    </tr>\n",
       "    <tr>\n",
       "      <th>2002-09-04</th>\n",
       "      <td>-12.581613</td>\n",
       "      <td>-11.248297</td>\n",
       "      <td>60.504354</td>\n",
       "      <td>-6.408271</td>\n",
       "    </tr>\n",
       "    <tr>\n",
       "      <th>2002-09-05</th>\n",
       "      <td>-13.733525</td>\n",
       "      <td>-10.625722</td>\n",
       "      <td>58.903688</td>\n",
       "      <td>-5.788621</td>\n",
       "    </tr>\n",
       "    <tr>\n",
       "      <th>2002-09-06</th>\n",
       "      <td>-13.257015</td>\n",
       "      <td>-10.091945</td>\n",
       "      <td>58.625660</td>\n",
       "      <td>-4.776391</td>\n",
       "    </tr>\n",
       "    <tr>\n",
       "      <th>2002-09-07</th>\n",
       "      <td>-12.855639</td>\n",
       "      <td>-8.795421</td>\n",
       "      <td>59.073399</td>\n",
       "      <td>-4.017372</td>\n",
       "    </tr>\n",
       "    <tr>\n",
       "      <th>2002-09-08</th>\n",
       "      <td>-11.482862</td>\n",
       "      <td>-9.402805</td>\n",
       "      <td>58.042510</td>\n",
       "      <td>-3.530595</td>\n",
       "    </tr>\n",
       "    <tr>\n",
       "      <th>2002-09-09</th>\n",
       "      <td>-10.850022</td>\n",
       "      <td>-9.553852</td>\n",
       "      <td>57.214538</td>\n",
       "      <td>-4.053349</td>\n",
       "    </tr>\n",
       "    <tr>\n",
       "      <th>2002-09-10</th>\n",
       "      <td>-12.208049</td>\n",
       "      <td>-9.259484</td>\n",
       "      <td>58.237309</td>\n",
       "      <td>-3.971102</td>\n",
       "    </tr>\n",
       "    <tr>\n",
       "      <th>2002-09-11</th>\n",
       "      <td>-12.401630</td>\n",
       "      <td>-9.367988</td>\n",
       "      <td>58.999006</td>\n",
       "      <td>-3.615675</td>\n",
       "    </tr>\n",
       "    <tr>\n",
       "      <th>2002-09-12</th>\n",
       "      <td>-14.382630</td>\n",
       "      <td>-7.615701</td>\n",
       "      <td>61.633138</td>\n",
       "      <td>-2.822245</td>\n",
       "    </tr>\n",
       "    <tr>\n",
       "      <th>2002-09-13</th>\n",
       "      <td>-14.385503</td>\n",
       "      <td>-5.825456</td>\n",
       "      <td>62.643005</td>\n",
       "      <td>-2.631831</td>\n",
       "    </tr>\n",
       "    <tr>\n",
       "      <th>2002-09-14</th>\n",
       "      <td>-14.670608</td>\n",
       "      <td>-6.534945</td>\n",
       "      <td>63.046983</td>\n",
       "      <td>-2.521697</td>\n",
       "    </tr>\n",
       "    <tr>\n",
       "      <th>2002-09-15</th>\n",
       "      <td>-15.424981</td>\n",
       "      <td>-6.552120</td>\n",
       "      <td>64.461886</td>\n",
       "      <td>-3.493400</td>\n",
       "    </tr>\n",
       "    <tr>\n",
       "      <th>2002-09-16</th>\n",
       "      <td>-13.875303</td>\n",
       "      <td>-7.511547</td>\n",
       "      <td>64.741750</td>\n",
       "      <td>-4.255253</td>\n",
       "    </tr>\n",
       "    <tr>\n",
       "      <th>2002-09-17</th>\n",
       "      <td>-13.574444</td>\n",
       "      <td>-7.407093</td>\n",
       "      <td>64.003745</td>\n",
       "      <td>-3.096605</td>\n",
       "    </tr>\n",
       "    <tr>\n",
       "      <th>2002-09-18</th>\n",
       "      <td>-13.843896</td>\n",
       "      <td>-7.287694</td>\n",
       "      <td>64.860323</td>\n",
       "      <td>-3.211695</td>\n",
       "    </tr>\n",
       "    <tr>\n",
       "      <th>2002-09-19</th>\n",
       "      <td>-13.444606</td>\n",
       "      <td>-8.069938</td>\n",
       "      <td>66.156664</td>\n",
       "      <td>-3.679680</td>\n",
       "    </tr>\n",
       "    <tr>\n",
       "      <th>2002-09-20</th>\n",
       "      <td>-14.319578</td>\n",
       "      <td>-6.771972</td>\n",
       "      <td>64.871045</td>\n",
       "      <td>-4.633304</td>\n",
       "    </tr>\n",
       "    <tr>\n",
       "      <th>2002-09-21</th>\n",
       "      <td>-15.126463</td>\n",
       "      <td>-7.993281</td>\n",
       "      <td>65.080881</td>\n",
       "      <td>-3.497950</td>\n",
       "    </tr>\n",
       "    <tr>\n",
       "      <th>2002-09-22</th>\n",
       "      <td>-14.717619</td>\n",
       "      <td>-8.359075</td>\n",
       "      <td>65.765170</td>\n",
       "      <td>-5.577461</td>\n",
       "    </tr>\n",
       "    <tr>\n",
       "      <th>2002-09-23</th>\n",
       "      <td>-13.763743</td>\n",
       "      <td>-8.046417</td>\n",
       "      <td>66.821624</td>\n",
       "      <td>-5.256422</td>\n",
       "    </tr>\n",
       "    <tr>\n",
       "      <th>2002-09-24</th>\n",
       "      <td>-15.111257</td>\n",
       "      <td>-5.814779</td>\n",
       "      <td>66.104899</td>\n",
       "      <td>-6.185853</td>\n",
       "    </tr>\n",
       "    <tr>\n",
       "      <th>2002-09-25</th>\n",
       "      <td>-14.890142</td>\n",
       "      <td>-5.402545</td>\n",
       "      <td>65.420458</td>\n",
       "      <td>-5.578971</td>\n",
       "    </tr>\n",
       "    <tr>\n",
       "      <th>2002-09-26</th>\n",
       "      <td>-14.917314</td>\n",
       "      <td>-5.732310</td>\n",
       "      <td>63.944766</td>\n",
       "      <td>-6.181776</td>\n",
       "    </tr>\n",
       "  </tbody>\n",
       "</table>\n",
       "<p>1000 rows × 4 columns</p>\n",
       "</div>"
      ],
      "text/plain": [
       "                    A          B          C         D\n",
       "2000-01-01  -1.170941   0.688051  -0.383810  0.837035\n",
       "2000-01-02  -1.325416   0.061442  -1.080497  0.281412\n",
       "2000-01-03  -0.687276   0.916830  -2.839985  1.852432\n",
       "2000-01-04  -1.288728  -0.242376  -3.791390  1.309750\n",
       "2000-01-05  -0.937522  -0.779122  -5.202554  2.219908\n",
       "2000-01-06  -2.136242  -0.693236  -6.256821  3.015780\n",
       "2000-01-07  -1.412520  -2.517668  -5.712015  3.805923\n",
       "2000-01-08  -0.049283  -1.716615  -7.405345  4.770589\n",
       "2000-01-09   0.592184  -0.617583  -7.339519  3.694828\n",
       "2000-01-10   1.378037   0.110647  -5.297688  3.467191\n",
       "2000-01-11   2.474387  -0.083230  -4.153509  3.091714\n",
       "2000-01-12   1.621882   0.016834  -7.112481  1.237205\n",
       "2000-01-13   1.246822  -1.368471  -5.531885  0.338128\n",
       "2000-01-14   1.978975  -0.527194  -5.112244  1.466986\n",
       "2000-01-15   1.450342   0.450082  -4.731543  3.673504\n",
       "2000-01-16   1.948955   1.059912  -6.297084  4.191426\n",
       "2000-01-17   2.035009   2.273572  -6.637326  3.746256\n",
       "2000-01-18   1.550255   3.503449  -6.578056  4.099211\n",
       "2000-01-19   1.864008   4.212954  -7.183693  2.888867\n",
       "2000-01-20  -0.075277   5.007933  -7.093309  4.735946\n",
       "2000-01-21  -1.140021   6.814976  -6.716311  5.306338\n",
       "2000-01-22   1.162872   6.534765  -6.110653  5.233384\n",
       "2000-01-23   1.760717   5.714708  -4.054118  4.785703\n",
       "2000-01-24   0.536450   5.849652  -3.765441  3.989357\n",
       "2000-01-25   0.506539   6.692062  -4.821839  3.023168\n",
       "2000-01-26   0.958889   6.568955  -4.259598  2.421934\n",
       "2000-01-27  -0.172696   4.921587  -4.413335  2.314551\n",
       "2000-01-28   0.165740   5.134014  -3.341849  1.133864\n",
       "2000-01-29   0.093579   4.991880  -4.020020  2.081721\n",
       "2000-01-30   0.424503   4.328352  -3.503704  2.303425\n",
       "...               ...        ...        ...       ...\n",
       "2002-08-28  -9.441308 -10.407354  60.908649 -3.372065\n",
       "2002-08-29 -10.022290 -10.300304  59.022868 -4.729307\n",
       "2002-08-30 -10.771862 -10.121161  59.190720 -4.776657\n",
       "2002-08-31 -11.397452 -10.721580  59.955429 -4.837409\n",
       "2002-09-01 -12.606183 -12.794658  60.073882 -6.897691\n",
       "2002-09-02 -11.490124 -12.763907  60.835452 -6.677909\n",
       "2002-09-03 -11.985902 -12.161442  60.848448 -6.248310\n",
       "2002-09-04 -12.581613 -11.248297  60.504354 -6.408271\n",
       "2002-09-05 -13.733525 -10.625722  58.903688 -5.788621\n",
       "2002-09-06 -13.257015 -10.091945  58.625660 -4.776391\n",
       "2002-09-07 -12.855639  -8.795421  59.073399 -4.017372\n",
       "2002-09-08 -11.482862  -9.402805  58.042510 -3.530595\n",
       "2002-09-09 -10.850022  -9.553852  57.214538 -4.053349\n",
       "2002-09-10 -12.208049  -9.259484  58.237309 -3.971102\n",
       "2002-09-11 -12.401630  -9.367988  58.999006 -3.615675\n",
       "2002-09-12 -14.382630  -7.615701  61.633138 -2.822245\n",
       "2002-09-13 -14.385503  -5.825456  62.643005 -2.631831\n",
       "2002-09-14 -14.670608  -6.534945  63.046983 -2.521697\n",
       "2002-09-15 -15.424981  -6.552120  64.461886 -3.493400\n",
       "2002-09-16 -13.875303  -7.511547  64.741750 -4.255253\n",
       "2002-09-17 -13.574444  -7.407093  64.003745 -3.096605\n",
       "2002-09-18 -13.843896  -7.287694  64.860323 -3.211695\n",
       "2002-09-19 -13.444606  -8.069938  66.156664 -3.679680\n",
       "2002-09-20 -14.319578  -6.771972  64.871045 -4.633304\n",
       "2002-09-21 -15.126463  -7.993281  65.080881 -3.497950\n",
       "2002-09-22 -14.717619  -8.359075  65.765170 -5.577461\n",
       "2002-09-23 -13.763743  -8.046417  66.821624 -5.256422\n",
       "2002-09-24 -15.111257  -5.814779  66.104899 -6.185853\n",
       "2002-09-25 -14.890142  -5.402545  65.420458 -5.578971\n",
       "2002-09-26 -14.917314  -5.732310  63.944766 -6.181776\n",
       "\n",
       "[1000 rows x 4 columns]"
      ]
     },
     "execution_count": 150,
     "metadata": {},
     "output_type": "execute_result"
    }
   ],
   "source": [
    "pd.read_hdf('foo.h5','df')"
   ]
  },
  {
   "cell_type": "markdown",
   "metadata": {
    "colab_type": "text",
    "id": "PPEdwZcg3AHk"
   },
   "source": [
    "### Excel\n",
    "[MS Excel](https://pandas.pydata.org/pandas-docs/stable/io.html#io-excel)에 읽고 씁니다. \n",
    "\n",
    "엑셀 파일에 씁니다. \n"
   ]
  },
  {
   "cell_type": "code",
   "execution_count": 151,
   "metadata": {
    "colab": {
     "autoexec": {
      "startup": false,
      "wait_interval": 0
     }
    },
    "colab_type": "code",
    "collapsed": true,
    "id": "TcFx1mGk3tdT"
   },
   "outputs": [],
   "source": [
    "df.to_excel('foo.xlsx', sheet_name='Sheet1')"
   ]
  },
  {
   "cell_type": "markdown",
   "metadata": {
    "colab_type": "text",
    "id": "Eqr2I0bk3yDg"
   },
   "source": [
    "엑셀 파일을 읽어옵니다."
   ]
  },
  {
   "cell_type": "code",
   "execution_count": 152,
   "metadata": {
    "colab": {
     "autoexec": {
      "startup": false,
      "wait_interval": 0
     },
     "base_uri": "https://localhost:8080/",
     "height": 1949
    },
    "colab_type": "code",
    "executionInfo": {
     "elapsed": 848,
     "status": "ok",
     "timestamp": 1531794912508,
     "user": {
      "displayName": "정다현",
      "photoUrl": "https://lh3.googleusercontent.com/a/default-user=s128",
      "userId": "108793786663813438778"
     },
     "user_tz": -540
    },
    "id": "znXQzTWX31-1",
    "outputId": "cc3eee2d-545a-4725-b41e-69fdd4832bf3"
   },
   "outputs": [
    {
     "data": {
      "text/html": [
       "<div>\n",
       "<style>\n",
       "    .dataframe thead tr:only-child th {\n",
       "        text-align: right;\n",
       "    }\n",
       "\n",
       "    .dataframe thead th {\n",
       "        text-align: left;\n",
       "    }\n",
       "\n",
       "    .dataframe tbody tr th {\n",
       "        vertical-align: top;\n",
       "    }\n",
       "</style>\n",
       "<table border=\"1\" class=\"dataframe\">\n",
       "  <thead>\n",
       "    <tr style=\"text-align: right;\">\n",
       "      <th></th>\n",
       "      <th>A</th>\n",
       "      <th>B</th>\n",
       "      <th>C</th>\n",
       "      <th>D</th>\n",
       "    </tr>\n",
       "  </thead>\n",
       "  <tbody>\n",
       "    <tr>\n",
       "      <th>2000-01-01</th>\n",
       "      <td>-1.170941</td>\n",
       "      <td>0.688051</td>\n",
       "      <td>-0.383810</td>\n",
       "      <td>0.837035</td>\n",
       "    </tr>\n",
       "    <tr>\n",
       "      <th>2000-01-02</th>\n",
       "      <td>-1.325416</td>\n",
       "      <td>0.061442</td>\n",
       "      <td>-1.080497</td>\n",
       "      <td>0.281412</td>\n",
       "    </tr>\n",
       "    <tr>\n",
       "      <th>2000-01-03</th>\n",
       "      <td>-0.687276</td>\n",
       "      <td>0.916830</td>\n",
       "      <td>-2.839985</td>\n",
       "      <td>1.852432</td>\n",
       "    </tr>\n",
       "    <tr>\n",
       "      <th>2000-01-04</th>\n",
       "      <td>-1.288728</td>\n",
       "      <td>-0.242376</td>\n",
       "      <td>-3.791390</td>\n",
       "      <td>1.309750</td>\n",
       "    </tr>\n",
       "    <tr>\n",
       "      <th>2000-01-05</th>\n",
       "      <td>-0.937522</td>\n",
       "      <td>-0.779122</td>\n",
       "      <td>-5.202554</td>\n",
       "      <td>2.219908</td>\n",
       "    </tr>\n",
       "    <tr>\n",
       "      <th>2000-01-06</th>\n",
       "      <td>-2.136242</td>\n",
       "      <td>-0.693236</td>\n",
       "      <td>-6.256821</td>\n",
       "      <td>3.015780</td>\n",
       "    </tr>\n",
       "    <tr>\n",
       "      <th>2000-01-07</th>\n",
       "      <td>-1.412520</td>\n",
       "      <td>-2.517668</td>\n",
       "      <td>-5.712015</td>\n",
       "      <td>3.805923</td>\n",
       "    </tr>\n",
       "    <tr>\n",
       "      <th>2000-01-08</th>\n",
       "      <td>-0.049283</td>\n",
       "      <td>-1.716615</td>\n",
       "      <td>-7.405345</td>\n",
       "      <td>4.770589</td>\n",
       "    </tr>\n",
       "    <tr>\n",
       "      <th>2000-01-09</th>\n",
       "      <td>0.592184</td>\n",
       "      <td>-0.617583</td>\n",
       "      <td>-7.339519</td>\n",
       "      <td>3.694828</td>\n",
       "    </tr>\n",
       "    <tr>\n",
       "      <th>2000-01-10</th>\n",
       "      <td>1.378037</td>\n",
       "      <td>0.110647</td>\n",
       "      <td>-5.297688</td>\n",
       "      <td>3.467191</td>\n",
       "    </tr>\n",
       "    <tr>\n",
       "      <th>2000-01-11</th>\n",
       "      <td>2.474387</td>\n",
       "      <td>-0.083230</td>\n",
       "      <td>-4.153509</td>\n",
       "      <td>3.091714</td>\n",
       "    </tr>\n",
       "    <tr>\n",
       "      <th>2000-01-12</th>\n",
       "      <td>1.621882</td>\n",
       "      <td>0.016834</td>\n",
       "      <td>-7.112481</td>\n",
       "      <td>1.237205</td>\n",
       "    </tr>\n",
       "    <tr>\n",
       "      <th>2000-01-13</th>\n",
       "      <td>1.246822</td>\n",
       "      <td>-1.368471</td>\n",
       "      <td>-5.531885</td>\n",
       "      <td>0.338128</td>\n",
       "    </tr>\n",
       "    <tr>\n",
       "      <th>2000-01-14</th>\n",
       "      <td>1.978975</td>\n",
       "      <td>-0.527194</td>\n",
       "      <td>-5.112244</td>\n",
       "      <td>1.466986</td>\n",
       "    </tr>\n",
       "    <tr>\n",
       "      <th>2000-01-15</th>\n",
       "      <td>1.450342</td>\n",
       "      <td>0.450082</td>\n",
       "      <td>-4.731543</td>\n",
       "      <td>3.673504</td>\n",
       "    </tr>\n",
       "    <tr>\n",
       "      <th>2000-01-16</th>\n",
       "      <td>1.948955</td>\n",
       "      <td>1.059912</td>\n",
       "      <td>-6.297084</td>\n",
       "      <td>4.191426</td>\n",
       "    </tr>\n",
       "    <tr>\n",
       "      <th>2000-01-17</th>\n",
       "      <td>2.035009</td>\n",
       "      <td>2.273572</td>\n",
       "      <td>-6.637326</td>\n",
       "      <td>3.746256</td>\n",
       "    </tr>\n",
       "    <tr>\n",
       "      <th>2000-01-18</th>\n",
       "      <td>1.550255</td>\n",
       "      <td>3.503449</td>\n",
       "      <td>-6.578056</td>\n",
       "      <td>4.099211</td>\n",
       "    </tr>\n",
       "    <tr>\n",
       "      <th>2000-01-19</th>\n",
       "      <td>1.864008</td>\n",
       "      <td>4.212954</td>\n",
       "      <td>-7.183693</td>\n",
       "      <td>2.888867</td>\n",
       "    </tr>\n",
       "    <tr>\n",
       "      <th>2000-01-20</th>\n",
       "      <td>-0.075277</td>\n",
       "      <td>5.007933</td>\n",
       "      <td>-7.093309</td>\n",
       "      <td>4.735946</td>\n",
       "    </tr>\n",
       "    <tr>\n",
       "      <th>2000-01-21</th>\n",
       "      <td>-1.140021</td>\n",
       "      <td>6.814976</td>\n",
       "      <td>-6.716311</td>\n",
       "      <td>5.306338</td>\n",
       "    </tr>\n",
       "    <tr>\n",
       "      <th>2000-01-22</th>\n",
       "      <td>1.162872</td>\n",
       "      <td>6.534765</td>\n",
       "      <td>-6.110653</td>\n",
       "      <td>5.233384</td>\n",
       "    </tr>\n",
       "    <tr>\n",
       "      <th>2000-01-23</th>\n",
       "      <td>1.760717</td>\n",
       "      <td>5.714708</td>\n",
       "      <td>-4.054118</td>\n",
       "      <td>4.785703</td>\n",
       "    </tr>\n",
       "    <tr>\n",
       "      <th>2000-01-24</th>\n",
       "      <td>0.536450</td>\n",
       "      <td>5.849652</td>\n",
       "      <td>-3.765441</td>\n",
       "      <td>3.989357</td>\n",
       "    </tr>\n",
       "    <tr>\n",
       "      <th>2000-01-25</th>\n",
       "      <td>0.506539</td>\n",
       "      <td>6.692062</td>\n",
       "      <td>-4.821839</td>\n",
       "      <td>3.023168</td>\n",
       "    </tr>\n",
       "    <tr>\n",
       "      <th>2000-01-26</th>\n",
       "      <td>0.958889</td>\n",
       "      <td>6.568955</td>\n",
       "      <td>-4.259598</td>\n",
       "      <td>2.421934</td>\n",
       "    </tr>\n",
       "    <tr>\n",
       "      <th>2000-01-27</th>\n",
       "      <td>-0.172696</td>\n",
       "      <td>4.921587</td>\n",
       "      <td>-4.413335</td>\n",
       "      <td>2.314551</td>\n",
       "    </tr>\n",
       "    <tr>\n",
       "      <th>2000-01-28</th>\n",
       "      <td>0.165740</td>\n",
       "      <td>5.134014</td>\n",
       "      <td>-3.341849</td>\n",
       "      <td>1.133864</td>\n",
       "    </tr>\n",
       "    <tr>\n",
       "      <th>2000-01-29</th>\n",
       "      <td>0.093579</td>\n",
       "      <td>4.991880</td>\n",
       "      <td>-4.020020</td>\n",
       "      <td>2.081721</td>\n",
       "    </tr>\n",
       "    <tr>\n",
       "      <th>2000-01-30</th>\n",
       "      <td>0.424503</td>\n",
       "      <td>4.328352</td>\n",
       "      <td>-3.503704</td>\n",
       "      <td>2.303425</td>\n",
       "    </tr>\n",
       "    <tr>\n",
       "      <th>...</th>\n",
       "      <td>...</td>\n",
       "      <td>...</td>\n",
       "      <td>...</td>\n",
       "      <td>...</td>\n",
       "    </tr>\n",
       "    <tr>\n",
       "      <th>2002-08-28</th>\n",
       "      <td>-9.441308</td>\n",
       "      <td>-10.407354</td>\n",
       "      <td>60.908649</td>\n",
       "      <td>-3.372065</td>\n",
       "    </tr>\n",
       "    <tr>\n",
       "      <th>2002-08-29</th>\n",
       "      <td>-10.022290</td>\n",
       "      <td>-10.300304</td>\n",
       "      <td>59.022868</td>\n",
       "      <td>-4.729307</td>\n",
       "    </tr>\n",
       "    <tr>\n",
       "      <th>2002-08-30</th>\n",
       "      <td>-10.771862</td>\n",
       "      <td>-10.121161</td>\n",
       "      <td>59.190720</td>\n",
       "      <td>-4.776657</td>\n",
       "    </tr>\n",
       "    <tr>\n",
       "      <th>2002-08-31</th>\n",
       "      <td>-11.397452</td>\n",
       "      <td>-10.721580</td>\n",
       "      <td>59.955429</td>\n",
       "      <td>-4.837409</td>\n",
       "    </tr>\n",
       "    <tr>\n",
       "      <th>2002-09-01</th>\n",
       "      <td>-12.606183</td>\n",
       "      <td>-12.794658</td>\n",
       "      <td>60.073882</td>\n",
       "      <td>-6.897691</td>\n",
       "    </tr>\n",
       "    <tr>\n",
       "      <th>2002-09-02</th>\n",
       "      <td>-11.490124</td>\n",
       "      <td>-12.763907</td>\n",
       "      <td>60.835452</td>\n",
       "      <td>-6.677909</td>\n",
       "    </tr>\n",
       "    <tr>\n",
       "      <th>2002-09-03</th>\n",
       "      <td>-11.985902</td>\n",
       "      <td>-12.161442</td>\n",
       "      <td>60.848448</td>\n",
       "      <td>-6.248310</td>\n",
       "    </tr>\n",
       "    <tr>\n",
       "      <th>2002-09-04</th>\n",
       "      <td>-12.581613</td>\n",
       "      <td>-11.248297</td>\n",
       "      <td>60.504354</td>\n",
       "      <td>-6.408271</td>\n",
       "    </tr>\n",
       "    <tr>\n",
       "      <th>2002-09-05</th>\n",
       "      <td>-13.733525</td>\n",
       "      <td>-10.625722</td>\n",
       "      <td>58.903688</td>\n",
       "      <td>-5.788621</td>\n",
       "    </tr>\n",
       "    <tr>\n",
       "      <th>2002-09-06</th>\n",
       "      <td>-13.257015</td>\n",
       "      <td>-10.091945</td>\n",
       "      <td>58.625660</td>\n",
       "      <td>-4.776391</td>\n",
       "    </tr>\n",
       "    <tr>\n",
       "      <th>2002-09-07</th>\n",
       "      <td>-12.855639</td>\n",
       "      <td>-8.795421</td>\n",
       "      <td>59.073399</td>\n",
       "      <td>-4.017372</td>\n",
       "    </tr>\n",
       "    <tr>\n",
       "      <th>2002-09-08</th>\n",
       "      <td>-11.482862</td>\n",
       "      <td>-9.402805</td>\n",
       "      <td>58.042510</td>\n",
       "      <td>-3.530595</td>\n",
       "    </tr>\n",
       "    <tr>\n",
       "      <th>2002-09-09</th>\n",
       "      <td>-10.850022</td>\n",
       "      <td>-9.553852</td>\n",
       "      <td>57.214538</td>\n",
       "      <td>-4.053349</td>\n",
       "    </tr>\n",
       "    <tr>\n",
       "      <th>2002-09-10</th>\n",
       "      <td>-12.208049</td>\n",
       "      <td>-9.259484</td>\n",
       "      <td>58.237309</td>\n",
       "      <td>-3.971102</td>\n",
       "    </tr>\n",
       "    <tr>\n",
       "      <th>2002-09-11</th>\n",
       "      <td>-12.401630</td>\n",
       "      <td>-9.367988</td>\n",
       "      <td>58.999006</td>\n",
       "      <td>-3.615675</td>\n",
       "    </tr>\n",
       "    <tr>\n",
       "      <th>2002-09-12</th>\n",
       "      <td>-14.382630</td>\n",
       "      <td>-7.615701</td>\n",
       "      <td>61.633138</td>\n",
       "      <td>-2.822245</td>\n",
       "    </tr>\n",
       "    <tr>\n",
       "      <th>2002-09-13</th>\n",
       "      <td>-14.385503</td>\n",
       "      <td>-5.825456</td>\n",
       "      <td>62.643005</td>\n",
       "      <td>-2.631831</td>\n",
       "    </tr>\n",
       "    <tr>\n",
       "      <th>2002-09-14</th>\n",
       "      <td>-14.670608</td>\n",
       "      <td>-6.534945</td>\n",
       "      <td>63.046983</td>\n",
       "      <td>-2.521697</td>\n",
       "    </tr>\n",
       "    <tr>\n",
       "      <th>2002-09-15</th>\n",
       "      <td>-15.424981</td>\n",
       "      <td>-6.552120</td>\n",
       "      <td>64.461886</td>\n",
       "      <td>-3.493400</td>\n",
       "    </tr>\n",
       "    <tr>\n",
       "      <th>2002-09-16</th>\n",
       "      <td>-13.875303</td>\n",
       "      <td>-7.511547</td>\n",
       "      <td>64.741750</td>\n",
       "      <td>-4.255253</td>\n",
       "    </tr>\n",
       "    <tr>\n",
       "      <th>2002-09-17</th>\n",
       "      <td>-13.574444</td>\n",
       "      <td>-7.407093</td>\n",
       "      <td>64.003745</td>\n",
       "      <td>-3.096605</td>\n",
       "    </tr>\n",
       "    <tr>\n",
       "      <th>2002-09-18</th>\n",
       "      <td>-13.843896</td>\n",
       "      <td>-7.287694</td>\n",
       "      <td>64.860323</td>\n",
       "      <td>-3.211695</td>\n",
       "    </tr>\n",
       "    <tr>\n",
       "      <th>2002-09-19</th>\n",
       "      <td>-13.444606</td>\n",
       "      <td>-8.069938</td>\n",
       "      <td>66.156664</td>\n",
       "      <td>-3.679680</td>\n",
       "    </tr>\n",
       "    <tr>\n",
       "      <th>2002-09-20</th>\n",
       "      <td>-14.319578</td>\n",
       "      <td>-6.771972</td>\n",
       "      <td>64.871045</td>\n",
       "      <td>-4.633304</td>\n",
       "    </tr>\n",
       "    <tr>\n",
       "      <th>2002-09-21</th>\n",
       "      <td>-15.126463</td>\n",
       "      <td>-7.993281</td>\n",
       "      <td>65.080881</td>\n",
       "      <td>-3.497950</td>\n",
       "    </tr>\n",
       "    <tr>\n",
       "      <th>2002-09-22</th>\n",
       "      <td>-14.717619</td>\n",
       "      <td>-8.359075</td>\n",
       "      <td>65.765170</td>\n",
       "      <td>-5.577461</td>\n",
       "    </tr>\n",
       "    <tr>\n",
       "      <th>2002-09-23</th>\n",
       "      <td>-13.763743</td>\n",
       "      <td>-8.046417</td>\n",
       "      <td>66.821624</td>\n",
       "      <td>-5.256422</td>\n",
       "    </tr>\n",
       "    <tr>\n",
       "      <th>2002-09-24</th>\n",
       "      <td>-15.111257</td>\n",
       "      <td>-5.814779</td>\n",
       "      <td>66.104899</td>\n",
       "      <td>-6.185853</td>\n",
       "    </tr>\n",
       "    <tr>\n",
       "      <th>2002-09-25</th>\n",
       "      <td>-14.890142</td>\n",
       "      <td>-5.402545</td>\n",
       "      <td>65.420458</td>\n",
       "      <td>-5.578971</td>\n",
       "    </tr>\n",
       "    <tr>\n",
       "      <th>2002-09-26</th>\n",
       "      <td>-14.917314</td>\n",
       "      <td>-5.732310</td>\n",
       "      <td>63.944766</td>\n",
       "      <td>-6.181776</td>\n",
       "    </tr>\n",
       "  </tbody>\n",
       "</table>\n",
       "<p>1000 rows × 4 columns</p>\n",
       "</div>"
      ],
      "text/plain": [
       "                    A          B          C         D\n",
       "2000-01-01  -1.170941   0.688051  -0.383810  0.837035\n",
       "2000-01-02  -1.325416   0.061442  -1.080497  0.281412\n",
       "2000-01-03  -0.687276   0.916830  -2.839985  1.852432\n",
       "2000-01-04  -1.288728  -0.242376  -3.791390  1.309750\n",
       "2000-01-05  -0.937522  -0.779122  -5.202554  2.219908\n",
       "2000-01-06  -2.136242  -0.693236  -6.256821  3.015780\n",
       "2000-01-07  -1.412520  -2.517668  -5.712015  3.805923\n",
       "2000-01-08  -0.049283  -1.716615  -7.405345  4.770589\n",
       "2000-01-09   0.592184  -0.617583  -7.339519  3.694828\n",
       "2000-01-10   1.378037   0.110647  -5.297688  3.467191\n",
       "2000-01-11   2.474387  -0.083230  -4.153509  3.091714\n",
       "2000-01-12   1.621882   0.016834  -7.112481  1.237205\n",
       "2000-01-13   1.246822  -1.368471  -5.531885  0.338128\n",
       "2000-01-14   1.978975  -0.527194  -5.112244  1.466986\n",
       "2000-01-15   1.450342   0.450082  -4.731543  3.673504\n",
       "2000-01-16   1.948955   1.059912  -6.297084  4.191426\n",
       "2000-01-17   2.035009   2.273572  -6.637326  3.746256\n",
       "2000-01-18   1.550255   3.503449  -6.578056  4.099211\n",
       "2000-01-19   1.864008   4.212954  -7.183693  2.888867\n",
       "2000-01-20  -0.075277   5.007933  -7.093309  4.735946\n",
       "2000-01-21  -1.140021   6.814976  -6.716311  5.306338\n",
       "2000-01-22   1.162872   6.534765  -6.110653  5.233384\n",
       "2000-01-23   1.760717   5.714708  -4.054118  4.785703\n",
       "2000-01-24   0.536450   5.849652  -3.765441  3.989357\n",
       "2000-01-25   0.506539   6.692062  -4.821839  3.023168\n",
       "2000-01-26   0.958889   6.568955  -4.259598  2.421934\n",
       "2000-01-27  -0.172696   4.921587  -4.413335  2.314551\n",
       "2000-01-28   0.165740   5.134014  -3.341849  1.133864\n",
       "2000-01-29   0.093579   4.991880  -4.020020  2.081721\n",
       "2000-01-30   0.424503   4.328352  -3.503704  2.303425\n",
       "...               ...        ...        ...       ...\n",
       "2002-08-28  -9.441308 -10.407354  60.908649 -3.372065\n",
       "2002-08-29 -10.022290 -10.300304  59.022868 -4.729307\n",
       "2002-08-30 -10.771862 -10.121161  59.190720 -4.776657\n",
       "2002-08-31 -11.397452 -10.721580  59.955429 -4.837409\n",
       "2002-09-01 -12.606183 -12.794658  60.073882 -6.897691\n",
       "2002-09-02 -11.490124 -12.763907  60.835452 -6.677909\n",
       "2002-09-03 -11.985902 -12.161442  60.848448 -6.248310\n",
       "2002-09-04 -12.581613 -11.248297  60.504354 -6.408271\n",
       "2002-09-05 -13.733525 -10.625722  58.903688 -5.788621\n",
       "2002-09-06 -13.257015 -10.091945  58.625660 -4.776391\n",
       "2002-09-07 -12.855639  -8.795421  59.073399 -4.017372\n",
       "2002-09-08 -11.482862  -9.402805  58.042510 -3.530595\n",
       "2002-09-09 -10.850022  -9.553852  57.214538 -4.053349\n",
       "2002-09-10 -12.208049  -9.259484  58.237309 -3.971102\n",
       "2002-09-11 -12.401630  -9.367988  58.999006 -3.615675\n",
       "2002-09-12 -14.382630  -7.615701  61.633138 -2.822245\n",
       "2002-09-13 -14.385503  -5.825456  62.643005 -2.631831\n",
       "2002-09-14 -14.670608  -6.534945  63.046983 -2.521697\n",
       "2002-09-15 -15.424981  -6.552120  64.461886 -3.493400\n",
       "2002-09-16 -13.875303  -7.511547  64.741750 -4.255253\n",
       "2002-09-17 -13.574444  -7.407093  64.003745 -3.096605\n",
       "2002-09-18 -13.843896  -7.287694  64.860323 -3.211695\n",
       "2002-09-19 -13.444606  -8.069938  66.156664 -3.679680\n",
       "2002-09-20 -14.319578  -6.771972  64.871045 -4.633304\n",
       "2002-09-21 -15.126463  -7.993281  65.080881 -3.497950\n",
       "2002-09-22 -14.717619  -8.359075  65.765170 -5.577461\n",
       "2002-09-23 -13.763743  -8.046417  66.821624 -5.256422\n",
       "2002-09-24 -15.111257  -5.814779  66.104899 -6.185853\n",
       "2002-09-25 -14.890142  -5.402545  65.420458 -5.578971\n",
       "2002-09-26 -14.917314  -5.732310  63.944766 -6.181776\n",
       "\n",
       "[1000 rows x 4 columns]"
      ]
     },
     "execution_count": 152,
     "metadata": {},
     "output_type": "execute_result"
    }
   ],
   "source": [
    "pd.read_excel('foo.xlsx', 'Sheet1', index_col=None, na_values=['NA'])"
   ]
  },
  {
   "cell_type": "markdown",
   "metadata": {
    "colab_type": "text",
    "id": "fBibp76_3IjV"
   },
   "source": [
    "## Gotchas (잡았다!)"
   ]
  },
  {
   "cell_type": "markdown",
   "metadata": {
    "colab_type": "text",
    "id": "IwTGemuB31es"
   },
   "source": [
    "연산을 수행하기 위해 시도하면 다음과 같은 예외 상황을 볼 수도 있습니다."
   ]
  },
  {
   "cell_type": "code",
   "execution_count": 153,
   "metadata": {
    "colab": {
     "autoexec": {
      "startup": false,
      "wait_interval": 0
     }
    },
    "colab_type": "code",
    "id": "7Pl6ilbuLNju",
    "outputId": "bacf7033-4d39-418f-d128-a25eb517b02a"
   },
   "outputs": [
    {
     "ename": "ValueError",
     "evalue": "The truth value of a Series is ambiguous. Use a.empty, a.bool(), a.item(), a.any() or a.all().",
     "output_type": "error",
     "traceback": [
      "\u001b[1;31m---------------------------------------------------------------------------\u001b[0m",
      "\u001b[1;31mValueError\u001b[0m                                Traceback (most recent call last)",
      "\u001b[1;32m<ipython-input-153-9cae3ab0f79f>\u001b[0m in \u001b[0;36m<module>\u001b[1;34m()\u001b[0m\n\u001b[1;32m----> 1\u001b[1;33m \u001b[1;32mif\u001b[0m \u001b[0mpd\u001b[0m\u001b[1;33m.\u001b[0m\u001b[0mSeries\u001b[0m\u001b[1;33m(\u001b[0m\u001b[1;33m[\u001b[0m\u001b[1;32mFalse\u001b[0m\u001b[1;33m,\u001b[0m \u001b[1;32mTrue\u001b[0m\u001b[1;33m,\u001b[0m \u001b[1;32mFalse\u001b[0m\u001b[1;33m]\u001b[0m\u001b[1;33m)\u001b[0m\u001b[1;33m:\u001b[0m\u001b[1;33m\u001b[0m\u001b[0m\n\u001b[0m\u001b[0;32m      2\u001b[0m     \u001b[0mprint\u001b[0m\u001b[1;33m(\u001b[0m\u001b[1;34m\"I was true\"\u001b[0m\u001b[1;33m)\u001b[0m\u001b[1;33m\u001b[0m\u001b[0m\n",
      "\u001b[1;32mC:\\Users\\Admin\\Anaconda3\\lib\\site-packages\\pandas\\core\\generic.py\u001b[0m in \u001b[0;36m__nonzero__\u001b[1;34m(self)\u001b[0m\n\u001b[0;32m    951\u001b[0m         raise ValueError(\"The truth value of a {0} is ambiguous. \"\n\u001b[0;32m    952\u001b[0m                          \u001b[1;34m\"Use a.empty, a.bool(), a.item(), a.any() or a.all().\"\u001b[0m\u001b[1;33m\u001b[0m\u001b[0m\n\u001b[1;32m--> 953\u001b[1;33m                          .format(self.__class__.__name__))\n\u001b[0m\u001b[0;32m    954\u001b[0m \u001b[1;33m\u001b[0m\u001b[0m\n\u001b[0;32m    955\u001b[0m     \u001b[0m__bool__\u001b[0m \u001b[1;33m=\u001b[0m \u001b[0m__nonzero__\u001b[0m\u001b[1;33m\u001b[0m\u001b[0m\n",
      "\u001b[1;31mValueError\u001b[0m: The truth value of a Series is ambiguous. Use a.empty, a.bool(), a.item(), a.any() or a.all()."
     ]
    }
   ],
   "source": [
    "if pd.Series([False, True, False]):\n",
    "    print(\"I was true\")"
   ]
  },
  {
   "cell_type": "markdown",
   "metadata": {},
   "source": [
    "이러한 경우에는, any(), all() or empty 등을 사용해서 무엇을 원하는지를 선택(반영)해주어야 합니다."
   ]
  },
  {
   "cell_type": "code",
   "execution_count": null,
   "metadata": {},
   "outputs": [],
   "source": [
    "if pd.Series([False, True, False])is not None:\n",
    "      print(\"I was not None\")"
   ]
  },
  {
   "cell_type": "markdown",
   "metadata": {
    "colab_type": "text",
    "id": "8wpBt_ePLNjy"
   },
   "source": [
    "설명과 무엇을 해야하는지에 대해서는 [비교](https://pandas.pydata.org/pandas-docs/stable/basics.html#basics-compare) 부분을 참조하세요.\n",
    "\n",
    "[Gotchas](https://pandas.pydata.org/pandas-docs/stable/gotchas.html#gotchas) 부분도 참조하세요."
   ]
  }
 ],
 "metadata": {
  "accelerator": "GPU",
  "colab": {
   "collapsed_sections": [
    "DeXaTXAdp6ne",
    "izNpv79bsGV7",
    "v7BFmgcRLNif",
    "ZYenx0CU2Lvc"
   ],
   "default_view": {},
   "name": "index.ipynb",
   "provenance": [
    {
     "file_id": "1mTikbQ3t91wuldPLPiSTo5hPiH3DfV2j",
     "timestamp": 1531746201600
    }
   ],
   "version": "0.3.2",
   "views": {}
  },
  "kernelspec": {
   "display_name": "Python 3",
   "language": "python",
   "name": "python3"
  },
  "language_info": {
   "codemirror_mode": {
    "name": "ipython",
    "version": 3
   },
   "file_extension": ".py",
   "mimetype": "text/x-python",
   "name": "python",
   "nbconvert_exporter": "python",
   "pygments_lexer": "ipython3",
   "version": "3.6.5"
  }
 },
 "nbformat": 4,
 "nbformat_minor": 1
}
